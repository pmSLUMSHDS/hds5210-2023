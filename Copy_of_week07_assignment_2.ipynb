{
  "cells": [
    {
      "cell_type": "markdown",
      "metadata": {
        "id": "view-in-github",
        "colab_type": "text"
      },
      "source": [
        "<a href=\"https://colab.research.google.com/github/pmSLUMSHDS/hds5210-2023/blob/main/Copy_of_week07_assignment_2.ipynb\" target=\"_parent\"><img src=\"https://colab.research.google.com/assets/colab-badge.svg\" alt=\"Open In Colab\"/></a>"
      ]
    },
    {
      "cell_type": "markdown",
      "metadata": {
        "id": "pEJH9paS1_bF"
      },
      "source": [
        "# Week 7 Assignment\n",
        "\n",
        "We've been working with different types of data structures in Python (dictionary, list, etc), how those are represented in JSON documents, and how to write code to access specific data elements. In this week's assignment, you will need to create your own JSON document to store information about yourself and the grades you've received from week 1 to week 4 and the week 6 quiz.  That is, everything you should have received a grade for.  Then you'll need to show me you know how to navigate the JSON in that file.\n",
        "\n",
        "Different from what we've done in the past, you do not have to write any functions or include any docstrings.  Just create some JSON and write some code.\n",
        "\n",
        "---"
      ]
    },
    {
      "cell_type": "markdown",
      "metadata": {
        "id": "u-RJjELT1_bH"
      },
      "source": [
        "## 7.1 Create a JSON string\n",
        "\n",
        "Create a JSON string that contains your name, email, year you were born, all of the grades you've received back so far, and a comment about what you thought was most challenging on each of those assignments.  This can be any structure you choose, but make sure it uses a dictionary and a list, and has at least two levels of hierarchy.  That is, it can't just be one big long list."
      ]
    },
    {
      "cell_type": "markdown",
      "metadata": {
        "id": "njh0KHJ-1_bH"
      },
      "source": [
        "First, explain how your data structure is going to look..."
      ]
    },
    {
      "cell_type": "markdown",
      "metadata": {
        "id": "8T4CXly61_bH"
      },
      "source": [
        "* Put your explanation here in text...\n",
        "\n",
        "I will start with \"student\" as the initial dictionary. Then the list of dictionaries with the first tier will as \"personal info\" where the name, email, and DOB wil be located inside another dictionary. Then the next level will be \"grades\" where it will list the class and then inside there another dictionary with each week and the grades."
      ]
    },
    {
      "cell_type": "markdown",
      "metadata": {
        "id": "sCQHrnWe1_bH"
      },
      "source": [
        "Then put the actual JSON you've created inside the multiline string below..."
      ]
    },
    {
      "cell_type": "code",
      "execution_count": null,
      "metadata": {
        "id": "L2evgazu1_bH"
      },
      "outputs": [],
      "source": [
        "hds5210 = \"\"\"\n",
        "{\n",
        "  \"student\": [\n",
        "    {\n",
        "      \"personalInfo\": {\n",
        "        \"name\": \"Penelope McCoo\",\n",
        "        \"email\": \"pmccoo@slu.edu\",\n",
        "        \"YOB\": \"1970\"\n",
        "        },\n",
        "        \"grades\": [\n",
        "          {\n",
        "            \"HDS-5210-01\": {\n",
        "              \"week01\": \"5/5\",\n",
        "              \"week02\": \"20.5/20\",\n",
        "              \"week03\": \"19.5/20\",\n",
        "              \"week04\": \"16.5/20\",\n",
        "              \"week05\": \"20/20\",\n",
        "              \"comments\": \"The most challenging part is not being able to ask questions and get immediate answers like the classroom setting. Waiting for responses when you have limited time available to to do the homework but cannot proceed until you've heard back, can be very frustrating. Taking this program of classes while working full-time has me questioning several of my life's choices :)\"\n",
        "            }\n",
        "          }\n",
        "        ]\n",
        "      }\n",
        "    }\n",
        "  ]\n",
        "}\n",
        "\"\"\""
      ]
    },
    {
      "cell_type": "markdown",
      "metadata": {
        "id": "dS7tcp7o1_bI"
      },
      "source": [
        "## 7.2 Do something with your JSON\n",
        "\n",
        "Now use Python code to do something with the Json above.  Turn it into English text, but make sure that you use at least one loop to access some dict or list content of your JSON.  Below, I've provided some basic code to read in the string above as JSON and return a Python object.  Your job is to work with that data structure and print out the important information like your name, email, and how you did on each assignment."
      ]
    },
    {
      "cell_type": "code",
      "execution_count": null,
      "metadata": {
        "id": "9UIilo771_bI"
      },
      "outputs": [],
      "source": [
        "import json\n",
        "\n",
        "info = json.loads(hds5210)\n",
        "# Put your code to output a paragraph of English text here\n",
        "\n"
      ]
    },
    {
      "cell_type": "markdown",
      "metadata": {
        "id": "y0rC3rBA1_bJ"
      },
      "source": [
        "## 7.3 Reflect\n",
        "\n",
        "Write a paragraph on any reflections you have. Was this hard? Easy?  What parts were most challenging or easiest? What did you like or dislike about the assignment?  Share whatever important thoughts you have abou this assignment."
      ]
    },
    {
      "cell_type": "markdown",
      "metadata": {
        "id": "zAra22z81_bJ"
      },
      "source": [
        "* Put your response here\n",
        "\n",
        "This was challenging but in a different way."
      ]
    },
    {
      "cell_type": "markdown",
      "metadata": {
        "id": "iMbeF-0K1_bJ"
      },
      "source": [
        "---\n",
        "\n",
        "# Example\n",
        "\n",
        "Below is an example of something similar, but this uses information my and my friend's kids instead of grades."
      ]
    },
    {
      "cell_type": "code",
      "execution_count": null,
      "metadata": {
        "id": "YhvVKmln1_bJ",
        "outputId": "ee3262d6-20fb-409c-b72a-a4a4262d2c4c"
      },
      "outputs": [
        {
          "name": "stdout",
          "output_type": "stream",
          "text": [
            "Hi, my name is Paul. I've got 3 kids. Their names are Ellie, Ada, Teddy.\n",
            "My friend, Anny has 1 kids. That's fewer than me. Their names are 1\n"
          ]
        }
      ],
      "source": [
        "hds5210 = \"\"\"\n",
        "{\n",
        "    \"me\": {\n",
        "        \"name\": \"Paul\",\n",
        "        \"kids\": [\"Ellie\", \"Ada\", \"Teddy\"]\n",
        "    },\n",
        "    \"friend\": {\n",
        "        \"name\": \"Anny\",\n",
        "        \"kids\": [\"Abby\"]\n",
        "    }\n",
        "}\n",
        "\"\"\"\n",
        "\n",
        "import json\n",
        "\n",
        "info = json.loads(hds5210)\n",
        "\n",
        "me = info[\"me\"][\"name\"]\n",
        "my_kids_count = len(info[\"me\"][\"kids\"])\n",
        "kids_list = \", \".join(info[\"me\"][\"kids\"])\n",
        "friend = info[\"friend\"][\"name\"]\n",
        "friends_kid_count = len(info[\"friend\"][\"kids\"])\n",
        "friend_kids = \", \".join(info[\"friend\"][\"kids\"])\n",
        "compare = \"more\" if friends_kid_count > my_kids_count else \"fewer\"\n",
        "\n",
        "print(f\"Hi, my name is {me}. I've got {my_kids_count} kids. Their names are {kids_list}.\")\n",
        "print(f\"My friend, {friend} has {friends_kid_count} kids. That's {compare} than me. Their names are {friends_kid_count}\")"
      ]
    }
  ],
  "metadata": {
    "kernelspec": {
      "display_name": "Python 3",
      "language": "python",
      "name": "python3"
    },
    "language_info": {
      "codemirror_mode": {
        "name": "ipython",
        "version": 3
      },
      "file_extension": ".py",
      "mimetype": "text/x-python",
      "name": "python",
      "nbconvert_exporter": "python",
      "pygments_lexer": "ipython3",
      "version": "3.9.16"
    },
    "colab": {
      "provenance": [],
      "include_colab_link": true
    }
  },
  "nbformat": 4,
  "nbformat_minor": 0
}