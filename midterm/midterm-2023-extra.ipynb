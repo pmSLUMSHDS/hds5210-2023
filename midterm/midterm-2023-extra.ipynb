{
  "cells": [
    {
      "cell_type": "markdown",
      "metadata": {
        "id": "view-in-github",
        "colab_type": "text"
      },
      "source": [
        "<a href=\"https://colab.research.google.com/github/pmSLUMSHDS/hds5210-2023/blob/main/midterm/midterm-2023-extra.ipynb\" target=\"_parent\"><img src=\"https://colab.research.google.com/assets/colab-badge.svg\" alt=\"Open In Colab\"/></a>"
      ]
    },
    {
      "cell_type": "markdown",
      "metadata": {
        "id": "aJr1aGWaUY32"
      },
      "source": [
        "# Extra Credit\n",
        "\n",
        "For upto an additional 15 extra credit points on the midterm exam, you can write another function that applies additional criteria on top of what the midterm already did.  To earn the addition points, you need write a function called `summarize_results(patients)` to take the output of your  `process_people()` function to apply a new business rule and summarize the results.\n",
        "\n",
        "* Your function should take the dictionary created by `process_people()` as it's one input parameter: `patients`.\n",
        "* If the PRIEST probably is less than 10%, change the `hospital` and `address` to both have a value of `'Home'` indicating patients with a lower probability of an adverse outcome can just go home rather than be admitted to a hospital.\n",
        "* Summarize those results and count how many patients are now being sent to each location.  Your result should have the following format:\n",
        "```\n",
        "{\n",
        "    \"Home\": 123,\n",
        "    \"Hospital A\": 10,\n",
        "    \"Hospital B\": 20,\n",
        "    \"Hospital C\": 30\n",
        "}\n",
        "```\n",
        "\n",
        "As always, your function needs good docstrings; but does not require any doctests in this case."
      ]
    },
    {
      "cell_type": "code",
      "execution_count": 6,
      "metadata": {
        "id": "h0y9PYvPUY34"
      },
      "outputs": [],
      "source": [
        "import requests\n",
        "\n",
        "def summarize_results(patients):\n",
        "\n",
        "    patients = \"https://hds5210-data.s3.amazonaws.com/people_results.json\"\n",
        "\n",
        "    patient_info = requests.get(patients)\n",
        "\n",
        "\n",
        "    if patient_info.status_code == 200:\n",
        "        patient_data = patient_info.json()\n",
        "\n",
        "    #priest_count = 0\n",
        "    #hospital_count = set()\n",
        "    hospital_count = []\n",
        "    #for patient in patients:\n",
        "        #priest_score = patient[ ]\n",
        "    for key, value in patient_data.items():\n",
        "        priest_score = value[10]\n",
        "        hospital_name = value[11]\n",
        "        hospital_address = value[12]\n",
        "        if priest_score < 0.10:\n",
        "            #hospital_name.update = \"Home\"\n",
        "            #hospital_address.update = \"Home\"\n",
        "            patient_info[11] = 'Home'\n",
        "            patient_info[12] = 'Home'\n",
        "            #priest_count += 1\n",
        "        for hospital_name in patient_data.items():\n",
        "            if hospital_name in hospital_count:\n",
        "                hospital_count[hospital_name] += 1\n",
        "            else:\n",
        "                hospital_count[hospital_name] = 1\n",
        "                #hospital_count.add(hospital_name)\n",
        "                 #hospital_count.append(hospital_name)\n",
        "        else:\n",
        "            pass\n",
        "    else:\n",
        "      return None\n",
        "\n",
        "    return hospital_count\n",
        "\n",
        "\n",
        "        #number_hospitals = len(hospital_count)\n",
        "\n",
        "\n"
      ]
    },
    {
      "cell_type": "code",
      "execution_count": 7,
      "metadata": {
        "id": "vu89f3jIUY34",
        "outputId": "86670c8c-1955-43a5-e7ce-1164042628fa",
        "colab": {
          "base_uri": "https://localhost:8080/",
          "height": 327
        }
      },
      "outputs": [
        {
          "output_type": "error",
          "ename": "TypeError",
          "evalue": "ignored",
          "traceback": [
            "\u001b[0;31m---------------------------------------------------------------------------\u001b[0m",
            "\u001b[0;31mTypeError\u001b[0m                                 Traceback (most recent call last)",
            "\u001b[0;32m<ipython-input-7-9ea025106525>\u001b[0m in \u001b[0;36m<cell line: 2>\u001b[0;34m()\u001b[0m\n\u001b[1;32m      1\u001b[0m \u001b[0murl_file\u001b[0m \u001b[0;34m=\u001b[0m \u001b[0;34m\"https://hds5210-data.s3.amazonaws.com/people_results.json\"\u001b[0m\u001b[0;34m\u001b[0m\u001b[0;34m\u001b[0m\u001b[0m\n\u001b[0;32m----> 2\u001b[0;31m \u001b[0mcomplete_info\u001b[0m \u001b[0;34m=\u001b[0m \u001b[0msummarize_results\u001b[0m\u001b[0;34m(\u001b[0m\u001b[0murl_file\u001b[0m\u001b[0;34m)\u001b[0m\u001b[0;34m\u001b[0m\u001b[0;34m\u001b[0m\u001b[0m\n\u001b[0m\u001b[1;32m      3\u001b[0m \u001b[0mprint\u001b[0m\u001b[0;34m(\u001b[0m\u001b[0mcomplete_info\u001b[0m\u001b[0;34m)\u001b[0m\u001b[0;34m\u001b[0m\u001b[0;34m\u001b[0m\u001b[0m\n",
            "\u001b[0;32m<ipython-input-6-6584fb9248f3>\u001b[0m in \u001b[0;36msummarize_results\u001b[0;34m(patients)\u001b[0m\n\u001b[1;32m     30\u001b[0m                 \u001b[0mhospital_count\u001b[0m\u001b[0;34m[\u001b[0m\u001b[0mhospital_name\u001b[0m\u001b[0;34m]\u001b[0m \u001b[0;34m+=\u001b[0m \u001b[0;36m1\u001b[0m\u001b[0;34m\u001b[0m\u001b[0;34m\u001b[0m\u001b[0m\n\u001b[1;32m     31\u001b[0m             \u001b[0;32melse\u001b[0m\u001b[0;34m:\u001b[0m\u001b[0;34m\u001b[0m\u001b[0;34m\u001b[0m\u001b[0m\n\u001b[0;32m---> 32\u001b[0;31m                 \u001b[0mhospital_count\u001b[0m\u001b[0;34m[\u001b[0m\u001b[0mhospital_name\u001b[0m\u001b[0;34m]\u001b[0m \u001b[0;34m=\u001b[0m \u001b[0;36m1\u001b[0m\u001b[0;34m\u001b[0m\u001b[0;34m\u001b[0m\u001b[0m\n\u001b[0m\u001b[1;32m     33\u001b[0m                 \u001b[0;31m#hospital_count.add(hospital_name)\u001b[0m\u001b[0;34m\u001b[0m\u001b[0;34m\u001b[0m\u001b[0m\n\u001b[1;32m     34\u001b[0m                  \u001b[0;31m#hospital_count.append(hospital_name)\u001b[0m\u001b[0;34m\u001b[0m\u001b[0;34m\u001b[0m\u001b[0m\n",
            "\u001b[0;31mTypeError\u001b[0m: list indices must be integers or slices, not tuple"
          ]
        }
      ],
      "source": [
        "url_file = \"https://hds5210-data.s3.amazonaws.com/people_results.json\"\n",
        "complete_info = summarize_results(url_file)\n",
        "print(complete_info)"
      ]
    }
  ],
  "metadata": {
    "kernelspec": {
      "display_name": ".venv",
      "language": "python",
      "name": "python3"
    },
    "language_info": {
      "codemirror_mode": {
        "name": "ipython",
        "version": 3
      },
      "file_extension": ".py",
      "mimetype": "text/x-python",
      "name": "python",
      "nbconvert_exporter": "python",
      "pygments_lexer": "ipython3",
      "version": "3.9.16"
    },
    "colab": {
      "provenance": [],
      "include_colab_link": true
    }
  },
  "nbformat": 4,
  "nbformat_minor": 0
}