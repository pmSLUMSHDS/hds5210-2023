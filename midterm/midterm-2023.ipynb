{
  "cells": [
    {
      "cell_type": "markdown",
      "metadata": {
        "id": "view-in-github",
        "colab_type": "text"
      },
      "source": [
        "<a href=\"https://colab.research.google.com/github/pmSLUMSHDS/hds5210-2023/blob/main/midterm/midterm-2023.ipynb\" target=\"_parent\"><img src=\"https://colab.research.google.com/assets/colab-badge.svg\" alt=\"Open In Colab\"/></a>"
      ]
    },
    {
      "cell_type": "markdown",
      "metadata": {
        "id": "m1dJ-gDviMLy"
      },
      "source": [
        "# HDS5210-2022 Midterm\n",
        "\n",
        "In the midterm, you're going to use all the programming and data management skills you've developed so far to build a risk calculator that pretends to be integrated with a clinical registry.  You'll compute the PRIEST COVID-19 Clinical Severity Score for a series of patients and, based on their risk of an adverse outcome, query a REST web service to find a hospital to transfer them to. The end result of your work will be a list of instructions on where each patient should be discharged given their risk and various characteristics of the patient.\n",
        "\n",
        "Each step in the midterm will build up to form your complete solution.\n",
        "\n",
        "**Make sure you write good docstrings and doctests along the way!!**\n",
        "\n",
        "**The midterm is due at 11:59 PM CST on Monday, October 23rd.**\n",
        "\n",
        "---"
      ]
    },
    {
      "cell_type": "markdown",
      "metadata": {
        "id": "UsaGg-kgiML0"
      },
      "source": [
        "## Step 1: Calculate PRIEST Clinical Severity Score\n",
        "\n",
        "This scoring algorithm can be found [here on the MDCalc website](https://www.mdcalc.com/priest-covid-19-clinical-severity-score#evidence).  \n",
        "\n",
        "1. You will need to write a function called **priest()** with the following input parameters.  \n",
        " * Sex (Gender assigned at birth)\n",
        " * Age in years\n",
        " * Respiratory rate in breaths per minute\n",
        " * Oxygen saturation as a percent between 0 and 1\n",
        " * Heart rate in beats per minute\n",
        " * Systolic BP in mmHg\n",
        " * Temperature in degrees C\n",
        " * Alertness as a string description\n",
        " * Inspired Oxygen as as string description\n",
        " * Performance Status as a string description\n",
        "2. The function will need to follow the algorithm provided on the MDCalc website to compute a risk percentage that should be returned as a numeric value between 0 and 1.\n",
        "3. Be sure to use docstring documentation and at least three built-in docstring test cases.\n",
        "4. Assume that the input values that are strings could be any combination of upper or lower case. For example: 'male', 'Male', 'MALE', 'MalE' should all be interpretted by your code as male.\n",
        "5. If any of the inputs are invalid (for example a sex value that is not recognizable as male or female) your code should return None.\n",
        "\n",
        "NOTES:\n",
        "1. In the final step there is a table that translates from **PRIEST Score** to **30-day probability of an outcome** but the last two probabilities are shown as ranges (59-88% and >99%).  Our code needs to output a single number, however. For our code, use the following rule:\n",
        " * If PRIEST score is between 17 and 25, the probability you return should be 0.59\n",
        " * If PRIEST score is greater than or equal to 26, the probability you return should be 0.99\n"
      ]
    },
    {
      "cell_type": "markdown",
      "source": [
        "analyzing problem....10 inputs, strings can be any combination of upper and lower. Optional book Matthes, E, Python Crash Course- A Hands-On, Project-Based Introduction to Programming (2023), page 20 details dealing with mixed-case and how to change to all upper or all lower with .upper and .lower. Will give .lower a try\n",
        "\n",
        "first thought is to just list it all out in if-elif-else statements, with all of the else statements being None to account for any invalid inputs or anything not in the ranges specified\n",
        "\n",
        "need to collect scores in empty { }...or [ ]..???\n",
        "\n",
        "start count at 0....and else statements need to return none"
      ],
      "metadata": {
        "id": "ulNMjvcZiWxD"
      }
    },
    {
      "cell_type": "code",
      "execution_count": 52,
      "metadata": {
        "id": "2LkKmnUZiML1"
      },
      "outputs": [],
      "source": [
        "\n",
        "def priest(sex, age, resp_rate, oxygen_sat, heartrate, systolicBP, temp, alertness, inspiredO2, perform_status): #defining function named priest with 10 inputs\n",
        "    \"\"\" (string, int, int, float, int, int, float, string, string, string) -> int\n",
        "    sex = string (gender at birth)\n",
        "    age = integer (years)\n",
        "    resp_rate = integer (breaths / minute)\n",
        "    oxygen_sat = float (entered as a %, will convert to a float)\n",
        "    heartrate = integer (beats / minute)\n",
        "    systolicBP = integer (mmHg)\n",
        "    temp = float (in Celsius)\n",
        "    alertness = string\n",
        "    inspiredO2 = string\n",
        "    perform_status = string\n",
        "\n",
        "    This funtion takes in 10 different parameters (listed above) and using the algorithm found at https://www.mdcalc.com will calcualte the priest score and corresponding risk % and return that value as a number between 0 and 1 (float).\n",
        "\n",
        "    priest_score = int, will be the total of all individual scores added together\n",
        "    risk_pct = float, using the priest_score to see the associated 30-day probability of adverse outcome\n",
        "\n",
        "    PSEUDOCODE\n",
        "    defined the function priest with 10 inputs listed above\n",
        "    if variable sex (using .lower function to account for all upper and lower case variations) is female, then the score for sex is 0\n",
        "    if variable sex (using .lower function to account for all upper and lower case variations) is male, then the score for sex is 1\n",
        "    otherwise is anything else is entered for sex, return none\n",
        "\n",
        "    if age is 16-49, then age score is 0\n",
        "    if age is 50-65, then age score is 2\n",
        "    if age is 66-80, then age score is 3\n",
        "    if age is greater than 80, then age score is 4\n",
        "    otherwise if any other age is entered outside of those range, return none\n",
        "\n",
        "    if the respiratory rate is less than 9 breaths per minute, then the respiratory score is 3\n",
        "    if the respiratory rate is between 9-11, then the respiratory score is 1\n",
        "    if the respiratory rate is between 12-20, then the respiratory score is 0\n",
        "    if the respiratory rate is between 21-24, then the respiratory score is 2\n",
        "    if the respiratory rate is greater than 24, then the respiratory score is 3\n",
        "\n",
        "    if the oxygen saturation is greater than 0.95, then the oxygen sat score is 0\n",
        "    if the oxygen saturation is 0.94-0.95, then the oxygen sat score is 1\n",
        "    if the oxygen saturation is 0.92-0.93, then the oxygen sat score is 2\n",
        "    if the oxygen saturation is less than 0.92, then the oxygen sat score is 3\n",
        "    otherwise if any other number is entered outside of listed ranges, then return none\n",
        "\n",
        "    if the heartrate is less than 41 beats per minute, then the heartrate score is 3\n",
        "    if the heartrate is between 41-50, then the heartrate score is 1\n",
        "    if the heartrate is between 51-90, then the heartrate score is 0\n",
        "    if the heartrate is between 91-110, then the heartrate score is 1\n",
        "    if the heartrate is between 111-130, then the heartrate score is 2\n",
        "    if the heartrate is greater than 130, then the heartrate score is 3\n",
        "\n",
        "    if the systolic blood pressure is less than 91, then the systolic score is 3\n",
        "    if the systolic blood pressure is between 91-100, then the systolic score is 2\n",
        "    if the systolic blood pressure is between 101-110, then the systolic score is 1\n",
        "    if the systolic blood pressure is between 111-219, then the systolic score is 0\n",
        "    if the systolic blood pressure is greater than 219, then the systolic score is 3\n",
        "    otherwise if any other number is entered for the systolicBP, then return none\n",
        "\n",
        "    if the body temperature is less than 35.1 degrees Celsius, then the temperature score is 3\n",
        "    if the body temperature is between 35.1 and 36.0, then the temperature score is 1\n",
        "    if the body temperature is between 36.1 and 38.0, then the temperature score is 0\n",
        "    if the body temperature is between 38.1 and 39.0, then the temperature score is 1\n",
        "    if the body temperature is greater than 39.0, then the temperature score is 2\n",
        "    otherwise if any other number is entered for the temperature, then return none\n",
        "\n",
        "    if the alertness (using .lower function to account for all upper and lowercase combinations) is given as 'alert', then the alertness score is 0\n",
        "    if the alertness (using .lower function to account for all upper and lowercase combinations) is given as 'confused or not alert', then the alertness score is 3\n",
        "    otherwise if any other answer is entered for alertness, then return none\n",
        "\n",
        "    if the inspired oxygen (using .lower function to account for all upper and lowercase combinations) is given as 'air', then the inspired O2 score is 0\n",
        "    if the inspired oxygen (using .lower function to account for all upper and lowercase combinations) is given as 'supplemental oxygen', then the inspired O2 score is 2\n",
        "    otherwise if any other answer is entered for inspired oxygen, then return none\n",
        "\n",
        "    if the perform status (using .lower function to account for all upper and lowercase combinations) is given as 'unrestricted normal activity', then the perform status score is 0\n",
        "    if the perform status (using .lower function to account for all upper and lowercase combinations) is given as 'limited strenous activity, can do light activity', then the perform status score is 1\n",
        "    if the perform status (using .lower function to account for all upper and lowercase combinations) is given as 'limited activity, can self-care', then the perform status score is 2\n",
        "    if the perform status (using .lower function to account for all upper and lowercase combinations) is given as 'limited self-care', then the perform status score is 3\n",
        "    if the perform status (using .lower function to account for all upper and lowercase combinations) is given as 'bed/chair bound, no self-care', then the perform status score is 4\n",
        "    otherwise is any other answer is entered for perform status, then return none\n",
        "\n",
        "    priest_score equals all the scores just calculated added together, unless none was returned, in which case the priest score is also none\n",
        "\n",
        "    if the priest score is 0-1, then the risk percentage is 0.01\n",
        "    if the priest score is 2-3, then the risk percentage is 0.02\n",
        "    if the priest score is 4, then the risk percentage is 0.03\n",
        "    if the priest score is 5, then the risk percentage is 0.09\n",
        "    if the priest score is 6, then the risk percentage is 0.15\n",
        "    if the priest score is 7, then the risk percentage is 0.18\n",
        "    if the priest score is 8, then the risk percentage is 0.22\n",
        "    if the priest score is 9, then the risk percentage is 0.26\n",
        "    if the priest score is 10, then the risk percentage is 0.29\n",
        "    if the priest score is 11, then the risk percentage is 0.34\n",
        "    if the priest score is 12, then the risk percentage is 0.38\n",
        "    if the priest score is 13, then the risk percentage is 0.46\n",
        "    if the priest score is 14, then the risk percentage is 0.47\n",
        "    if the priest score is 15, then the risk percentage is 0.49\n",
        "    if the priest score is 16, then the risk percentage is 0.55\n",
        "    if the priest score is 17-25, then the risk percentage is 0.59\n",
        "    if the priest score 26 or more, then the risk percentage is 0.99\n",
        "    otherwise if any other number is entered outside of these ranges, then return none\n",
        "\n",
        "    return the priest_score and the associated risk_pct\n",
        "\n",
        "    DOCTESTS\n",
        "\n",
        "    >>> priest(\"maLe\", 23, 27, 0.95, 67, 100, 37.5, \"alert\", \"air\", \"Limited self-care\")\n",
        "    0.29\n",
        "\n",
        "    >>> priest(\"female\", 73, 15, 0.93, 120, 120, 39.2, \"confused or not alert\", \"air\", \"limited strenuous activity, can do light activity\")\n",
        "    0.46\n",
        "\n",
        "    >>> priest(\"MALe\", 60, 20, 0.89, 111, 130, 38.0, \"alert\", \"supplemental oxygen\", \"bed/chair bound, no self-care\")\n",
        "    0.47\n",
        "\n",
        "    \"\"\"\n",
        "\n",
        "    #priest_score = sex_score + age_score + resp_rate_score + oxygen_sat_score + heartrate_score + systolicBP_score + temp_score + alertness_score + inspiredO2_score + perform_status_score\n",
        "\n",
        "\n",
        "    #priest_score = 0\n",
        "\n",
        "\n",
        "    #O2_sat_percent = O2_sat / 100. do I need to convert this number? Or will it be entered correctly as a decimal initially.....\n",
        "    #oxygen_sat_percent = oxygen_sat / 100   #....it is not happy with this....\n",
        "\n",
        "    #googled \"how to turn a percent into a float in python\" which took me to scripteverything.com where they explained the float function, although not convinced I need this info....\n",
        "    #oxygen_sat_percent = float(oxygen_sat) / 100\n",
        "\n",
        "\n",
        "    if sex.lower() == \"female\":\n",
        "        sex_score = 0     #keep counts individually??\n",
        "        #priest_score = priest_score + 0     #or add as I go??\n",
        "    elif sex.lower () == \"male\":\n",
        "        sex_score = 1\n",
        "        #priest_score = priest_score + 1\n",
        "    else:\n",
        "        #sex_score = \"None\"\n",
        "        return None\n",
        "\n",
        "    if age >=16 and age <= 49:\n",
        "        age_score = 0\n",
        "        #priest_score = priest_score + 0\n",
        "    elif age >= 50 and age <= 65:\n",
        "        age_score = 2\n",
        "        #priest_score = priest_score + 2\n",
        "    elif age >= 66 and age <= 80:\n",
        "        age_score = 3\n",
        "        #priest_score = priest_score + 3\n",
        "    elif age > 80:\n",
        "        age_score = 4\n",
        "        #priest_score = priest_score + 4\n",
        "    else:\n",
        "        #age_score = \"None\"\n",
        "        return None\n",
        "\n",
        "    if resp_rate < 9:\n",
        "        resp_rate_score = 3\n",
        "        #priest_score = priest_score + 3\n",
        "    elif resp_rate >= 9 and resp_rate <= 11:\n",
        "        resp_rate_score = 1\n",
        "        #priest_score = priest_score + 1\n",
        "    elif resp_rate >= 12 and resp_rate <= 20:\n",
        "        resp_rate_score = 0\n",
        "        #priest_score = priest_score + 0\n",
        "    elif resp_rate >= 21 and resp_rate <= 24:\n",
        "        resp_rate_score = 2\n",
        "        #priest_score = priest_score + 2\n",
        "    elif resp_rate > 24:\n",
        "        resp_rate_score = 3\n",
        "        #priest_score = priest_score + 3\n",
        "    else:\n",
        "        #resp_rate_score = \"None\"\n",
        "        return None\n",
        "\n",
        "    if oxygen_sat > 0.95:\n",
        "        #O2_sat_percent = O2_sat / 100\n",
        "        oxygen_sat_score = 0\n",
        "        #priest_score = priest_score + 0\n",
        "    elif oxygen_sat >= 0.94 and oxygen_sat <= 0.95:\n",
        "        #O2_sat_percent = O2_sat / 100\n",
        "        oxygen_sat_score = 1\n",
        "        #priest_score = priest_score + 1\n",
        "    elif oxygen_sat >= 0.92 and oxygen_sat <= 0.93:\n",
        "        #O2_sat_percent = O2_sat / 100\n",
        "        oxygen_sat_score = 2\n",
        "        #priest_score = priest_score + 2\n",
        "    elif oxygen_sat < 0.92:\n",
        "        #O2_sat_percent = O2_sat / 100\n",
        "        oxygen_sat_score = 3\n",
        "        #priest_score = priest_score + 3\n",
        "    else:\n",
        "        #O2_sat_score = \"None\"\n",
        "        return None\n",
        "\n",
        "    if heartrate < 41:\n",
        "        heartrate_score = 3\n",
        "        #priest_score = priest_score + 3\n",
        "    elif heartrate >= 41 and heartrate <= 50:\n",
        "        heartrate_score = 1\n",
        "        #priest_score = priest_score + 1\n",
        "    elif heartrate >= 51 and heartrate <= 90:\n",
        "        heartrate_score = 0\n",
        "        #priest_score = priest_score + 0\n",
        "    elif heartrate >= 91 and heartrate <= 110:\n",
        "        heartrate_score = 1\n",
        "        #priest_score = priest_score + 1\n",
        "    elif heartrate >= 111 and heartrate <= 130:\n",
        "        heartrate_score = 2\n",
        "        #priest_score = priest_score + 2\n",
        "    elif heartrate > 130:\n",
        "        heartrate_score = 3\n",
        "        #priest_score = priest_score + 3\n",
        "    else:\n",
        "        #heartrate_score = \"None\"\n",
        "        return None\n",
        "\n",
        "    if systolicBP < 91:\n",
        "        systolicBP_score = 3\n",
        "        #priest_score = priest_score + 3\n",
        "    elif systolicBP >= 91 and systolicBP <= 100:\n",
        "        systolicBP_score = 2\n",
        "        #priest_score = priest_score + 2\n",
        "    elif systolicBP >= 101 and systolicBP <= 110:\n",
        "        systolicBP_score = 1\n",
        "        #priest_score = priest_score + 1\n",
        "    elif systolicBP >= 111 and systolicBP <= 219:\n",
        "        systolicBP_score = 0\n",
        "        #priest_score = priest_score + 0\n",
        "    elif systolicBP > 219:\n",
        "        systolicBP_score = 3\n",
        "        #priest_score = priest_score + 3\n",
        "    else:\n",
        "        #systolicBP_score = \"None\"\n",
        "        return None\n",
        "\n",
        "    if temp < 35.1:\n",
        "        temp_score = 3\n",
        "        #priest_score = priest_score + 3\n",
        "    elif temp >= 35.1 and temp <= 36.0:\n",
        "        temp_score = 1\n",
        "        #priest_score = priest_score + 1\n",
        "    elif temp >= 36.1 and temp <= 38.0:\n",
        "        temp_score = 0\n",
        "        #priest_score = priest_score + 0\n",
        "    elif temp >= 38.1 and temp <= 39.0:\n",
        "        temp_score = 1\n",
        "        #priest_score = priest_score + 1\n",
        "    elif temp > 39.0:\n",
        "        temp_score = 2\n",
        "        #priest_score = priest_score + 2\n",
        "    else:\n",
        "        #temp_score = \"None\"\n",
        "        return None\n",
        "\n",
        "    if alertness.lower() == \"alert\":\n",
        "        alertness_score = 0\n",
        "        #priest_score = priest_score + 0\n",
        "    elif alertness.lower() == \"confused or not alert\":\n",
        "        alertness_score = 3\n",
        "        #priest_score = priest_score + 3\n",
        "    else:\n",
        "        #alertness_score = \"None\"\n",
        "        return None\n",
        "\n",
        "    if inspiredO2.lower() == \"air\":\n",
        "        inspiredO2_score = 0\n",
        "        #priest_score = priest_score + 0\n",
        "    elif inspiredO2.lower() == \"supplemental oxygen\":\n",
        "        inspiredO2_score = 2\n",
        "        #priest_score = priest_score + 2\n",
        "    else:\n",
        "        #inspiredO2_score = \"None\"\n",
        "        return None\n",
        "\n",
        "    if perform_status.lower() == \"unrestricted normal activity\":\n",
        "        perform_status_score = 0\n",
        "        #priest_score = priest_score + 0\n",
        "    elif perform_status.lower() == \"limited strenuous activity, can do light activity\":\n",
        "        perform_status_score = 1\n",
        "        #priest_score = priest_score + 1\n",
        "    elif perform_status.lower() == \"limited activity, can self-care\":\n",
        "        perform_status_score = 2\n",
        "        #priest_score = priest_score + 2\n",
        "    elif perform_status.lower() == \"limited self-care\":\n",
        "        perform_status_score = 3\n",
        "        #priest_score = priest_score + 3\n",
        "    elif perform_status.lower() == \"bed/chair bound, no self-care\":\n",
        "        perform_status_score = 4\n",
        "        #priest_score = priest_score + 4\n",
        "    else:\n",
        "        #perform_status_score = \"None\"\n",
        "        return None\n",
        "\n",
        "    priest_score = sex_score + age_score + resp_rate_score + oxygen_sat_score + heartrate_score + systolicBP_score + temp_score + alertness_score + inspiredO2_score + perform_status_score\n",
        "\n",
        "\n",
        "    if priest_score >= 0 and priest_score <= 1:\n",
        "        risk_pct = 0.01\n",
        "    elif priest_score >= 2 and priest_score <= 3:\n",
        "        risk_pct = 0.02\n",
        "    elif priest_score == 4:\n",
        "        risk_pct = 0.03\n",
        "    elif priest_score == 5:\n",
        "        risk_pct = 0.09\n",
        "    elif priest_score == 6:\n",
        "        risk_pct = 0.15\n",
        "    elif priest_score == 7:\n",
        "        risk_pct = 0.18\n",
        "    elif priest_score == 8:\n",
        "        risk_pct = 0.22\n",
        "    elif priest_score == 9:\n",
        "        risk_pct = 0.26\n",
        "    elif priest_score == 10:\n",
        "        risk_pct = 0.29\n",
        "    elif priest_score == 11:\n",
        "        risk_pct = 0.34\n",
        "    elif priest_score == 12:\n",
        "        risk_pct = 0.38\n",
        "    elif priest_score == 13:\n",
        "        risk_pct = 0.46\n",
        "    elif priest_score == 14:\n",
        "        risk_pct = 0.47\n",
        "    elif priest_score == 15:\n",
        "        risk_pct = 0.49\n",
        "    elif priest_score == 16:\n",
        "        risk_pct = 0.55\n",
        "    elif priest_score >= 17 and priest_score <= 25:\n",
        "        risk_pct = 0.59\n",
        "    elif priest_score >= 26:\n",
        "        risk_pct = 0.99\n",
        "    else:\n",
        "        return None\n",
        "\n",
        "\n",
        "    #return priest_score, risk_pct\n",
        "    return risk_pct"
      ]
    },
    {
      "cell_type": "code",
      "source": [
        "priest(\"maLe\", 23, 27, 0.95, 67, 100, 37.5, \"alert\", \"air\", \"Limited self-care\")"
      ],
      "metadata": {
        "colab": {
          "base_uri": "https://localhost:8080/"
        },
        "id": "YjfKoadAi7W4",
        "outputId": "e029b753-c5ed-4f0c-e408-9b778d3c7f21"
      },
      "execution_count": 53,
      "outputs": [
        {
          "output_type": "execute_result",
          "data": {
            "text/plain": [
              "0.29"
            ]
          },
          "metadata": {},
          "execution_count": 53
        }
      ]
    },
    {
      "cell_type": "code",
      "source": [
        "priest(\"FEMALE\", 73, 15, 0.93, 120, 120, 39.2, \"confused or not alert\", \"air\", \"limited strenuous activity, can do light activity\")"
      ],
      "metadata": {
        "colab": {
          "base_uri": "https://localhost:8080/"
        },
        "id": "RyDTilsUjDEe",
        "outputId": "47a00403-93bd-4e02-aec6-d0da59a90af9"
      },
      "execution_count": 54,
      "outputs": [
        {
          "output_type": "execute_result",
          "data": {
            "text/plain": [
              "0.46"
            ]
          },
          "metadata": {},
          "execution_count": 54
        }
      ]
    },
    {
      "cell_type": "code",
      "source": [
        "\n",
        "priest(\"MALe\", 60, 20, 0.89, 111, 130, 38.0, \"alert\", \"supplemental oxygen\", \"bed/chair bound, no self-care\")"
      ],
      "metadata": {
        "colab": {
          "base_uri": "https://localhost:8080/"
        },
        "id": "dfyTFq-FkUH0",
        "outputId": "3191c78d-910e-41ea-c70f-4d7b6e19775e"
      },
      "execution_count": 55,
      "outputs": [
        {
          "output_type": "execute_result",
          "data": {
            "text/plain": [
              "0.47"
            ]
          },
          "metadata": {},
          "execution_count": 55
        }
      ]
    },
    {
      "cell_type": "code",
      "execution_count": 56,
      "metadata": {
        "colab": {
          "base_uri": "https://localhost:8080/"
        },
        "id": "VY2CBujliML2",
        "outputId": "88e1f168-ceb0-4c63-9704-1f4cccab6d25"
      },
      "outputs": [
        {
          "output_type": "stream",
          "name": "stdout",
          "text": [
            "Finding tests in NoName\n",
            "Trying:\n",
            "    priest(\"maLe\", 23, 27, 0.95, 67, 100, 37.5, \"alert\", \"air\", \"Limited self-care\")\n",
            "Expecting:\n",
            "    0.29\n",
            "ok\n",
            "Trying:\n",
            "    priest(\"female\", 73, 15, 0.93, 120, 120, 39.2, \"confused or not alert\", \"air\", \"limited strenuous activity, can do light activity\")\n",
            "Expecting:\n",
            "    0.46\n",
            "ok\n",
            "Trying:\n",
            "    priest(\"MALe\", 60, 20, 0.89, 111, 130, 38.0, \"alert\", \"supplemental oxygen\", \"bed/chair bound, no self-care\")\n",
            "Expecting:\n",
            "    0.47\n",
            "ok\n"
          ]
        }
      ],
      "source": [
        "import doctest\n",
        "doctest.run_docstring_examples(priest, globals(),verbose=True)"
      ]
    },
    {
      "cell_type": "markdown",
      "metadata": {
        "id": "ktyQeTwhiML2"
      },
      "source": [
        "## Part 2: Find a hospital\n",
        "\n",
        "The next thing we have to do is figure out where to send this particular patient.  The guidelines on where to send a patient are based on their age (pediatric, adult, geriatric), sex, and risk percentage.  Luckily, you don't have to implement these rules. I already have. All you have to do is use a REST web service that I've created for you.\n",
        "\n",
        "You'll want to use Python to make a call to my REST web service similar to the example URL below. The first part of the URL will be the same for everyone and every request that you make. What you will need to modify for each of your requests is the information after the question mark.\n",
        "\n",
        "```\n",
        "https://oumdj6oci2.execute-api.us-east-1.amazonaws.com/prd/?age=40&sex=male&risk_pct=0.1\n",
        "```\n",
        "\n",
        "The example above asks my web service where a 40-year old male with a risk of 10% should go.  What the web service will return back is a JSON string containing the information you need.  That JSON will look like this:\n",
        "\n",
        "```json\n",
        "{\n",
        "  \"age\": \"40\",\n",
        "  \"sex\": \"male\",\n",
        "  \"risk\": \"0.1\",\n",
        "  \"hospital\": \"Southwest Hospital and Medical Center\"\n",
        "}\n",
        "```\n",
        "\n",
        "My function is not smart enough to understand `'MALE'` is the same as `'male'`.  You have to send it exactly `'male'` or `'female'`\n",
        "\n",
        "1. Your job is to write a function called **find_hospital()** that takes age, sex, and risk as parameters.\n",
        "2. Your function should call this REST web service using the `requests` module\n",
        "3. Then your function will need to interpret the JSON it gets and return just the name of the hospital\n",
        "4. If anything fails, return None\n",
        "5. Include a good docstring with at least three test cases.\n"
      ]
    },
    {
      "cell_type": "markdown",
      "source": [
        "okay....wow....so if I'm understanding this correctly, we need to import requests and pass the URL through that using requests.get(url). Create a function called find_hospital that takes in 3 lowercase parameters. And that function should call the REST web service?? oh my....must have something to do with concatenate...."
      ],
      "metadata": {
        "id": "DbeL3-Ghs9KQ"
      }
    },
    {
      "cell_type": "code",
      "execution_count": 63,
      "metadata": {
        "id": "Fk51P7vViML3"
      },
      "outputs": [],
      "source": [
        "import requests\n",
        "\n",
        "\n",
        "def find_hospital(age, sex, risk_pct):\n",
        "    \"\"\"(string, string, string) -> string\n",
        "\n",
        "    This function (find_hospital) takes in 3 parameters (age, sex, risk_pct) and then calls the URL via request.get by adding the inputs in the proper brakcets into the url. Function then needs to be able to interpret the json it gets from the website\n",
        "    and return only the hospital name as a string. If anything fails, if inputs are not accurate, then return none.\n",
        "\n",
        "    Since the hospital name is the last item in the dictinary at url, Googled how to list only the last value in a dictionary which took me to stackoverflow.com that explained you can use list(data.values())[-1] to get the last value listed. Will try that\n",
        "    re-watched parts of week 7 videos/slides, getting the url correct took a minute.\n",
        "\n",
        "    PSEUDOCODE\n",
        "    importing necessary package, requests\n",
        "    defined a function called find_hospital that takes in 3 inputs. Age is an int, sex is a string and risk_pct is a float, but all three will need to be converted to string (in \" \") to run the code\n",
        "    the output will be only the hospital name as a string which is the place that the patient should be sent to for treatment\n",
        "    assigned the webite to variable named url, formatted to take in the inputs in the proper order. Sex.lower was used to account for all upper and lowercase variations so everything would become lowercase regardless of how it was entered\n",
        "    using requests.get per instructions, tacked on my url at the end and assigned to variable location.\n",
        "    if the url loads correctly without issues and the response code is 200,\n",
        "    then the information retrieved from json dictionary at the url, is saved to variable patient_info\n",
        "    retireve only the last value item from the patient_info\n",
        "    and return just that last item\n",
        "    otherwise if anything is entered incorrectly, return none\n",
        "\n",
        "\n",
        "    DOCTESTS\n",
        "\n",
        "    >>> find_hospital(\"23\", \"male\", \"0.18\")\n",
        "    'Southwest Hospital and Medical Center'\n",
        "\n",
        "    >>> find_hospital(\"44\", \"Female\", \"0.15\")\n",
        "    'Select Specialty Hospital - Northeast Atlanta'\n",
        "\n",
        "    >>> find_hospital(\"65\", \"Male\", \"0.46\")\n",
        "    'Wesley Woods Geriatric Hospital'\n",
        "\n",
        "    \"\"\"\n",
        "    #url = 'https://oumdj6oci2.execute-api.us-east-1.amazonaws.com/prd/?age={age}&sex={sex.lower}&risk_pct={risk_pct}'\n",
        "    #url = (f'https://oumdj6oci2.execute-api.us-east-1.amazonaws.com/prd/?age={age}&sex={sex.lower}&risk_pct={risk_pct}')\n",
        "    url = \"https://oumdj6oci2.execute-api.us-east-1.amazonaws.com/prd/?age={}&sex={}&risk_pct={}\".format(age, sex.lower(), risk_pct)\n",
        "\n",
        "\n",
        "    location = requests.get(url)\n",
        "\n",
        "    if location.status_code == 200:\n",
        "        patient_info = location.json()\n",
        "        last_item = list(patient_info.values())[-1]\n",
        "        return last_item\n",
        "    else:\n",
        "        return None\n",
        "\n",
        ""
      ]
    },
    {
      "cell_type": "code",
      "source": [
        "find_hospital(\"23\", \"male\", \"0.18\")"
      ],
      "metadata": {
        "colab": {
          "base_uri": "https://localhost:8080/",
          "height": 35
        },
        "id": "7zS7o6Sh7nXa",
        "outputId": "d1502343-2c65-4c4e-df52-5ba5906740e2"
      },
      "execution_count": 64,
      "outputs": [
        {
          "output_type": "execute_result",
          "data": {
            "text/plain": [
              "'Southwest Hospital and Medical Center'"
            ],
            "application/vnd.google.colaboratory.intrinsic+json": {
              "type": "string"
            }
          },
          "metadata": {},
          "execution_count": 64
        }
      ]
    },
    {
      "cell_type": "code",
      "source": [
        "find_hospital(\"44\", \"Female\", \"0.15\")"
      ],
      "metadata": {
        "colab": {
          "base_uri": "https://localhost:8080/",
          "height": 35
        },
        "id": "9aZ4ymld-59b",
        "outputId": "4e2f4990-50ac-4236-eaf7-2b40a86f0452"
      },
      "execution_count": 65,
      "outputs": [
        {
          "output_type": "execute_result",
          "data": {
            "text/plain": [
              "'Select Specialty Hospital - Northeast Atlanta'"
            ],
            "application/vnd.google.colaboratory.intrinsic+json": {
              "type": "string"
            }
          },
          "metadata": {},
          "execution_count": 65
        }
      ]
    },
    {
      "cell_type": "code",
      "source": [
        "find_hospital(\"65\", \"Male\", \"0.46\")"
      ],
      "metadata": {
        "colab": {
          "base_uri": "https://localhost:8080/",
          "height": 35
        },
        "id": "PS86ymUy-8sE",
        "outputId": "51e83e50-7493-4d5c-e2c7-98207cee3864"
      },
      "execution_count": 66,
      "outputs": [
        {
          "output_type": "execute_result",
          "data": {
            "text/plain": [
              "'Wesley Woods Geriatric Hospital'"
            ],
            "application/vnd.google.colaboratory.intrinsic+json": {
              "type": "string"
            }
          },
          "metadata": {},
          "execution_count": 66
        }
      ]
    },
    {
      "cell_type": "code",
      "execution_count": 67,
      "metadata": {
        "colab": {
          "base_uri": "https://localhost:8080/"
        },
        "id": "1dRDZdgwiML3",
        "outputId": "2c8325d3-f3eb-445a-91c1-74a7a1c5002f"
      },
      "outputs": [
        {
          "output_type": "stream",
          "name": "stdout",
          "text": [
            "Finding tests in NoName\n",
            "Trying:\n",
            "    find_hospital(\"23\", \"male\", \"0.18\")\n",
            "Expecting:\n",
            "    'Southwest Hospital and Medical Center'\n",
            "ok\n",
            "Trying:\n",
            "    find_hospital(\"44\", \"Female\", \"0.15\")\n",
            "Expecting:\n",
            "    'Select Specialty Hospital - Northeast Atlanta'\n",
            "ok\n",
            "Trying:\n",
            "    find_hospital(\"65\", \"Male\", \"0.46\")\n",
            "Expecting:\n",
            "    'Wesley Woods Geriatric Hospital'\n",
            "ok\n"
          ]
        }
      ],
      "source": [
        "import doctest\n",
        "doctest.run_docstring_examples(find_hospital, globals(),verbose=True)"
      ]
    },
    {
      "cell_type": "markdown",
      "metadata": {
        "id": "gF2KHuR_iML3"
      },
      "source": [
        "## Part 3: Get the address for that hospital from a JSON file\n",
        "\n",
        "Great! Now we have code to tell us which hospital to send someone to... but we don't know where that hospital is. The next function we need to create is one that looks up the address of that hospital.  All of these hospitals are in Atlanta, Georgia.  We're going to use the list from this webpage to lookup the address for that hospital, based on its name.  https://www.officialusa.com/stateguides/health/hospitals/georgia.html\n",
        "\n",
        "Because we skipped the section about Beautiful Soup and working with HTML, I've converted this information into a JSON document for you.  It's available for you here.  Your code should retrieve this file using the `requests` module.\n",
        "\n",
        "`https://drive.google.com/uc?export=download&id=1fIFD-NkcdiMu941N4GjyMDWxiKsFJBw-`\n",
        "\n",
        "1. You need to create a function called **get_address()** that takes hospital name as a parameter and searches the data from this JSON file for the hospital you want to find.\n",
        "2. Your code will have to load the JSON and return the correct hospital based on name.\n",
        "3. If the hospital name isn't found, the function should return None.\n",
        "4. Be sure to use good docstring documentation and includes at least 3 test cases."
      ]
    },
    {
      "cell_type": "code",
      "execution_count": 68,
      "metadata": {
        "id": "YxF7Ud7LiML3"
      },
      "outputs": [],
      "source": [
        "import requests\n",
        "import json\n",
        "\n",
        "def get_address(hospital_name):\n",
        "    \"\"\"(string) -> string\n",
        "\n",
        "    This code has a function called get_address that takes a hospital name as its only input. The function calls a url which downloads a json file that has a dictionary of dictionaries\n",
        "    with hospital information listed. One of the key:value pairs is the hospital address that needs to be returned based on only the hosptial name as input. This the address of the hospital\n",
        "    patient is to be sent for treatment. Load the file, compare names, find the address, return it if it exists.\n",
        "\n",
        "    PSEUDOCODE\n",
        "    import requests and json packages needed to run code\n",
        "    define function get_address takes in one parameter, a hospital name\n",
        "    assigned the provided link to a variable url\n",
        "    used requests.get to retrieve the file and assign to variable hospitals\n",
        "    if the url loads without issue and the status code is 200...\n",
        "    then the json file is assigned to hospital_file\n",
        "    added a line to change the hospital name entered to all uppercase to match json file hospital name entries\n",
        "    if the hospital name is in the hospital file....\n",
        "    then the hospital name in the hospital file is assigned to hospital_info\n",
        "    used .get to obtain the ADDRESS in the hospital_info file and assigned to variable hosptial_address\n",
        "    return the hospital_address\n",
        "    if hospital_name is not found in the file, return none\n",
        "    if the url did not load, return none\n",
        "\n",
        "\n",
        "\n",
        "    DOCTESTS\n",
        "\n",
        "    >>> get_address(\"WESLEY WOODS GERIATRIC HOSPITAL\") #case-sensitive, based on however it appears in json file.....only took me 2 hours to remember that...alas...adding .upper line to code\n",
        "    '1821 CLIFTON ROAD, NE'\n",
        "\n",
        "    >>> get_address(\"PIEDMONT HOSPITAL\")\n",
        "    '1968 PEACHTREE ROAD NW'\n",
        "\n",
        "    >>> get_address(\"AU MEDICAL CENTER\")\n",
        "    '1120 15TH STREET'\n",
        "\n",
        "    \"\"\"\n",
        "\n",
        "\n",
        "    #file = ga_hospitals.json\n",
        "\n",
        "    url = \"https://drive.google.com/uc?export=download&id=1fIFD-NkcdiMu941N4GjyMDWxiKsFJBw-\"\n",
        "    #hospital_file = \"ga_hospitals.json\"\n",
        "\n",
        "    #with open('ga_hospital.json') as file:\n",
        "        #hospital_info = json.loads(file)\n",
        "    #hospital_address = hospital_info['ADDRESS']\n",
        "    #return hospital_address     Think I may have named too many things hospital.....confused myself..... :)\n",
        "\n",
        "    hospitals = requests.get(url)\n",
        "    #hospital_name.upper() = hospital_name\n",
        "    if hospitals.status_code == 200:\n",
        "        hospital_file = hospitals.json()\n",
        "        hospital_name = hospital_name.upper()   #changing all inputs to caps for hospital name, wasted so much time on that tiny detail....\n",
        "        #for hospital_name in hospital_file:\n",
        "            #if hospital[\"name\"] == hospital_name:\n",
        "        if hospital_name in hospital_file:\n",
        "            hospital_info = hospital_file[hospital_name]\n",
        "            hospital_address = hospital_info.get(\"ADDRESS\")\n",
        "            return hospital_address\n",
        "        else:\n",
        "            return None\n",
        "    else:\n",
        "        return None\n",
        ""
      ]
    },
    {
      "cell_type": "code",
      "source": [
        "hospital_name = \"WESLEY WOODS GERIATRIC HOSPITAL\"\n",
        "hospital_address = get_address(hospital_name)\n",
        "print(hospital_address)"
      ],
      "metadata": {
        "colab": {
          "base_uri": "https://localhost:8080/"
        },
        "id": "pS6BUtobLb07",
        "outputId": "428b9ae8-1358-454a-d9c8-9a647efad9a8"
      },
      "execution_count": 69,
      "outputs": [
        {
          "output_type": "stream",
          "name": "stdout",
          "text": [
            "1821 CLIFTON ROAD, NE\n"
          ]
        }
      ]
    },
    {
      "cell_type": "code",
      "source": [
        "hospital_name = \"ST MARYS HEALTH CARE SYSTEM\"\n",
        "hospital_address = get_address(hospital_name)\n",
        "print(hospital_address)"
      ],
      "metadata": {
        "colab": {
          "base_uri": "https://localhost:8080/"
        },
        "id": "xJYGAA_5m6vJ",
        "outputId": "42e09f82-4e92-4d7c-a4ce-695a977b6b0f"
      },
      "execution_count": 70,
      "outputs": [
        {
          "output_type": "stream",
          "name": "stdout",
          "text": [
            "1230 BAXTER STREET\n"
          ]
        }
      ]
    },
    {
      "cell_type": "code",
      "source": [
        "hospital_name = \"ST MARYS HEALTH CARE CENTER\"\n",
        "hospital_address = get_address(hospital_name)\n",
        "print(hospital_address)"
      ],
      "metadata": {
        "colab": {
          "base_uri": "https://localhost:8080/"
        },
        "id": "jGGoUp0knZHk",
        "outputId": "f62f7523-63b0-419c-b127-fd2ce945b426"
      },
      "execution_count": 71,
      "outputs": [
        {
          "output_type": "stream",
          "name": "stdout",
          "text": [
            "None\n"
          ]
        }
      ]
    },
    {
      "cell_type": "code",
      "source": [
        "import doctest\n",
        "doctest.run_docstring_examples(get_address, globals(),verbose=True)"
      ],
      "metadata": {
        "colab": {
          "base_uri": "https://localhost:8080/"
        },
        "id": "rn-wALdJciIQ",
        "outputId": "ffcf9262-5c48-40f0-f5d7-097f0e55fb9b"
      },
      "execution_count": 72,
      "outputs": [
        {
          "output_type": "stream",
          "name": "stdout",
          "text": [
            "Finding tests in NoName\n",
            "Trying:\n",
            "    get_address(\"WESLEY WOODS GERIATRIC HOSPITAL\") #case-sensitive, based on however it appears in json file.....only took me 2 hours to remember that...alas...adding .upper line to code\n",
            "Expecting:\n",
            "    '1821 CLIFTON ROAD, NE'\n",
            "ok\n",
            "Trying:\n",
            "    get_address(\"PIEDMONT HOSPITAL\")\n",
            "Expecting:\n",
            "    '1968 PEACHTREE ROAD NW'\n",
            "ok\n",
            "Trying:\n",
            "    get_address(\"AU MEDICAL CENTER\")\n",
            "Expecting:\n",
            "    '1120 15TH STREET'\n",
            "ok\n"
          ]
        }
      ]
    },
    {
      "cell_type": "markdown",
      "metadata": {
        "id": "6iRpBcGSiML3"
      },
      "source": [
        "## Part 4: Run the risk calculator on a population\n",
        "\n",
        "At the link below, there is a file called `people.psv`.  It is a pipe-delimited (`|`) file with columns that match the inputs for the PRIEST calculation above.  Your code should use the `requests` module to retrieve the file from this URL.\n",
        "\n",
        "`https://drive.google.com/uc?export=download&id=1fLxJN9YGUqmqExrilxSS8furwUER5HHh`\n",
        "\n",
        "\n",
        "In addition, the file has a patient identifier in the first column.\n",
        "\n",
        "1. Write a function called **process_people()** that takes the file location above as its only parameter. Your Python program should use your code above to process all of these rows, determine the hospital and address, and return a list whose items are a dictionary like this: `{ patient_number: [sex, age, breath, o2sat, heart, systolic, temp, alertness, inspired, status, hospital, address]}`.  Look at the file in Part 5 for what the output looks like.\n",
        "2. Be sure to use good docstrings, but you don't need any tests in your doc strings.  I've provided those for you withe file in Part 5.\n",
        "\n",
        "\n",
        "**NOTE** that when running your code for all the 100 records in the `people.psv` file, it may take a few minutes to complete.  You're making multiple calls to the internet for each record, so that can take a little while.\n"
      ]
    },
    {
      "cell_type": "code",
      "execution_count": 73,
      "metadata": {
        "id": "2tBP_Kj9iML3"
      },
      "outputs": [],
      "source": [
        "import requests\n",
        "\n",
        "def process_people(url):\n",
        "    \"\"\"(string) -> string\n",
        "\n",
        "    This code uses a function named process_people that takes in a url as the only input, downloads a file with a header row and several columns with patient info from previous problems\n",
        "    above and also has the hosiptal name and address of the hospital patient was assigned for treatment. File is pipe-delmited. Code will read the file and separate out each row by patient ID into\n",
        "    a dictionary with a list embedded that has all patient info from different columns.\n",
        "\n",
        "    NOTE: had issues getting file to open. URL worked fine and file downloaded, but computer wanted me to search for a application with which to open the file. I downloaded PyCharm back in\n",
        "    August and have never used it, but it was one of the only choices I had to open the file. All my other options were grayed out on my Mac. Took some figuring but was able to load file there\n",
        "    in PyCharm. Asked in discussion and they answered super quickly, but I had watched that bit of the video already. Anyway, go it to work, just not the way it was intended to work maybe?\n",
        "\n",
        "    Load file, deal with header/column???, need to pull first column, make that the first dictionary and then pull info on remainder of that row and put in a list as key:value pairs. Good gracious..\n",
        "\n",
        "\n",
        "    \"\"\"\n",
        "    url = \"https://drive.google.com/uc?export=download&id=1fLxJN9YGUqmqExrilxSS8furwUER5HHh\"\n",
        "\n",
        "  #Googled parsing through pipe-delmited file which took me to www.stackoverflow.com which had a section on pipe-delimited files and using .split and they also had a section on splitting\n",
        "  #the new line with \"\\n\" which was also in the video for the week. Also have text.split....need to read up on this. Handy dandy optional textbook to the rescue.....Matthes, E. Python Crash Course- A Hands-On, Project-Based\n",
        "  #Introduction to Programming, 3rd ed. (2023). Pages 196-197....you can pull up literary works in text files!!! Very cool....but not that useful. Looked up CSV file format, chapter 16 and\n",
        "  #basically read the whole thing. Page 330-331 had some header and for/enumerate ideas....tips for week 6 assiment slides had similar for/enumerate. Page 346 had a bit near top of page\n",
        "  #where they appended a list for magnitudes....\n",
        "\n",
        "\n",
        "    people_info = requests.get(url)\n",
        "\n",
        "    if people_info.status_code == 200:\n",
        "        #patient_rows = people_info.split(\"\\n\")\n",
        "        patient_rows = people_info.text.split(\"\\n\")\n",
        "\n",
        "\n",
        "        file_header = patient_rows[0].split(\"|\")\n",
        "        column_names = file_header\n",
        "\n",
        "        patients = []\n",
        "        #for row in patient_rows:  ugh...patient row minus ID.....\n",
        "        for row in patient_rows[1:]:\n",
        "            #if row in patient_rows:\n",
        "            if row:\n",
        "                #values = row.text.split()\n",
        "                values = row.split(\"|\")\n",
        "                patient_row_dict = {}\n",
        "                for key, value in enumerate(values):\n",
        "                    #column_name = column_name(key) or [key]??\n",
        "                    patient_row_dict[column_names[key]] = value\n",
        "                    #patient_row_dict(column_names(key)) =\n",
        "                patients.append(patient_row_dict)\n",
        "        return patients\n",
        "    else:\n",
        "        return None\n",
        "\n",
        "\n",
        "\n",
        "\n",
        "#knowing when the loop should stop can be challenging.....when to stop indenting....deciding which loop the line belongs to....a lot of trial and error.\n",
        "\n",
        "#hmmmmm....think I've made a list of dictionaries and it is supposed to be a dictionary of lists.....unbelivebale......I even said dictionary of lists before. I knew that. Holy moon pies...\n",
        "#yikes....ok.....may see what happens in #5 with the comparison and how that is done before attempting this one again\n",
        "\n",
        "#After comparison with #5, realized #4 is not quite right, but not completely sure how to repair. Tried just copying 4 down and editing it below......attempting to make a dictionary of\n",
        "#lists and remove the column headers except for the patient ID on initial dictionary......seems like it should be an easy fix....\n",
        "\n",
        "    \"\"\"\n",
        "    people_info = requests.get(url)\n",
        "\n",
        "    if people_info.status_code == 200:\n",
        "        #patient_rows = people_info.split(\"\\n\")\n",
        "        patient_rows = people_info.text.split(\"\\n\")\n",
        "\n",
        "\n",
        "        file_header = patient_rows[0].split(\"|\")\n",
        "        column_names = file_header\n",
        "\n",
        "        #patients = []\n",
        "        patients = {}\n",
        "        #for row in patient_rows:  ugh...patient row minus ID.....\n",
        "        for row in patient_rows[1:]:\n",
        "            #if row in patient_rows:\n",
        "            if row:\n",
        "                #values = row.text.split()\n",
        "                values = row.split(\"|\")\n",
        "                #patient_row_dict = {}\n",
        "                patient_row_list = []\n",
        "                for key, value in enumerate(values):\n",
        "                    #column_name = column_name(key) or [key]??\n",
        "                    #patient_row_dict[column_names[key]] = value\n",
        "                    patient_row_list[column_names[key]] = value\n",
        "                    #patient_row_dict(column_names(key)) =\n",
        "                #patients.append(patient_row_dict)\n",
        "                patients.append(patient_row_list)\n",
        "\n",
        "\n",
        "   #need to append?....that's the wrong function. THink I need update? BUt need to append the list with only the value not the key. Or maybe append both and only print out the value\n",
        "   #and not the key?\n",
        "\n",
        "        return patients\n",
        "    else:\n",
        "        return None\n",
        "    \"\"\"\n",
        "\n",
        "\n"
      ]
    },
    {
      "cell_type": "code",
      "source": [
        "url_file = \"https://drive.google.com/uc?export=download&id=1fLxJN9YGUqmqExrilxSS8furwUER5HHh\"\n",
        "complete_info = process_people(url_file)\n",
        "print(complete_info)"
      ],
      "metadata": {
        "colab": {
          "base_uri": "https://localhost:8080/"
        },
        "id": "YiwuFvkv4E2a",
        "outputId": "b91ddc1f-4344-40ca-cd18-1a7736fbaaa6"
      },
      "execution_count": 74,
      "outputs": [
        {
          "output_type": "stream",
          "name": "stdout",
          "text": [
            "[{'patient': 'E9559', 'sex': 'FEMALE', 'age': '40', 'breath': '24', 'o2 sat': '0.96', 'heart': '105', 'systolic bp': '115', 'temp': '34.9', 'alertness': 'ALERT', 'inspired': 'AIR', 'status': 'unrestricted normal activity'}, {'patient': 'E9385', 'sex': 'Female', 'age': '51', 'breath': '19', 'o2 sat': '0.99', 'heart': '90', 'systolic bp': '91', 'temp': '38.1', 'alertness': 'ALERT', 'inspired': 'supplemental oxygen', 'status': 'unrestricted normal activity'}, {'patient': 'E3067', 'sex': 'female', 'age': '40', 'breath': '29', 'o2 sat': '0.96', 'heart': '105', 'systolic bp': '95', 'temp': '38.1', 'alertness': 'ALERT', 'inspired': 'air', 'status': 'unrestricted normal activity'}, {'patient': 'E9422', 'sex': 'FEMALE', 'age': '66', 'breath': '19', 'o2 sat': '0.96', 'heart': '135', 'systolic bp': '115', 'temp': '38.1', 'alertness': 'ALERT', 'inspired': 'AIR', 'status': 'bed/chair bound, no self-care'}, {'patient': 'E8661', 'sex': 'MALE', 'age': '18', 'breath': '22', 'o2 sat': '0.95', 'heart': '105', 'systolic bp': '115', 'temp': '36.3', 'alertness': 'Confused or Not Alert', 'inspired': 'air', 'status': 'unrestricted normal activity'}, {'patient': 'E6235', 'sex': 'Male', 'age': '16', 'breath': '23', 'o2 sat': '0.96', 'heart': '135', 'systolic bp': '115', 'temp': '39.2', 'alertness': 'ALERT', 'inspired': 'supplemental oxygen', 'status': 'unrestricted normal activity'}, {'patient': 'E4451', 'sex': 'MALE', 'age': '40', 'breath': '8', 'o2 sat': '0.96', 'heart': '135', 'systolic bp': '115', 'temp': '38.1', 'alertness': 'ALERT', 'inspired': 'AIR', 'status': 'unrestricted normal activity'}, {'patient': 'E8433', 'sex': 'FEMALE', 'age': '40', 'breath': '23', 'o2 sat': '0.99', 'heart': '89', 'systolic bp': '91', 'temp': '38.1', 'alertness': 'ALERT', 'inspired': 'AIR', 'status': 'limited self-care'}, {'patient': 'E7593', 'sex': 'FEMALE', 'age': '80', 'breath': '23', 'o2 sat': '0.96', 'heart': '105', 'systolic bp': '115', 'temp': '38.1', 'alertness': 'ALERT', 'inspired': 'supplemental oxygen', 'status': 'limited activity, can self-care'}, {'patient': 'E3296', 'sex': 'MALE', 'age': '51', 'breath': '23', 'o2 sat': '0.95', 'heart': '105', 'systolic bp': '115', 'temp': '38.1', 'alertness': 'ALERT', 'inspired': 'AIR', 'status': 'unrestricted normal activity'}, {'patient': 'E4157', 'sex': 'FEMALE', 'age': '40', 'breath': '23', 'o2 sat': '0.96', 'heart': '41', 'systolic bp': '115', 'temp': '35.4', 'alertness': 'ALERT', 'inspired': 'AIR', 'status': 'unrestricted normal activity'}, {'patient': 'E7702', 'sex': 'FEMALE', 'age': '40', 'breath': '22', 'o2 sat': '0.96', 'heart': '105', 'systolic bp': '115', 'temp': '38.1', 'alertness': 'ALERT', 'inspired': 'supplemental oxygen', 'status': 'unrestricted normal activity'}, {'patient': 'E8158', 'sex': 'MALE', 'age': '40', 'breath': '20', 'o2 sat': '0.99', 'heart': '135', 'systolic bp': '115', 'temp': '39.2', 'alertness': 'ALERT', 'inspired': 'AIR', 'status': 'unrestricted normal activity'}, {'patient': 'E4795', 'sex': 'female', 'age': '80', 'breath': '11', 'o2 sat': '0.93', 'heart': '105', 'systolic bp': '95', 'temp': '40.8', 'alertness': 'ALERT', 'inspired': 'AIR', 'status': 'limited activity, can self-care'}, {'patient': 'E8800', 'sex': 'MALE', 'age': '80', 'breath': '22', 'o2 sat': '0.96', 'heart': '105', 'systolic bp': '115', 'temp': '39.2', 'alertness': 'confused or not alert', 'inspired': 'AIR', 'status': 'limited activity, can self-care'}, {'patient': 'E4855', 'sex': 'female', 'age': '51', 'breath': '23', 'o2 sat': '0.94', 'heart': '135', 'systolic bp': '115', 'temp': '38.1', 'alertness': 'ALERT', 'inspired': 'AIR', 'status': 'limited strenuous activity, can do light activity'}, {'patient': 'E9691', 'sex': 'Male', 'age': '16', 'breath': '10', 'o2 sat': '0.96', 'heart': '105', 'systolic bp': '115', 'temp': '38.1', 'alertness': 'ALERT', 'inspired': 'AIR', 'status': 'unrestricted normal activity'}, {'patient': 'E4535', 'sex': 'FEMALE', 'age': '19', 'breath': '11', 'o2 sat': '0.99', 'heart': '105', 'systolic bp': '115', 'temp': '35.4', 'alertness': 'ALERT', 'inspired': 'AIR', 'status': 'unrestricted normal activity'}, {'patient': 'E2360', 'sex': 'Male', 'age': '40', 'breath': '20', 'o2 sat': '0.96', 'heart': '51', 'systolic bp': '95', 'temp': '34.9', 'alertness': 'alert', 'inspired': 'supplemental oxygen', 'status': 'unrestricted normal activity'}, {'patient': 'E3447', 'sex': 'MALE', 'age': '80', 'breath': '22', 'o2 sat': '0.96', 'heart': '41', 'systolic bp': '115', 'temp': '38.1', 'alertness': 'ALERT', 'inspired': 'AIR', 'status': 'limited activity, can self-care'}, {'patient': 'E8208', 'sex': 'FEMALE', 'age': '18', 'breath': '23', 'o2 sat': '0.96', 'heart': '135', 'systolic bp': '115', 'temp': '38.1', 'alertness': 'ALERT', 'inspired': 'AIR', 'status': 'unrestricted normal activity'}, {'patient': 'E4428', 'sex': 'FEMALE', 'age': '40', 'breath': '23', 'o2 sat': '0.96', 'heart': '38', 'systolic bp': '115', 'temp': '36.3', 'alertness': 'ALERT', 'inspired': 'AIR', 'status': 'unrestricted normal activity'}, {'patient': 'E2766', 'sex': 'Male', 'age': '18', 'breath': '23', 'o2 sat': '0.96', 'heart': '105', 'systolic bp': '115', 'temp': '34.9', 'alertness': 'ALERT', 'inspired': 'AIR', 'status': 'unrestricted normal activity'}, {'patient': 'E3888', 'sex': 'FEMALE', 'age': '51', 'breath': '19', 'o2 sat': '0.96', 'heart': '135', 'systolic bp': '115', 'temp': '34.9', 'alertness': 'ALERT', 'inspired': 'AIR', 'status': 'unrestricted normal activity'}, {'patient': 'E7110', 'sex': 'female', 'age': '85', 'breath': '24', 'o2 sat': '0.99', 'heart': '105', 'systolic bp': '101', 'temp': '40.8', 'alertness': 'Confused or Not Alert', 'inspired': 'AIR', 'status': 'unrestricted normal activity'}, {'patient': 'E2668', 'sex': 'FEMALE', 'age': '18', 'breath': '22', 'o2 sat': '0.96', 'heart': '105', 'systolic bp': '101', 'temp': '38.1', 'alertness': 'ALERT', 'inspired': 'AIR', 'status': 'unrestricted normal activity'}, {'patient': 'E8482', 'sex': 'Male', 'age': '40', 'breath': '22', 'o2 sat': '0.96', 'heart': '105', 'systolic bp': '230', 'temp': '36.3', 'alertness': 'ALERT', 'inspired': 'AIR', 'status': 'limited self-care'}, {'patient': 'E9619', 'sex': 'FEMALE', 'age': '40', 'breath': '11', 'o2 sat': '0.98', 'heart': '41', 'systolic bp': '115', 'temp': '38.1', 'alertness': 'ALERT', 'inspired': 'AIR', 'status': 'unrestricted normal activity'}, {'patient': 'E1700', 'sex': 'male', 'age': '40', 'breath': '23', 'o2 sat': '0.96', 'heart': '105', 'systolic bp': '115', 'temp': '38.1', 'alertness': 'Confused or Not Alert', 'inspired': 'AIR', 'status': 'unrestricted normal activity'}, {'patient': 'E8585', 'sex': 'MALE', 'age': '19', 'breath': '8', 'o2 sat': '0.96', 'heart': '105', 'systolic bp': '115', 'temp': '36.3', 'alertness': 'alert', 'inspired': 'AIR', 'status': 'bed/chair bound, no self-care'}, {'patient': 'E8633', 'sex': 'FEMALE', 'age': '40', 'breath': '22', 'o2 sat': '0.96', 'heart': '38', 'systolic bp': '91', 'temp': '35.4', 'alertness': 'ALERT', 'inspired': 'AIR', 'status': 'unrestricted normal activity'}, {'patient': 'E2117', 'sex': 'FEMALE', 'age': '16', 'breath': '22', 'o2 sat': '0.96', 'heart': '135', 'systolic bp': '115', 'temp': '39.2', 'alertness': 'Confused or Not Alert', 'inspired': 'supplemental oxygen', 'status': 'bed/chair bound, no self-care'}, {'patient': 'E2322', 'sex': 'female', 'age': '18', 'breath': '22', 'o2 sat': '0.96', 'heart': '105', 'systolic bp': '115', 'temp': '38.1', 'alertness': 'alert', 'inspired': 'supplemental oxygen', 'status': 'unrestricted normal activity'}, {'patient': 'E6912', 'sex': 'FEMALE', 'age': '51', 'breath': '23', 'o2 sat': '0.96', 'heart': '105', 'systolic bp': '95', 'temp': '34.9', 'alertness': 'ALERT', 'inspired': 'AIR', 'status': 'unrestricted normal activity'}, {'patient': 'E5702', 'sex': 'Male', 'age': '80', 'breath': '23', 'o2 sat': '0.96', 'heart': '135', 'systolic bp': '115', 'temp': '38.1', 'alertness': 'ALERT', 'inspired': 'AIR', 'status': 'unrestricted normal activity'}, {'patient': 'E5513', 'sex': 'FEMALE', 'age': '18', 'breath': '12', 'o2 sat': '0.96', 'heart': '105', 'systolic bp': '115', 'temp': '38.1', 'alertness': 'ALERT', 'inspired': 'AIR', 'status': 'unrestricted normal activity'}, {'patient': 'E1861', 'sex': 'FEMALE', 'age': '18', 'breath': '22', 'o2 sat': '0.96', 'heart': '105', 'systolic bp': '230', 'temp': '38.1', 'alertness': 'ALERT', 'inspired': 'AIR', 'status': 'limited strenuous activity, can do light activity'}, {'patient': 'E4809', 'sex': 'FEMALE', 'age': '40', 'breath': '22', 'o2 sat': '0.96', 'heart': '41', 'systolic bp': '230', 'temp': '38.1', 'alertness': 'ALERT', 'inspired': 'AIR', 'status': 'unrestricted normal activity'}, {'patient': 'E1365', 'sex': 'MALE', 'age': '22', 'breath': '22', 'o2 sat': '0.96', 'heart': '115', 'systolic bp': '101', 'temp': '35.4', 'alertness': 'ALERT', 'inspired': 'AIR', 'status': 'bed/chair bound, no self-care'}, {'patient': 'E5984', 'sex': 'Male', 'age': '40', 'breath': '12', 'o2 sat': '0.93', 'heart': '105', 'systolic bp': '91', 'temp': '35.1', 'alertness': 'ALERT', 'inspired': 'AIR', 'status': 'limited activity, can self-care'}, {'patient': 'E7013', 'sex': 'FEMALE', 'age': '66', 'breath': '23', 'o2 sat': '0.96', 'heart': '135', 'systolic bp': '89', 'temp': '40.8', 'alertness': 'ALERT', 'inspired': 'supplemental oxygen', 'status': 'unrestricted normal activity'}, {'patient': 'E2331', 'sex': 'female', 'age': '18', 'breath': '23', 'o2 sat': '0.98', 'heart': '105', 'systolic bp': '115', 'temp': '38.1', 'alertness': 'ALERT', 'inspired': 'AIR', 'status': 'limited self-care'}, {'patient': 'E9938', 'sex': 'MALE', 'age': '18', 'breath': '12', 'o2 sat': '0.96', 'heart': '105', 'systolic bp': '89', 'temp': '35.1', 'alertness': 'ALERT', 'inspired': 'AIR', 'status': 'unrestricted normal activity'}, {'patient': 'E5121', 'sex': 'Female', 'age': '18', 'breath': '23', 'o2 sat': '0.96', 'heart': '41', 'systolic bp': '95', 'temp': '38.1', 'alertness': 'ALERT', 'inspired': 'supplemental oxygen', 'status': 'limited activity, can self-care'}, {'patient': 'E9280', 'sex': 'male', 'age': '65', 'breath': '10', 'o2 sat': '0.96', 'heart': '135', 'systolic bp': '91', 'temp': '38.1', 'alertness': 'ALERT', 'inspired': 'AIR', 'status': 'unrestricted normal activity'}, {'patient': 'E4762', 'sex': 'FEMALE', 'age': '40', 'breath': '12', 'o2 sat': '0.98', 'heart': '105', 'systolic bp': '95', 'temp': '38.1', 'alertness': 'ALERT', 'inspired': 'AIR', 'status': 'unrestricted normal activity'}, {'patient': 'E6885', 'sex': 'MALE', 'age': '18', 'breath': '23', 'o2 sat': '0.93', 'heart': '89', 'systolic bp': '115', 'temp': '35.1', 'alertness': 'confused or not alert', 'inspired': 'AIR', 'status': 'limited activity, can self-care'}, {'patient': 'E1695', 'sex': 'FEMALE', 'age': '40', 'breath': '22', 'o2 sat': '0.96', 'heart': '41', 'systolic bp': '115', 'temp': '38.1', 'alertness': 'ALERT', 'inspired': 'AIR', 'status': 'unrestricted normal activity'}, {'patient': 'E9658', 'sex': 'Female', 'age': '18', 'breath': '10', 'o2 sat': '0.96', 'heart': '90', 'systolic bp': '230', 'temp': '38.1', 'alertness': 'ALERT', 'inspired': 'AIR', 'status': 'limited self-care'}, {'patient': 'E1961', 'sex': 'FEMALE', 'age': '65', 'breath': '23', 'o2 sat': '0.96', 'heart': '105', 'systolic bp': '115', 'temp': '40.8', 'alertness': 'ALERT', 'inspired': 'AIR', 'status': 'limited activity, can self-care'}, {'patient': 'E9154', 'sex': 'FEMALE', 'age': '66', 'breath': '8', 'o2 sat': '0.94', 'heart': '105', 'systolic bp': '89', 'temp': '35.4', 'alertness': 'alert', 'inspired': 'AIR', 'status': 'bed/chair bound, no self-care'}, {'patient': 'E9417', 'sex': 'FEMALE', 'age': '40', 'breath': '23', 'o2 sat': '0.96', 'heart': '105', 'systolic bp': '95', 'temp': '38.1', 'alertness': 'alert', 'inspired': 'AIR', 'status': 'unrestricted normal activity'}, {'patient': 'E9979', 'sex': 'Male', 'age': '18', 'breath': '8', 'o2 sat': '0.96', 'heart': '105', 'systolic bp': '115', 'temp': '38.1', 'alertness': 'ALERT', 'inspired': 'AIR', 'status': 'limited strenuous activity, can do light activity'}, {'patient': 'E9316', 'sex': 'MALE', 'age': '18', 'breath': '23', 'o2 sat': '0.96', 'heart': '135', 'systolic bp': '115', 'temp': '38.1', 'alertness': 'ALERT', 'inspired': 'AIR', 'status': 'unrestricted normal activity'}, {'patient': 'E8146', 'sex': 'Male', 'age': '18', 'breath': '12', 'o2 sat': '0.96', 'heart': '115', 'systolic bp': '115', 'temp': '38.1', 'alertness': 'ALERT', 'inspired': 'AIR', 'status': 'unrestricted normal activity'}, {'patient': 'E3093', 'sex': 'female', 'age': '40', 'breath': '29', 'o2 sat': '0.96', 'heart': '105', 'systolic bp': '95', 'temp': '38.1', 'alertness': 'ALERT', 'inspired': 'AIR', 'status': 'unrestricted normal activity'}, {'patient': 'E8829', 'sex': 'male', 'age': '65', 'breath': '12', 'o2 sat': '0.96', 'heart': '51', 'systolic bp': '230', 'temp': '38.1', 'alertness': 'alert', 'inspired': 'AIR', 'status': 'unrestricted normal activity'}, {'patient': 'E1453', 'sex': 'male', 'age': '18', 'breath': '24', 'o2 sat': '0.99', 'heart': '105', 'systolic bp': '115', 'temp': '38.1', 'alertness': 'ALERT', 'inspired': 'AIR', 'status': 'unrestricted normal activity'}, {'patient': 'E5777', 'sex': 'female', 'age': '66', 'breath': '23', 'o2 sat': '0.96', 'heart': '115', 'systolic bp': '89', 'temp': '38.1', 'alertness': 'ALERT', 'inspired': 'AIR', 'status': 'limited strenuous activity, can do light activity'}, {'patient': 'E4564', 'sex': 'FEMALE', 'age': '18', 'breath': '24', 'o2 sat': '0.96', 'heart': '41', 'systolic bp': '115', 'temp': '35.1', 'alertness': 'confused or not alert', 'inspired': 'AIR', 'status': 'unrestricted normal activity'}, {'patient': 'E1904', 'sex': 'FEMALE', 'age': '40', 'breath': '22', 'o2 sat': '0.93', 'heart': '38', 'systolic bp': '95', 'temp': '38.1', 'alertness': 'Confused or Not Alert', 'inspired': 'AIR', 'status': 'unrestricted normal activity'}, {'patient': 'E8746', 'sex': 'Female', 'age': '40', 'breath': '12', 'o2 sat': '0.93', 'heart': '105', 'systolic bp': '115', 'temp': '38.1', 'alertness': 'ALERT', 'inspired': 'AIR', 'status': 'unrestricted normal activity'}, {'patient': 'E9165', 'sex': 'FEMALE', 'age': '19', 'breath': '22', 'o2 sat': '0.98', 'heart': '50', 'systolic bp': '95', 'temp': '38.1', 'alertness': 'ALERT', 'inspired': 'AIR', 'status': 'limited activity, can self-care'}, {'patient': 'E9305', 'sex': 'FEMALE', 'age': '40', 'breath': '8', 'o2 sat': '0.89', 'heart': '105', 'systolic bp': '101', 'temp': '38.1', 'alertness': 'ALERT', 'inspired': 'supplemental oxygen', 'status': 'unrestricted normal activity'}, {'patient': 'E3217', 'sex': 'Female', 'age': '40', 'breath': '10', 'o2 sat': '0.95', 'heart': '105', 'systolic bp': '95', 'temp': '38.1', 'alertness': 'ALERT', 'inspired': 'AIR', 'status': 'unrestricted normal activity'}, {'patient': 'E3127', 'sex': 'Female', 'age': '40', 'breath': '8', 'o2 sat': '0.96', 'heart': '38', 'systolic bp': '115', 'temp': '36.3', 'alertness': 'ALERT', 'inspired': 'AIR', 'status': 'limited strenuous activity, can do light activity'}, {'patient': 'E7501', 'sex': 'female', 'age': '18', 'breath': '23', 'o2 sat': '0.96', 'heart': '135', 'systolic bp': '115', 'temp': '38.1', 'alertness': 'ALERT', 'inspired': 'AIR', 'status': 'unrestricted normal activity'}, {'patient': 'E4997', 'sex': 'female', 'age': '40', 'breath': '23', 'o2 sat': '0.94', 'heart': '105', 'systolic bp': '115', 'temp': '36.3', 'alertness': 'ALERT', 'inspired': 'AIR', 'status': 'unrestricted normal activity'}, {'patient': 'E6181', 'sex': 'female', 'age': '19', 'breath': '23', 'o2 sat': '0.96', 'heart': '89', 'systolic bp': '115', 'temp': '38.1', 'alertness': 'ALERT', 'inspired': 'AIR', 'status': 'unrestricted normal activity'}, {'patient': 'E1073', 'sex': 'FEMALE', 'age': '18', 'breath': '24', 'o2 sat': '0.95', 'heart': '50', 'systolic bp': '115', 'temp': '38.1', 'alertness': 'Confused or Not Alert', 'inspired': 'AIR', 'status': 'limited self-care'}, {'patient': 'E9608', 'sex': 'female', 'age': '80', 'breath': '12', 'o2 sat': '0.96', 'heart': '50', 'systolic bp': '89', 'temp': '38.1', 'alertness': 'ALERT', 'inspired': 'AIR', 'status': 'unrestricted normal activity'}, {'patient': 'E7663', 'sex': 'FEMALE', 'age': '18', 'breath': '11', 'o2 sat': '0.96', 'heart': '105', 'systolic bp': '115', 'temp': '38.1', 'alertness': 'ALERT', 'inspired': 'air', 'status': 'limited self-care'}, {'patient': 'E7648', 'sex': 'female', 'age': '66', 'breath': '12', 'o2 sat': '0.98', 'heart': '41', 'systolic bp': '115', 'temp': '34.9', 'alertness': 'ALERT', 'inspired': 'air', 'status': 'unrestricted normal activity'}, {'patient': 'E1883', 'sex': 'male', 'age': '40', 'breath': '10', 'o2 sat': '0.98', 'heart': '105', 'systolic bp': '115', 'temp': '38.1', 'alertness': 'ALERT', 'inspired': 'AIR', 'status': 'unrestricted normal activity'}, {'patient': 'E2001', 'sex': 'FEMALE', 'age': '18', 'breath': '12', 'o2 sat': '0.99', 'heart': '51', 'systolic bp': '115', 'temp': '38.1', 'alertness': 'Confused or Not Alert', 'inspired': 'AIR', 'status': 'unrestricted normal activity'}, {'patient': 'E2418', 'sex': 'male', 'age': '18', 'breath': '20', 'o2 sat': '0.94', 'heart': '105', 'systolic bp': '115', 'temp': '35.4', 'alertness': 'ALERT', 'inspired': 'air', 'status': 'unrestricted normal activity'}, {'patient': 'E3739', 'sex': 'Male', 'age': '85', 'breath': '10', 'o2 sat': '0.96', 'heart': '105', 'systolic bp': '115', 'temp': '38.1', 'alertness': 'Confused or Not Alert', 'inspired': 'supplemental oxygen', 'status': 'unrestricted normal activity'}, {'patient': 'E8351', 'sex': 'FEMALE', 'age': '40', 'breath': '23', 'o2 sat': '0.96', 'heart': '90', 'systolic bp': '101', 'temp': '38.1', 'alertness': 'ALERT', 'inspired': 'AIR', 'status': 'unrestricted normal activity'}, {'patient': 'E2882', 'sex': 'Male', 'age': '51', 'breath': '24', 'o2 sat': '0.98', 'heart': '105', 'systolic bp': '91', 'temp': '38.1', 'alertness': 'ALERT', 'inspired': 'AIR', 'status': 'unrestricted normal activity'}, {'patient': 'E1902', 'sex': 'Female', 'age': '85', 'breath': '22', 'o2 sat': '0.96', 'heart': '105', 'systolic bp': '115', 'temp': '38.1', 'alertness': 'ALERT', 'inspired': 'supplemental oxygen', 'status': 'unrestricted normal activity'}, {'patient': 'E2155', 'sex': 'Male', 'age': '18', 'breath': '22', 'o2 sat': '0.94', 'heart': '105', 'systolic bp': '115', 'temp': '38.1', 'alertness': 'ALERT', 'inspired': 'air', 'status': 'limited self-care'}, {'patient': 'E4345', 'sex': 'Female', 'age': '40', 'breath': '19', 'o2 sat': '0.89', 'heart': '41', 'systolic bp': '115', 'temp': '34.9', 'alertness': 'ALERT', 'inspired': 'air', 'status': 'unrestricted normal activity'}, {'patient': 'E4194', 'sex': 'FEMALE', 'age': '40', 'breath': '12', 'o2 sat': '0.95', 'heart': '105', 'systolic bp': '91', 'temp': '38.1', 'alertness': 'ALERT', 'inspired': 'AIR', 'status': 'limited self-care'}, {'patient': 'E5211', 'sex': 'male', 'age': '65', 'breath': '22', 'o2 sat': '0.96', 'heart': '41', 'systolic bp': '115', 'temp': '38.1', 'alertness': 'ALERT', 'inspired': 'AIR', 'status': 'unrestricted normal activity'}, {'patient': 'E5488', 'sex': 'Female', 'age': '40', 'breath': '12', 'o2 sat': '0.94', 'heart': '105', 'systolic bp': '101', 'temp': '38.1', 'alertness': 'ALERT', 'inspired': 'AIR', 'status': 'unrestricted normal activity'}, {'patient': 'E8560', 'sex': 'FEMALE', 'age': '40', 'breath': '23', 'o2 sat': '0.96', 'heart': '41', 'systolic bp': '115', 'temp': '35.1', 'alertness': 'confused or not alert', 'inspired': 'AIR', 'status': 'unrestricted normal activity'}, {'patient': 'E2995', 'sex': 'FEMALE', 'age': '18', 'breath': '20', 'o2 sat': '0.99', 'heart': '105', 'systolic bp': '95', 'temp': '35.1', 'alertness': 'alert', 'inspired': 'AIR', 'status': 'unrestricted normal activity'}, {'patient': 'E3422', 'sex': 'FEMALE', 'age': '40', 'breath': '8', 'o2 sat': '0.96', 'heart': '105', 'systolic bp': '115', 'temp': '35.4', 'alertness': 'ALERT', 'inspired': 'AIR', 'status': 'unrestricted normal activity'}, {'patient': 'E7707', 'sex': 'Female', 'age': '18', 'breath': '20', 'o2 sat': '0.96', 'heart': '38', 'systolic bp': '115', 'temp': '36.3', 'alertness': 'ALERT', 'inspired': 'air', 'status': 'limited strenuous activity, can do light activity'}, {'patient': 'E3119', 'sex': 'FEMALE', 'age': '18', 'breath': '20', 'o2 sat': '0.99', 'heart': '135', 'systolic bp': '89', 'temp': '35.1', 'alertness': 'ALERT', 'inspired': 'supplemental oxygen', 'status': 'unrestricted normal activity'}, {'patient': 'E1419', 'sex': 'male', 'age': '65', 'breath': '23', 'o2 sat': '0.99', 'heart': '105', 'systolic bp': '91', 'temp': '38.1', 'alertness': 'alert', 'inspired': 'AIR', 'status': 'unrestricted normal activity'}, {'patient': 'E7748', 'sex': 'male', 'age': '40', 'breath': '23', 'o2 sat': '0.93', 'heart': '105', 'systolic bp': '115', 'temp': '38.1', 'alertness': 'ALERT', 'inspired': 'supplemental oxygen', 'status': 'unrestricted normal activity'}, {'patient': 'E7251', 'sex': 'Female', 'age': '40', 'breath': '12', 'o2 sat': '0.96', 'heart': '105', 'systolic bp': '91', 'temp': '38.1', 'alertness': 'alert', 'inspired': 'AIR', 'status': 'unrestricted normal activity'}, {'patient': 'E1235', 'sex': 'FEMALE', 'age': '40', 'breath': '29', 'o2 sat': '0.96', 'heart': '41', 'systolic bp': '115', 'temp': '38.1', 'alertness': 'ALERT', 'inspired': 'AIR', 'status': 'bed/chair bound, no self-care'}, {'patient': 'E5361', 'sex': 'FEMALE', 'age': '18', 'breath': '22', 'o2 sat': '0.93', 'heart': '90', 'systolic bp': '101', 'temp': '38.1', 'alertness': 'confused or not alert', 'inspired': 'AIR', 'status': 'unrestricted normal activity'}, {'patient': 'E7130', 'sex': 'FEMALE', 'age': '18', 'breath': '22', 'o2 sat': '0.96', 'heart': '50', 'systolic bp': '115', 'temp': '38.1', 'alertness': 'ALERT', 'inspired': 'AIR', 'status': 'limited strenuous activity, can do light activity'}, {'patient': 'E5665', 'sex': 'FEMALE', 'age': '85', 'breath': '23', 'o2 sat': '0.96', 'heart': '115', 'systolic bp': '115', 'temp': '38.1', 'alertness': 'ALERT', 'inspired': 'AIR', 'status': 'unrestricted normal activity'}, {'patient': 'E9957', 'sex': 'Female', 'age': '40', 'breath': '22', 'o2 sat': '0.98', 'heart': '89', 'systolic bp': '230', 'temp': '38.1', 'alertness': 'alert', 'inspired': 'AIR', 'status': 'unrestricted normal activity'}, {'patient': 'E10000', 'sex': 'FEMALE', 'age': '18', 'breath': '23', 'o2 sat': '0.96', 'heart': '105', 'systolic bp': '101', 'temp': '38.1', 'alertness': 'ALERT', 'inspired': 'AIR', 'status': 'limited activity, can self-care'}]\n"
          ]
        }
      ]
    },
    {
      "cell_type": "markdown",
      "metadata": {
        "id": "1h8r2Qq5iML3"
      },
      "source": [
        "## Part 5: Checking your final results\n",
        "\n",
        "The final step is to check your results.  You should be able to compare your results to the output in `people_results.json` at the link below.  Write some code to check your results.  This does not need to be a function.\n",
        "\n",
        "`https://drive.google.com/uc?export=download&id=1gx1SSC20mO5XL6uYD0mdcM_cL91fcIW5`\n"
      ]
    },
    {
      "cell_type": "code",
      "execution_count": 32,
      "metadata": {
        "colab": {
          "base_uri": "https://localhost:8080/"
        },
        "id": "KWNHJfuviML3",
        "outputId": "7fc2a0e0-be2f-49d5-c13a-55ae210d4d3f"
      },
      "outputs": [
        {
          "output_type": "stream",
          "name": "stdout",
          "text": [
            "yikes\n"
          ]
        }
      ],
      "source": [
        "url_answers= \"https://hds5210-data.s3.amazonaws.com/people_results.json\"\n",
        "\n",
        "url_file = \"https://drive.google.com/uc?export=download&id=1fLxJN9YGUqmqExrilxSS8furwUER5HHh\"\n",
        "\n",
        "url_answers\n",
        "my_attempt = process_people(url_file)\n",
        "\n",
        "if url_answers == my_attempt:\n",
        "    print(\"good job\")\n",
        "else:\n",
        "    print(\"yikes\")"
      ]
    },
    {
      "cell_type": "code",
      "source": [
        "my_attempt"
      ],
      "metadata": {
        "id": "HTYjiAnj6TU6"
      },
      "execution_count": null,
      "outputs": []
    },
    {
      "cell_type": "markdown",
      "source": [
        "Ok, so my list has the column headings (or keys) still which is not required, but makes the comparison essentially fail....looks like we just needed the values to print alone, aside from the ID....."
      ],
      "metadata": {
        "id": "O4315DoE6uQG"
      }
    },
    {
      "cell_type": "markdown",
      "metadata": {
        "id": "nuuER_oRiML3"
      },
      "source": [
        "---\n",
        "\n",
        "## Check your work above\n",
        "\n",
        "If you didn't get them all correct, take a few minutes to think through those that aren't correct.\n",
        "\n",
        "\n",
        "## Submitting Your Work\n",
        "\n",
        "Submit your work as usual into a folder named `midterm`"
      ]
    },
    {
      "cell_type": "markdown",
      "metadata": {
        "id": "GqUEIG2XiML4"
      },
      "source": [
        "---"
      ]
    }
  ],
  "metadata": {
    "kernelspec": {
      "display_name": "Python 3",
      "language": "python",
      "name": "python3"
    },
    "language_info": {
      "codemirror_mode": {
        "name": "ipython",
        "version": 3
      },
      "file_extension": ".py",
      "mimetype": "text/x-python",
      "name": "python",
      "nbconvert_exporter": "python",
      "pygments_lexer": "ipython3",
      "version": "3.9.16"
    },
    "colab": {
      "provenance": [],
      "include_colab_link": true
    }
  },
  "nbformat": 4,
  "nbformat_minor": 0
}