{
  "cells": [
    {
      "cell_type": "markdown",
      "metadata": {
        "id": "view-in-github",
        "colab_type": "text"
      },
      "source": [
        "<a href=\"https://colab.research.google.com/github/pmSLUMSHDS/hds5210-2023/blob/main/week03/week03_assignment_2.ipynb\" target=\"_parent\"><img src=\"https://colab.research.google.com/assets/colab-badge.svg\" alt=\"Open In Colab\"/></a>"
      ]
    },
    {
      "cell_type": "markdown",
      "metadata": {
        "nbgrader": {
          "grade": false,
          "grade_id": "intro",
          "locked": true,
          "schema_version": 1,
          "solution": false
        },
        "id": "jIah8QzNVwy5"
      },
      "source": [
        "# Week 3 Exercises\n",
        "\n",
        "See: _McKinney 2.3_ and [Python Documentation](https://docs.python.org/3/tutorial/controlflow.html) section 4 on flow control.\n",
        "\n",
        "\n",
        "**At the begining of the semester, all of the workshop programming exercises will be structured a specific way to make it easier to verify for yourself that you're on the right track as well as easier for me to do a first pass on automated grading.  The structure of each question will require you to write a function using Python code. Don't worry that we haven't talked about functions yet. Just edit the code between** `### BEGIN SOLUTION` and `### END SOLUTION` **as shown in the example below.**\n"
      ]
    },
    {
      "cell_type": "markdown",
      "metadata": {
        "id": "qC0YDdysVwy7"
      },
      "source": [
        "**WHAT I PROVIDE:**\n",
        "```\n",
        "def some_function(parameter1, parameter2):\n",
        "\n",
        "   ### BEGIN SOLUTION\n",
        "   x = -1\n",
        "   ### END SOLUTION\n",
        "   \n",
        "   return x\n",
        "```\n",
        "\n",
        "**WHAT YOU SHOULD DO:** Just change the parameter names (if you feel you need to) and the calculations between `### BEGIN SOLUTION` and `### END SOLUTION`.  This is just a made up example.\n",
        "```\n",
        "def some_function(a, b):\n",
        "\n",
        "   ### BEGIN SOLUTION\n",
        "   temp = a + b\n",
        "   x = temp / a * b\n",
        "   ### END SOLUTION\n",
        "   \n",
        "   return x\n",
        "```\n"
      ]
    },
    {
      "cell_type": "markdown",
      "metadata": {
        "id": "Y3e50tOkVwy8"
      },
      "source": [
        "---\n",
        "---\n",
        "\n",
        "**Below each programming exercise are some tests (`assertions`) that verify your code is working correctly.  If any assertions fail, you know that something isnt' right with your code, but having all assertions pass doesn't necessarily mean your code is perfect, yet. You should also create your own tests to make sure your code is correct.**\n",
        "\n",
        "**For now, please don't change any function names**"
      ]
    },
    {
      "cell_type": "markdown",
      "metadata": {
        "id": "APGnGiDoVwy8"
      },
      "source": [
        "### 14.1 Difference in rate per 1,000\n",
        "\n",
        "Often in public health, we report metrics as a number per 1,000 or per 1,000,000 in population. The purpose of that is to normalize the numbers between area of larger and smaller populations.\n",
        "\n",
        "Below, we have a function already built to calculate teh different in rate per 1,000 in two different regions.  The function normalizes them and then prints out a message describing their difference."
      ]
    },
    {
      "cell_type": "code",
      "execution_count": 1,
      "metadata": {
        "id": "emZVGA2EVwy8"
      },
      "outputs": [],
      "source": [
        "def diff_in_rate_normalized(number_occur_a, total_population_a, number_occur_b, total_population_b):\n",
        "    \"\"\"(int,int,int,int) -> str\n",
        "    * number_occur_a is the number of occurences in area A\n",
        "    * total_population_a is the total population in area A\n",
        "    * number_occur_b is the number of occurences in area B\n",
        "    * total_population_b is the total population in area B\n",
        "\n",
        "    This function returns a string describing how A and B compare in terms of occurence rates per 1,000 population.\"\"\"\n",
        "\n",
        "    rate_a = number_occur_a / total_population_a * 1000\n",
        "    rate_b = number_occur_b / total_population_b * 1000\n",
        "\n",
        "    if rate_a == rate_b:\n",
        "        msg = \"The rate in A and the rate in B are the same ({}).\".format(rate_a)\n",
        "    elif rate_a > rate_b:\n",
        "        msg = \"The rate in A ({}) is greater than the rate in B ({}).\".format(rate_a, rate_b)\n",
        "    else:\n",
        "        msg = \"The rate in A ({}) is less than the rate in B ({})\".format(rate_a, rate_b)\n",
        "\n",
        "    return msg"
      ]
    },
    {
      "cell_type": "code",
      "execution_count": 2,
      "metadata": {
        "id": "F_RynXDMVwy-",
        "outputId": "2e71cbdf-51c2-45cf-94d6-43f8663e03f1",
        "colab": {
          "base_uri": "https://localhost:8080/"
        }
      },
      "outputs": [
        {
          "output_type": "stream",
          "name": "stdout",
          "text": [
            "The rate in A (1.0) is less than the rate in B (1.5)\n"
          ]
        }
      ],
      "source": [
        "rate_covid_testing = diff_in_rate_normalized(1,1000,15,10000)\n",
        "print(rate_covid_testing)"
      ]
    },
    {
      "cell_type": "code",
      "execution_count": 3,
      "metadata": {
        "id": "_LRX8DZzVwy-",
        "outputId": "af9aeb74-89ea-4a16-a4a0-51bbbed74fa7",
        "colab": {
          "base_uri": "https://localhost:8080/",
          "height": 35
        }
      },
      "outputs": [
        {
          "output_type": "execute_result",
          "data": {
            "text/plain": [
              "'The rate in A and the rate in B are the same (3.0).'"
            ],
            "application/vnd.google.colaboratory.intrinsic+json": {
              "type": "string"
            }
          },
          "metadata": {},
          "execution_count": 3
        }
      ],
      "source": [
        "diff_in_rate_normalized(3,1000,30,10000)"
      ]
    },
    {
      "cell_type": "markdown",
      "metadata": {
        "id": "m4XNXHsYVwy_"
      },
      "source": [
        "### 14.2 Trimming outliers\n",
        "\n",
        "While it works well in most cases, in practice, this may not truly make numbers comparable between extremely large population centers (e.g. New York City at 8.5 million) and very small rural areas (e.g. Meeteese, WY at 459 people).\n",
        "\n",
        "Let's take that function and make some adjustments.  If the total population of either A or B is more than 100 times larger than the other, then we want to return a different message.  That is, if the populations are more than two orders of magnitude different, then we shouldn't try to compare them."
      ]
    },
    {
      "cell_type": "code",
      "execution_count": 4,
      "metadata": {
        "id": "Evr7r4FTVwy_"
      },
      "outputs": [],
      "source": [
        "def diff_in_rate_normalized(number_occur_a, total_population_a, number_occur_b, total_population_b):\n",
        "    \"\"\"(int,int,int,int) -> str\n",
        "    * number_occur_a is the number of occurences in area A\n",
        "    * total_population_a is the total population in area A\n",
        "    * number_occur_b is the number of occurences in area B\n",
        "    * total_population_b is the total population in area B\n",
        "\n",
        "    This function returns a string describing how A and B compare in terms of occurence rates per 1,000 population.\n",
        "\n",
        "    If total_population_a / total_population_b > 100 OR total_population_b / total_population_a > 100 then we'll return a message saying the two can't be compared.\n",
        "    \"The total populations in A and B are so different that they can't be compared.\"\n",
        "    \"\"\"\n",
        "\n",
        "    # Do some work to write a msg\n",
        "    rate_a = number_occur_a / total_population_a * 1000\n",
        "    rate_b = number_occur_b / total_population_b * 1000\n",
        "\n",
        "    if total_population_a / total_population_b > 100 or total_population_b / total_population_a > 100:\n",
        "        msg = \"The total populations in A and B are so different that they can't be compared.\"\n",
        "    elif rate_a == rate_b:\n",
        "        msg = \"The rate in A and the rate in B are the same ({}).\".format(rate_a)\n",
        "    elif rate_a > rate_b:\n",
        "        msg = \"The rate in A ({}) is greater than the rate in B ({}).\".format(rate_a, rate_b)\n",
        "    else:\n",
        "        msg = \"The rate in A ({}) is less than the rate in B ({})\".format(rate_a, rate_b)\n",
        "\n",
        "    return msg"
      ]
    },
    {
      "cell_type": "code",
      "execution_count": 5,
      "metadata": {
        "id": "NxSQNZyeVwy_",
        "outputId": "08509b76-88da-43c8-c2f3-ae504de05820",
        "colab": {
          "base_uri": "https://localhost:8080/",
          "height": 35
        }
      },
      "outputs": [
        {
          "output_type": "execute_result",
          "data": {
            "text/plain": [
              "'The rate in A (10.893246187363834) is greater than the rate in B (3.5294117647058827).'"
            ],
            "application/vnd.google.colaboratory.intrinsic+json": {
              "type": "string"
            }
          },
          "metadata": {},
          "execution_count": 5
        }
      ],
      "source": [
        "diff_in_rate_normalized(5, 459, 30, 8500)"
      ]
    },
    {
      "cell_type": "code",
      "source": [
        "diff_in_rate_normalized(23, 30000, 13, 13)"
      ],
      "metadata": {
        "id": "LPGn4gI-TT7g",
        "outputId": "3c2ab98d-787a-494e-dc13-6bc283ffe31c",
        "colab": {
          "base_uri": "https://localhost:8080/",
          "height": 35
        }
      },
      "execution_count": 6,
      "outputs": [
        {
          "output_type": "execute_result",
          "data": {
            "text/plain": [
              "\"The total populations in A and B are so different that they can't be compared.\""
            ],
            "application/vnd.google.colaboratory.intrinsic+json": {
              "type": "string"
            }
          },
          "metadata": {},
          "execution_count": 6
        }
      ]
    },
    {
      "cell_type": "markdown",
      "metadata": {
        "nbgrader": {
          "grade": false,
          "grade_id": "bmi",
          "locked": true,
          "schema_version": 1,
          "solution": false
        },
        "id": "Q8o0jCpPVwy_"
      },
      "source": [
        "### 14.3 LACE Score\n",
        "There is a simple readmission index called the LACE Score: https://www.hindawi.com/journals/bmri/2015/169870/tab1/\n",
        "\n",
        "Use this documentation to create a function that can compute LACE scores based on the 4 input parameters.  Below is the function signature and documentation that you start with."
      ]
    },
    {
      "cell_type": "code",
      "execution_count": 7,
      "metadata": {
        "nbgrader": {
          "grade": false,
          "grade_id": "bmi-answer",
          "locked": false,
          "schema_version": 1,
          "solution": true
        },
        "id": "eAxBvUgMVwy_"
      },
      "outputs": [],
      "source": [
        "def LACE(length_of_stay, acute_flag, charlson, ed_visits):\n",
        "    \"\"\"(int, bool, int, int) -> int\n",
        "    This function uses the logic from https://www.hindawi.com/journals/bmri/2015/169870/tab1/\n",
        "    to compute the LACE score for this patient.\n",
        "\n",
        "\n",
        "    >>> LACE(4, False, 1, 0)\n",
        "    5\n",
        "    >>> LACE(4, True, 4, 7)\n",
        "    16\n",
        "\n",
        "    \"\"\"\n",
        "    lace_score = 0\n",
        "\n",
        "    if length_of_stay < 1:\n",
        "        lace_score = lace_score + 0\n",
        "    elif length_of_stay == 1:\n",
        "        lace_score = lace_score + 1\n",
        "    elif length_of_stay == 2:\n",
        "        lace_score = lace_score + 2\n",
        "    elif length_of_stay == 3:\n",
        "        lace_score = lace_score + 3\n",
        "    elif length_of_stay >= 4 and length_of_stay < 7:\n",
        "        lace_score = lace_score + 4\n",
        "    elif length_of_stay >= 7 and length_of_stay < 14:\n",
        "        lace_score = lace_score + 5\n",
        "    else:\n",
        "        lace_score = lace_score + 7\n",
        "\n",
        "    if acute_flag == True:\n",
        "        lace_score = lace_score + 3\n",
        "    else:\n",
        "        lace_score = lace_score + 0\n",
        "\n",
        "    if charlson == 0:\n",
        "        lace_score = lace_score + 0\n",
        "    elif charlson == 1:\n",
        "        lace_score = lace_score + 1\n",
        "    elif charlson == 2:\n",
        "        lace_score = lace_score + 2\n",
        "    elif charlson == 3:\n",
        "        lace_score = lace_score + 3\n",
        "    else:\n",
        "        lace_score = lace_score + 5\n",
        "\n",
        "    if ed_visits == 0:\n",
        "        lace_score = lace_score + 0\n",
        "    elif ed_visits == 1:\n",
        "        lace_score = lace_score + 1\n",
        "    elif ed_visits == 2:\n",
        "        lace_score = lace_score + 2\n",
        "    elif ed_visits == 3:\n",
        "        lace_score = lace_score + 3\n",
        "    else:\n",
        "        lace_score = lace_score + 4\n",
        "\n",
        "    return lace_score"
      ]
    },
    {
      "cell_type": "code",
      "execution_count": 8,
      "metadata": {
        "nbgrader": {
          "grade": true,
          "grade_id": "bmi-test",
          "locked": true,
          "points": 10,
          "schema_version": 1,
          "solution": false
        },
        "id": "oNnYyhf6VwzA"
      },
      "outputs": [],
      "source": [
        "assert LACE(4, False, 1, 0) == 5\n",
        "assert LACE(4, True, 4, 7) == 16"
      ]
    },
    {
      "cell_type": "markdown",
      "metadata": {
        "nbgrader": {
          "grade": false,
          "grade_id": "weight",
          "locked": true,
          "schema_version": 1,
          "solution": false
        },
        "id": "7zYPQKYzVwzA"
      },
      "source": [
        "### 14.4 Care Management Criteria\n",
        "\n",
        "Care managers use LACE as part of the criteria for assigning a care coodinator to a patient who has been recently discharged. If the score is above 10, then a care coordinator will be assigned. The other criteria they use is if the patient has been discharged with a diagnosis of CHF or COPD.  If the diagnosis field has CHF or COPD in it, then the patient will have a care coordinator assigned.\n",
        "\n",
        "For this exercise, write another function that takes the same inputs as LACE() plus another diagnosis parameter, and return True or False depending on if the paient needs a care coordinator.\n",
        "\n",
        "**NOTE** Pay attention to the fact that the order of parameters in this function definition are not the same as the order they were in the LACE score.  "
      ]
    },
    {
      "cell_type": "code",
      "execution_count": 9,
      "metadata": {
        "nbgrader": {
          "grade": false,
          "grade_id": "weight-answer",
          "locked": false,
          "schema_version": 1,
          "solution": true
        },
        "id": "rr7SeJE7VwzA"
      },
      "outputs": [],
      "source": [
        "\n",
        "def assign_care_coordinator(diagnosis_cd, ed_visits, length_of_stay, acute_flag, charlson):\n",
        "    \"\"\" (str, int, int, bool, int) -> bool\n",
        "    Care managers use LACE as part of the criteria for assigning a care coodinator to a\n",
        "    patient who has been recently discharged. If the score is above 10, then a care\n",
        "    coordinator will be assigned. The other criteria they use is if the patient has been\n",
        "    discharged with a diagnosis of CHF or COPD. If the diagnosis field has CHF or COPD in\n",
        "    it, then the patient will have a care coordinator assigned.\n",
        "\n",
        "    >>> assign_care_coordinator('None', 0, 4, False, 1)\n",
        "    False\n",
        "\n",
        "    >>> assign_care_coordinator('CHF', 0, 4, False, 1)\n",
        "    True\n",
        "\n",
        "    >>> assign_care_coordinator('COPD', 0, 4, False, 1)\n",
        "    True\n",
        "\n",
        "    >>> assign_care_coordinator('None', 7, 4, True, 4)\n",
        "    True\n",
        "\n",
        "    >>> assign_care_coordinator('CHF', 7, 4, True, 4)\n",
        "    True\n",
        "    \"\"\"\n",
        "    lace_score = 0\n",
        "\n",
        "\n",
        "    if diagnosis_cd == 'CHF':\n",
        "        assignment = True\n",
        "    elif diagnosis_cd == 'COPD':\n",
        "        assignment = True\n",
        "    elif diagnosis_cd == 'None':\n",
        "        assignment = False\n",
        "    else:\n",
        "        assignment = False\n",
        "\n",
        "    if ed_visits == 0:\n",
        "        lace_score = lace_score + 0\n",
        "    elif ed_visits == 1:\n",
        "        lace_score = lace_score + 1\n",
        "    elif ed_visits == 2:\n",
        "        lace_score = lace_score + 2\n",
        "    elif ed_visits == 3:\n",
        "        lace_score = lace_score + 3\n",
        "    else:\n",
        "        lace_score = lace_score + 4\n",
        "\n",
        "    if length_of_stay < 1:\n",
        "        lace_score = lace_score + 0\n",
        "    elif length_of_stay == 1:\n",
        "        lace_score = lace_score + 1\n",
        "    elif length_of_stay == 2:\n",
        "        lace_score = lace_score + 2\n",
        "    elif length_of_stay == 3:\n",
        "        lace_score = lace_score + 3\n",
        "    elif length_of_stay >= 4 and length_of_stay < 7:\n",
        "        lace_score = lace_score + 4\n",
        "    elif length_of_stay >= 7 and length_of_stay < 14:\n",
        "        lace_score = lace_score + 5\n",
        "    else:\n",
        "        lace_score = lace_score + 7\n",
        "\n",
        "    if acute_flag == True:\n",
        "        lace_score = lace_score + 3\n",
        "    else:\n",
        "        lace_score = lace_score + 0\n",
        "\n",
        "    if charlson == 0:\n",
        "        lace_score = lace_score + 0\n",
        "    elif charlson == 1:\n",
        "        lace_score = lace_score + 1\n",
        "    elif charlson == 2:\n",
        "        lace_score = lace_score + 2\n",
        "    elif charlson == 3:\n",
        "        lace_score = lace_score + 3\n",
        "    else:\n",
        "        lace_score = lace_score + 5\n",
        "\n",
        "\n",
        "    if assignment == False and lace_score > 10:\n",
        "        assignment = True\n",
        "    elif assignment == True and lace_score > 10:\n",
        "        assignment = True\n",
        "    elif assignment == True and lace_score <= 10:\n",
        "        assignment = True\n",
        "    elif assignment == False and lace_score <= 10:\n",
        "        assignment = False\n",
        "    else:\n",
        "        assignment = False\n",
        "\n",
        "\n",
        "    return assignment\n",
        "\n",
        ""
      ]
    },
    {
      "cell_type": "code",
      "execution_count": 10,
      "metadata": {
        "nbgrader": {
          "grade": true,
          "grade_id": "weight-tests",
          "locked": true,
          "points": 5,
          "schema_version": 1,
          "solution": false
        },
        "id": "bJ5sRo3-VwzA"
      },
      "outputs": [],
      "source": [
        "assert assign_care_coordinator('None', 0, 4, False, 1) == False\n",
        "assert assign_care_coordinator('CHF', 0, 4, False, 1) == True\n",
        "assert assign_care_coordinator('COPD', 0, 4, False, 1) == True\n",
        "assert assign_care_coordinator('None', 7, 4, True, 4) == True\n",
        "assert assign_care_coordinator('CHF', 7, 4, True, 4) == True"
      ]
    },
    {
      "cell_type": "code",
      "execution_count": 10,
      "metadata": {
        "id": "j6iNYF8sVwzA"
      },
      "outputs": [],
      "source": []
    },
    {
      "cell_type": "markdown",
      "metadata": {
        "id": "0Yit18YXVwzB"
      },
      "source": [
        "### 14.5 qCSI COVID-19 Severity Index\n",
        "\n",
        "See: https://www.mdcalc.com/quick-covid-19-severity-index-qcsi#evidence\n",
        "\n",
        "Calculate the total risk score as per the point values assigned to respiratory rate, pulse oximetry, and O2 flow rate.  Then calculate and return the Risk Level.\n",
        "\n",
        "In addition to the rules provided at the link above, also add the following checks for valid values:\n",
        "* If `respiratory_rate <= 0` then return _invalid respiratory rate_\n",
        "* If `pulse_ox <= 0` then return _invalid pulse ox_\n",
        "* If `pulse_ox > 100` then return _invalid pulse ox_\n",
        "* If `os_flow <= 0` then return _invalid O2 flow rate_"
      ]
    },
    {
      "cell_type": "code",
      "execution_count": 11,
      "metadata": {
        "id": "Ywdfh5cGVwzB"
      },
      "outputs": [],
      "source": [
        "def qcsi(respiratory_rate, pulse_ox, o2_flow):\n",
        "    \"\"\"(int, int, int) -> str\n",
        "    * respiratory_rate is an integer value\n",
        "    * pulse_ox is an integer value (e.g. 30 means 30%)\n",
        "    * o2_flow is an integer value\n",
        "    \"\"\"\n",
        "\n",
        "    ### BEGIN SOLUTION\n",
        "    qcsi_score = 0\n",
        "\n",
        "    if respiratory_rate <= 0:\n",
        "        return 'invalid respiratory rate'\n",
        "    elif respiratory_rate <= 22:\n",
        "        qcsi_score = qcsi_score + 0\n",
        "    elif respiratory_rate >= 23 and respiratory_rate < 29:\n",
        "        qcsi_score = qcsi_score + 1\n",
        "    else:\n",
        "        qcsi_score = qcsi_score + 2\n",
        "\n",
        "    if pulse_ox <= 0:\n",
        "        return 'invalid pulse ox'\n",
        "    elif pulse_ox <= 88:\n",
        "        qcsi_score = qcsi_score + 5\n",
        "    elif pulse_ox >= 89 and pulse_ox <= 92:\n",
        "        qcsi_score = qcsi_score + 2\n",
        "    elif pulse_ox >= 93 and pulse_ox < 100:\n",
        "        qcsi_score = qcsi_score + 0\n",
        "    else:\n",
        "        return 'invalid pulse ox'\n",
        "\n",
        "    if o2_flow <= 0:\n",
        "        return 'invalid O2 flow rate'\n",
        "    elif o2_flow <= 2:\n",
        "        qcsi_score = qcsi_score + 0\n",
        "    elif o2_flow <= 4:\n",
        "        qcsi_score = qcsi_score + 4\n",
        "    else:\n",
        "        qcsi_score = qcsi_score + 5\n",
        "\n",
        "    if qcsi_score <= 3:\n",
        "        risk_rate = 'low'\n",
        "    elif qcsi_score >= 4 and qcsi_score <= 6:\n",
        "        risk_rate = 'low-intermediate'\n",
        "    elif qcsi_score >= 7 and qcsi_score <= 9:\n",
        "        risk_rate = 'high-intermediate'\n",
        "    else:\n",
        "        risk_rate = 'high'\n",
        "\n",
        "\n",
        "    ### END SOLUTION\n",
        "\n",
        "    return risk_rate"
      ]
    },
    {
      "cell_type": "code",
      "execution_count": 12,
      "metadata": {
        "id": "4rddIZNcVwzB"
      },
      "outputs": [],
      "source": [
        "assert (qcsi(29, 95, 1) == 'low')\n",
        "assert (qcsi(20, 93, 1) == 'low')\n",
        "assert (qcsi(29, 88, 1) == 'high-intermediate')\n",
        "assert (qcsi(29, 88, 4) == 'high')\n",
        "assert (qcsi(30, 90, 1) == 'low-intermediate')\n",
        "assert (qcsi(28, 92, -1) == 'invalid O2 flow rate')\n",
        "assert (qcsi(22, 0, 4) == 'invalid pulse ox')\n",
        "assert (qcsi(0, 97, 2) == 'invalid respiratory rate')"
      ]
    },
    {
      "cell_type": "markdown",
      "metadata": {
        "id": "y637iMebVwzB"
      },
      "source": [
        "---\n",
        "\n",
        "## Check your work above\n",
        "\n",
        "If you didn't get them all correct, take a few minutes to think through those that aren't correct.\n",
        "\n",
        "\n",
        "## Submitting Your Work\n",
        "\n",
        "In order to submit your work, you'll need to save this notebook file back to GitHub.  To do that in Google Colab:\n",
        "1. File -> Save a Copy in GitHub\n",
        "2. Make sure your HDS5210 repository is selected\n",
        "3. Make sure the file name includes the week number like this: `week03/week03_assignment_2.ipynb`\n",
        "4. Add a commit message that means something\n",
        "\n",
        "**Be sure week names are lowercase and use a two digit week number!!**\n",
        "\n",
        "**Be sure you use the same file name provided by the instructor!!**\n",
        "\n"
      ]
    },
    {
      "cell_type": "markdown",
      "metadata": {
        "id": "MOO4ZdvPVwzB"
      },
      "source": [
        "---"
      ]
    }
  ],
  "metadata": {
    "celltoolbar": "Create Assignment",
    "kernelspec": {
      "display_name": "Python 3",
      "language": "python",
      "name": "python3"
    },
    "language_info": {
      "codemirror_mode": {
        "name": "ipython",
        "version": 3
      },
      "file_extension": ".py",
      "mimetype": "text/x-python",
      "name": "python",
      "nbconvert_exporter": "python",
      "pygments_lexer": "ipython3",
      "version": "3.6.7"
    },
    "colab": {
      "provenance": [],
      "include_colab_link": true
    }
  },
  "nbformat": 4,
  "nbformat_minor": 0
}