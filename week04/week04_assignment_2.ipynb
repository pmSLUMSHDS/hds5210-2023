{
  "cells": [
    {
      "cell_type": "markdown",
      "metadata": {
        "id": "view-in-github",
        "colab_type": "text"
      },
      "source": [
        "<a href=\"https://colab.research.google.com/github/pmSLUMSHDS/hds5210-2023/blob/main/week04/week04_assignment_2.ipynb\" target=\"_parent\"><img src=\"https://colab.research.google.com/assets/colab-badge.svg\" alt=\"Open In Colab\"/></a>"
      ]
    },
    {
      "cell_type": "markdown",
      "metadata": {
        "nbgrader": {
          "grade": false,
          "grade_id": "intro",
          "locked": true,
          "schema_version": 1,
          "solution": false
        },
        "id": "9FBj1FyWFOx4"
      },
      "source": [
        "# Week 4 Exercises\n",
        "\n",
        "See: _McKinney 3.1_ and [Python Documentation](https://docs.python.org/3/tutorial/datastructures.html) section 5 on data structures.\n",
        "\n",
        "Modules 13 through 15 have all been about different built-in data types that can be used to create larger and more complex data structures.  We learned about tuples, lists, dictionaries, and how to access and process that data in new ways.\n",
        "\n",
        "**At the begining of the semester, all of the workshop programming exercises will be structured a specific way to make it easier to verify for yourself that you're on the right track as well as easier for me to do a first pass on automated grading.  The structure of each question will require you to write a function using Python code. Don't worry that we haven't talked about functions yet. Just edit the code between** `### BEGIN SOLUTION` and `### END SOLUTION` **as shown in the example below.**\n"
      ]
    },
    {
      "cell_type": "markdown",
      "metadata": {
        "id": "3vCFwjXXFOx6"
      },
      "source": [
        "**WHAT I PROVIDE:**\n",
        "```\n",
        "def some_function(parameter1, parameter2):\n",
        "\n",
        "   ### BEGIN SOLUTION\n",
        "   x = -1\n",
        "   ### END SOLUTION\n",
        "   \n",
        "   return x\n",
        "```\n",
        "\n",
        "**WHAT YOU SHOULD DO:** Just change the parameter names (if you feel you need to) and the calculations between `### BEGIN SOLUTION` and `### END SOLUTION`.  This is just a made up example.\n",
        "```\n",
        "def some_function(a, b):\n",
        "\n",
        "   ### BEGIN SOLUTION\n",
        "   temp = a + b\n",
        "   x = temp / a * b\n",
        "   ### END SOLUTION\n",
        "   \n",
        "   return x\n",
        "```\n"
      ]
    },
    {
      "cell_type": "markdown",
      "metadata": {
        "id": "Fxl9cb9ZFOx7"
      },
      "source": [
        "---\n",
        "---\n",
        "\n",
        "**Below each programming exercise are some tests (`assertions`) that verify your code is working correctly.  If any assertions fail, you know that something isnt' right with your code, but having all assertions pass doesn't necessarily mean your code is perfect, yet. You should also create your own tests to make sure your code is correct.**\n",
        "\n",
        "**For now, please don't change any function names**"
      ]
    },
    {
      "cell_type": "markdown",
      "metadata": {
        "id": "ZFf2j4-LFOx7"
      },
      "source": [
        "### 20.1 Create a sorted list of names\n",
        "\n",
        "Take the list of names below (some are first and last, others are first, middle, and last) and produce a final list of full names.\n",
        "\n",
        "```\n",
        "sort_names([\n",
        "  ['Paul', 'Boal'],\n",
        "  ['Kermit','the','Frog'],\n",
        "  ['Donald','Duck']])\n",
        "\n",
        "['Paul Boal', 'Donald Duck', 'Kermit the Frog']\n",
        "```"
      ]
    },
    {
      "cell_type": "markdown",
      "metadata": {
        "id": "bOIZCDRLFOx8"
      },
      "source": [
        "**Tip:** If you have a list of lists and want to sort it, Python can do that. It will simply sort using the first item in each of the lists inside your list."
      ]
    },
    {
      "cell_type": "code",
      "execution_count": 107,
      "metadata": {
        "id": "bBjYVf-gFOx8"
      },
      "outputs": [],
      "source": [
        "names = [['Paul', 'Boal'], # this is list of names...or nested list of nmes....to be used in the code\n",
        "  ['Kermit','the','Frog'],\n",
        "  ['Donald','Duck']]"
      ]
    },
    {
      "cell_type": "code",
      "source": [],
      "metadata": {
        "id": "1y44qvIdVDzR"
      },
      "execution_count": 656,
      "outputs": []
    },
    {
      "cell_type": "markdown",
      "source": [
        "I am unsure why this was soooo much harder than the math section from last week. I used the optional textbook (Matthes, E. Python Crash Course 3rd Edition- A Hands-On, Project-Based Introduction to Programming, 2023). and watched a few YouTube videos (https://www.youtube.com/watch?v=3Tcq_dBhIrQ, https://www.youtube.com/watch?v=1lnPvBUSseA&t=98s) on lists and python for beginners. But they only served to confuse me more. So I started moving things around as you can see from all the lines turned into comments. Still didn't work."
      ],
      "metadata": {
        "id": "xMqdARM6N9nd"
      }
    },
    {
      "cell_type": "code",
      "execution_count": 169,
      "metadata": {
        "id": "w1D9Cb84FOx9"
      },
      "outputs": [],
      "source": [
        "from typing_extensions import LiteralString #importing necessary functions\n",
        "def name_sorter(names_list): #def is short for define....so we are defining the function, calling it name_sorter. Inside the () is what will be inputted to make the function run.\n",
        "    # Do something\n",
        "    full_names = [] #naming the list\n",
        "    for name in names_list: #starting the loop, for each name in the names_list....do something...in the next line\n",
        "        full_names.sort #(key = lambda k: k.split()[-1])      #sorting the list\n",
        "        #full_names.append(name[0] + \" \" + name[-1])\n",
        "        #full_names.append(name.split())\n",
        "    #names_list = []\n",
        "    for name in sorted(full_names, key=lambda x: x[-1]):   #starting another loop....for each name in the new full_names list, which is sorted first....not completely sure why we called lambda here, it is some sort of temporary function and the remainder of the lines relates to it.\n",
        "        names_list.append(' '.join(name)) #in short it loops through names keeping the names in each list together (via join), so it doesn't matter if there is a middle name or not.\n",
        "        #full_names.sort(names[-1])\n",
        "        #if name in names_list == ([\"Kermit\"]): #I've tried checking the length of words or if it startswith K or if the first name is Kermit.....nothing works. But if I take out the == Kermit bit it will add 'the' to the first name in the next line. So the error has to be in this line.\n",
        "            #full_names.append([name[0] + \" the\"])\n",
        "            #full_names.sort()\n",
        "        #else:\n",
        "            #full_names.append(name[0] + ' ' + name[-1])\n",
        "            #full_names.sort\n",
        "    #full_names.append(name[0] + \" \" + name[-1])\n",
        "    #full_names.sort\n",
        "    return names_list #after looping through names in list of lists, a single list is returned sorted alphabetically by last name but with the first name listed first."
      ]
    },
    {
      "cell_type": "markdown",
      "source": [
        "Okay, after the flurry of emails regarding this assignment, I Googled \"how to sort a nested list of names when some have included a middle name in python\". That led me to geeksforgeeks.org https://www.geeksforgeeks.org/python-program-to-sort-a-list-of-names-by-last-name/ which had several suggestions. Method 2 was not happy with me, so I switched to Method 1, which didn't work either but I tweaked it here and there. I can see now that I was making my code too specific in my if loop, so code would not have worked for any names given, only the original list, had I been able to get it to work. This is still not accurate but a little better as now it will work if middle names are included. Order still not right and it is a list of lists instead of just one list......alas......"
      ],
      "metadata": {
        "id": "2AEUcwX2Ufb2"
      }
    },
    {
      "cell_type": "code",
      "source": [
        "name_sorter(names)"
      ],
      "metadata": {
        "colab": {
          "base_uri": "https://localhost:8080/"
        },
        "id": "xeFUHGNpa8fa",
        "outputId": "2bf2e80d-72f5-4cc8-c4f1-d865dbc19d19"
      },
      "execution_count": 170,
      "outputs": [
        {
          "output_type": "execute_result",
          "data": {
            "text/plain": [
              "[['Paul', 'Boal'], ['Kermit', 'the', 'Frog'], ['Donald', 'Duck']]"
            ]
          },
          "metadata": {},
          "execution_count": 170
        }
      ]
    },
    {
      "cell_type": "code",
      "execution_count": 9,
      "metadata": {
        "colab": {
          "base_uri": "https://localhost:8080/",
          "height": 208
        },
        "id": "1rMxo03VFOx9",
        "outputId": "5a28fecd-e722-4b4b-ac7a-8f400b60a393"
      },
      "outputs": [
        {
          "output_type": "error",
          "ename": "AssertionError",
          "evalue": "ignored",
          "traceback": [
            "\u001b[0;31m---------------------------------------------------------------------------\u001b[0m",
            "\u001b[0;31mAssertionError\u001b[0m                            Traceback (most recent call last)",
            "\u001b[0;32m<ipython-input-9-fe087893c352>\u001b[0m in \u001b[0;36m<cell line: 5>\u001b[0;34m()\u001b[0m\n\u001b[1;32m      3\u001b[0m   ['Donald','Duck']]\n\u001b[1;32m      4\u001b[0m \u001b[0;34m\u001b[0m\u001b[0m\n\u001b[0;32m----> 5\u001b[0;31m \u001b[0;32massert\u001b[0m \u001b[0mname_sorter\u001b[0m\u001b[0;34m(\u001b[0m\u001b[0mnames\u001b[0m\u001b[0;34m)\u001b[0m \u001b[0;34m==\u001b[0m \u001b[0;34m[\u001b[0m\u001b[0;34m\"Paul Boal\"\u001b[0m\u001b[0;34m,\u001b[0m \u001b[0;34m\"Donald Duck\"\u001b[0m\u001b[0;34m,\u001b[0m \u001b[0;34m\"Kermit the Frog\"\u001b[0m\u001b[0;34m]\u001b[0m\u001b[0;34m\u001b[0m\u001b[0;34m\u001b[0m\u001b[0m\n\u001b[0m",
            "\u001b[0;31mAssertionError\u001b[0m: "
          ]
        }
      ],
      "source": [
        "names = [['Paul', 'Boal'],\n",
        "  ['Kermit','the','Frog'],\n",
        "  ['Donald','Duck']]\n",
        "\n",
        "assert name_sorter(names) == [\"Paul Boal\", \"Donald Duck\", \"Kermit the Frog\"]"
      ]
    },
    {
      "cell_type": "markdown",
      "metadata": {
        "id": "FhC68beEFOx-"
      },
      "source": [
        "### 20.2 Convert a dictionary to a list\n",
        "\n",
        "In this exercise, we're going to take a dictionary that has families and their names, and convert that into a list of names.  The dictionary is structured such that the key is the family name, and the value for that key is a list of first names.\n",
        "\n",
        "```\n",
        "{\n",
        "  'Boal': ['Paul', 'Anny', 'Jim'],\n",
        "  'Lester-Boal': ['Ellie', 'Ada', 'Teddy'],\n",
        "  'Lester': ['Sarahlynn', 'Jessica', 'Grace', 'Carolynn']\n",
        "}\n",
        "\n",
        "[['Boal', 'Paul'],\n",
        " ['Boal', 'Anny'],\n",
        " ['Boal', 'Jim'],\n",
        " ['Lester-Boal', 'Elliie'],\n",
        " ['Lester-Boal', 'Ada'],\n",
        " ...\n",
        "```"
      ]
    },
    {
      "cell_type": "markdown",
      "source": [
        "I watched several videos https://www.youtube.com/watch?v=oVLQTyvu4lo, https://www.youtube.com/watch?v=1lnPvBUSseA&t=98s, which did not help me so I went back to the book (Matthes, E. Python Crash Course 3rd Edition- A Hands-On, Project-Based Introduction to Programming, 2023) and reread the dictionary and lists sections but it was actually the csdojo videos linked in the modules that got me going in the right direction. He did one with key, values in d.items that helped me kind of reason through. Not really sure why it works or if it is truly correct. Why did I need brackets and parentheses?"
      ],
      "metadata": {
        "id": "uhGmbu1NZc7V"
      }
    },
    {
      "cell_type": "code",
      "execution_count": 171,
      "metadata": {
        "id": "1WqIa6t2FOx-"
      },
      "outputs": [],
      "source": [
        "from os import listdir #importing functions needed\n",
        "def dict_to_list(families): #defining a new function called dict_to_list. Starting with a dictionary and turning to list. Families in () is what will be inputted to run code\n",
        "    # Do something\n",
        "    list_of_names = [] #naming new list as list_of_names\n",
        "    for key, values in families.items(): #starting loop that for each set of key, values in the families\n",
        "        #for key in families.items:\n",
        "        for value in values: #starting another loop that for each value in values...\n",
        "            #list_of_names.append(key)\n",
        "            #list_of_names.append([key])\n",
        "            list_of_names.append([key, value]) #take the matching key/values and append to the list_of_names\n",
        "    return list_of_names #return thenewly created list_of_names"
      ]
    },
    {
      "cell_type": "code",
      "execution_count": 172,
      "metadata": {
        "colab": {
          "base_uri": "https://localhost:8080/"
        },
        "id": "iRbA6VI4FOx_",
        "outputId": "3ecb50dd-c35a-4cd8-823a-eb9f0dcd4eb5"
      },
      "outputs": [
        {
          "output_type": "execute_result",
          "data": {
            "text/plain": [
              "[['Duck', 'Hewey'],\n",
              " ['Duck', 'Dewey'],\n",
              " ['Duck', 'Louie'],\n",
              " ['Mouse', 'Mickey'],\n",
              " ['Mouse', 'Minney']]"
            ]
          },
          "metadata": {},
          "execution_count": 172
        }
      ],
      "source": [
        "families = {                           #this is the dictionary of names to turn into the list\n",
        "  'Boal': ['Paul', 'Anny', 'Jim'],\n",
        "  'Lester-Boal': ['Ellie', 'Ada', 'Teddy'],\n",
        "  'Lester': ['Sarahlynn', 'Jessica', 'Grace', 'Carolynn']\n",
        "}\n",
        "\n",
        "dict_to_list({'Duck': ['Hewey','Dewey','Louie'],\n",
        "              'Mouse': ['Mickey','Minney']})"
      ]
    },
    {
      "cell_type": "code",
      "source": [
        "dict_to_list(families)"
      ],
      "metadata": {
        "colab": {
          "base_uri": "https://localhost:8080/"
        },
        "id": "l-Mf-8uI5ryL",
        "outputId": "6c8bc489-7850-42f0-cf62-8844224a3635"
      },
      "execution_count": 173,
      "outputs": [
        {
          "output_type": "execute_result",
          "data": {
            "text/plain": [
              "[['Boal', 'Paul'],\n",
              " ['Boal', 'Anny'],\n",
              " ['Boal', 'Jim'],\n",
              " ['Lester-Boal', 'Ellie'],\n",
              " ['Lester-Boal', 'Ada'],\n",
              " ['Lester-Boal', 'Teddy'],\n",
              " ['Lester', 'Sarahlynn'],\n",
              " ['Lester', 'Jessica'],\n",
              " ['Lester', 'Grace'],\n",
              " ['Lester', 'Carolynn']]"
            ]
          },
          "metadata": {},
          "execution_count": 173
        }
      ]
    },
    {
      "cell_type": "markdown",
      "metadata": {
        "nbgrader": {
          "grade": false,
          "grade_id": "average",
          "locked": true,
          "schema_version": 1,
          "solution": false
        },
        "id": "PKXnkoiSFOx_"
      },
      "source": [
        "### 20.3 Convert a list to a dictionary\n",
        "\n",
        "Take the list of lists below and convert it into a dictionary where the entries in the dictionary are keyed off of whatever values are in column 0, and the dictionary values are the list of all the values that appear with that key from the input list."
      ]
    },
    {
      "cell_type": "markdown",
      "source": [
        "Just tried to do the opposite of 20.2 once I got that one to work.....again, I'm not sure how or why. How can we call the actual list of names \"names\" and also have 'names' in list_to_dict, yet they aren't the same. Or are they? Then we can say name in names in the for loop.....how does it know what name is vs names? I feel like I keep using the same word over and over for different things so I'm never sure what is what. I am figuring these out purely by placement....which word is in parentheses and how many places do I see that word. And then which word is used for the list and where do I see that word placed, etc. If it doesn't run, start swapping words :) This plan will not get me very far....."
      ],
      "metadata": {
        "id": "yNlawrHkFNYA"
      }
    },
    {
      "cell_type": "code",
      "execution_count": 1122,
      "metadata": {
        "nbgrader": {
          "grade": false,
          "grade_id": "average-answer",
          "locked": false,
          "schema_version": 1,
          "solution": true
        },
        "id": "3eIcRggeFOx_"
      },
      "outputs": [],
      "source": [
        "def list_to_dict(names): #defining a new function called list_to_dict. Starting with a list and turning into a dictionary using (names)\n",
        "\n",
        "    names = [['Boal', 'Paul'],  #list of lists to be inputted and made into dictionary\n",
        "             ['Duck', 'Donald'],\n",
        "             ['Duck', 'Daisy'],\n",
        "             ['Boal', 'Ada'],\n",
        "             ['Boal', 'Teddy'],\n",
        "             ['Westhus', 'Eric']]\n",
        "\n",
        "    # To help you, I've provided a blank dictionary named `families`.\n",
        "\n",
        "    families = {} #new dictinary called families\n",
        "\n",
        "    # Your code should loop through `names` and do something to build\n",
        "    # up `families` to be the output dictionary shown in the test\n",
        "    # cells below.\n",
        "\n",
        "    # Put your solution here\n",
        "    for name in names: #for each name in names list...do something....\n",
        "        key, value = name #need both the first name and last name included....so each key (last name) and value (first name)\n",
        "        #if key in names: #need to have key (or last name fixed) and throw all first names in the []\n",
        "        if key in families: #names didn't work, swithced to families....If the key or last name in the dictionary....\n",
        "          #families.append(value)\n",
        "            families[key].append(value) #....is the same then append the value and add the first name to the end of the list\n",
        "        else:\n",
        "          #families = value\n",
        "            families[key] = [value] #keep the key/vales pairs together\n",
        "    return families #return the newly created dictionary of names\n"
      ]
    },
    {
      "cell_type": "code",
      "execution_count": 1123,
      "metadata": {
        "colab": {
          "base_uri": "https://localhost:8080/"
        },
        "id": "RFfTpLLvFOyA",
        "outputId": "beef2c40-3972-4a3d-b03a-d7c8d5699b2c"
      },
      "outputs": [
        {
          "output_type": "execute_result",
          "data": {
            "text/plain": [
              "{'Boal': ['Paul', 'Ada', 'Teddy'],\n",
              " 'Duck': ['Donald', 'Daisy'],\n",
              " 'Westhus': ['Eric']}"
            ]
          },
          "metadata": {},
          "execution_count": 1123
        }
      ],
      "source": [
        "list_to_dict(names)"
      ]
    },
    {
      "cell_type": "code",
      "execution_count": 1124,
      "metadata": {
        "nbgrader": {
          "grade": true,
          "grade_id": "average-tests",
          "locked": true,
          "points": 5,
          "schema_version": 1,
          "solution": false
        },
        "id": "-OpVEjwCFOyA"
      },
      "outputs": [],
      "source": [
        "answer = {\n",
        " 'Boal':    ['Paul', 'Ada', 'Teddy'],\n",
        " 'Duck':    ['Donald', 'Daisy'],\n",
        " 'Westhus': ['Eric']\n",
        "}\n",
        "\n",
        "assert (list_to_dict(names) == answer)"
      ]
    },
    {
      "cell_type": "markdown",
      "metadata": {
        "id": "anWUGRj8FOyA"
      },
      "source": [
        "### 20.4 Join using a dictionary\n",
        "\n",
        "We have a list of patients, diagnosis, and length of stay.  We also have a dictionary that contains diagnosis and average length of stay.  Produce an output list that lists the patient and an indicator if the patient's stay was 'too long', 'too short', 'just right'"
      ]
    },
    {
      "cell_type": "code",
      "execution_count": 175,
      "metadata": {
        "nbgrader": {
          "grade": false,
          "grade_id": "cell-f3813e33810dc898",
          "locked": false,
          "schema_version": 1,
          "solution": true
        },
        "id": "7fSSSuIBFOyA"
      },
      "outputs": [],
      "source": [
        "def patient_los(avg_los, patients):  #defining a new function called patient_los (patient length of stay) where the avgerage lengthof stay (avg_los) and patients will be inputted\n",
        "\n",
        "    conclusions = [] #newly created list called conclusions\n",
        "    # Put your solution here\n",
        "    for values in avg_los: #starting loop that for every number or value in avg_los...do something....\n",
        "        if avg_los < values(avg_los): #if number entered for avg_los is less than the number in the dictionary's value for avg_los, then print 'too short'\n",
        "            print('too short')\n",
        "        elif avg_los == values(avg_los): #else if the number entered for avg_los is equal to the number in the dictionary's value for avg_los, then print 'just right'\n",
        "            print('just right')\n",
        "        else:       #else if number entered for avg_los is anything else (meaning greater than) the number in the dictionary's value for avg_los, then print 'too long'\n",
        "            print('too long')\n",
        "    return conclusions #return the conclusions"
      ]
    },
    {
      "cell_type": "markdown",
      "source": [
        "this problem has given me a headache :) I will be reading the book like its a bedtime story this week. I am enjoying W3resource and geeksforgeeks....lots of examples to work through, which I clearly need."
      ],
      "metadata": {
        "id": "xzs6yAd7eMiS"
      }
    },
    {
      "cell_type": "code",
      "execution_count": 176,
      "metadata": {
        "colab": {
          "base_uri": "https://localhost:8080/",
          "height": 344
        },
        "id": "z1ZuaJsFFOyB",
        "outputId": "50f1230c-a362-48fc-b28c-982b95eebf75"
      },
      "outputs": [
        {
          "output_type": "error",
          "ename": "TypeError",
          "evalue": "ignored",
          "traceback": [
            "\u001b[0;31m---------------------------------------------------------------------------\u001b[0m",
            "\u001b[0;31mTypeError\u001b[0m                                 Traceback (most recent call last)",
            "\u001b[0;32m<ipython-input-176-7f536fc3689c>\u001b[0m in \u001b[0;36m<cell line: 21>\u001b[0;34m()\u001b[0m\n\u001b[1;32m     19\u001b[0m ]\n\u001b[1;32m     20\u001b[0m \u001b[0;34m\u001b[0m\u001b[0m\n\u001b[0;32m---> 21\u001b[0;31m \u001b[0mpatient_los\u001b[0m\u001b[0;34m(\u001b[0m\u001b[0mavg_los\u001b[0m\u001b[0;34m,\u001b[0m \u001b[0mpatients\u001b[0m\u001b[0;34m)\u001b[0m\u001b[0;34m\u001b[0m\u001b[0;34m\u001b[0m\u001b[0m\n\u001b[0m",
            "\u001b[0;32m<ipython-input-175-13c9373f6d33>\u001b[0m in \u001b[0;36mpatient_los\u001b[0;34m(avg_los, patients)\u001b[0m\n\u001b[1;32m      4\u001b[0m     \u001b[0;31m# Put your solution here\u001b[0m\u001b[0;34m\u001b[0m\u001b[0;34m\u001b[0m\u001b[0m\n\u001b[1;32m      5\u001b[0m     \u001b[0;32mfor\u001b[0m \u001b[0mvalues\u001b[0m \u001b[0;32min\u001b[0m \u001b[0mavg_los\u001b[0m\u001b[0;34m:\u001b[0m\u001b[0;34m\u001b[0m\u001b[0;34m\u001b[0m\u001b[0m\n\u001b[0;32m----> 6\u001b[0;31m         \u001b[0;32mif\u001b[0m \u001b[0mavg_los\u001b[0m \u001b[0;34m<\u001b[0m \u001b[0mvalues\u001b[0m\u001b[0;34m(\u001b[0m\u001b[0mavg_los\u001b[0m\u001b[0;34m)\u001b[0m\u001b[0;34m:\u001b[0m \u001b[0;31m# need to say if # entered for avg_los is less than the number in the dictionary for avg_los.....not sure how to code that if both are called avg_los\u001b[0m\u001b[0;34m\u001b[0m\u001b[0;34m\u001b[0m\u001b[0m\n\u001b[0m\u001b[1;32m      7\u001b[0m             \u001b[0mprint\u001b[0m\u001b[0;34m(\u001b[0m\u001b[0;34m'too short'\u001b[0m\u001b[0;34m)\u001b[0m\u001b[0;34m\u001b[0m\u001b[0;34m\u001b[0m\u001b[0m\n\u001b[1;32m      8\u001b[0m         \u001b[0;32melif\u001b[0m \u001b[0mavg_los\u001b[0m \u001b[0;34m==\u001b[0m \u001b[0mvalues\u001b[0m\u001b[0;34m(\u001b[0m\u001b[0mavg_los\u001b[0m\u001b[0;34m)\u001b[0m\u001b[0;34m:\u001b[0m\u001b[0;34m\u001b[0m\u001b[0;34m\u001b[0m\u001b[0m\n",
            "\u001b[0;31mTypeError\u001b[0m: 'str' object is not callable"
          ]
        }
      ],
      "source": [
        "avg_los = {\n",
        "    \"Hemolytic jaundice and perinatal jaundice\" : 2,\n",
        "    \"Medical examination/evaluation\" : 3.2,\n",
        "    \"Liveborn\" : 3.2,\n",
        "    \"Trauma to perineum and vulva\" : 2.1,\n",
        "    \"Normal pregnancy and/or delivery\" : 2,\n",
        "    \"Umbilical cord complication\" : 2.1,\n",
        "    \"Forceps delivery\" : 2.2,\n",
        "    \"Administrative/social admission\" : 4.2,\n",
        "    \"Prolonged pregnancy\" : 2.4,\n",
        "    \"Other complications of pregnancy\" : 2.5\n",
        "}\n",
        "\n",
        "patients = [\n",
        "    ['Boal', 'Medical examination/evaluation', 1.1],\n",
        "    ['Boal', 'Other complications of pregnancy', 3.3],\n",
        "    ['Jones', 'Liveborn', 3.2],\n",
        "    ['Ashbury', 'Forceps delivery', 2.0]\n",
        "]\n",
        "\n",
        "patient_los(avg_los, patients)"
      ]
    },
    {
      "cell_type": "code",
      "source": [
        "from google.colab import drive\n",
        "drive.mount('/content/drive')"
      ],
      "metadata": {
        "colab": {
          "base_uri": "https://localhost:8080/"
        },
        "id": "BZorO6laiozm",
        "outputId": "adb1e3af-bce4-4493-e4b0-0694e7b1aa13"
      },
      "execution_count": 177,
      "outputs": [
        {
          "output_type": "stream",
          "name": "stdout",
          "text": [
            "Mounted at /content/drive\n"
          ]
        }
      ]
    },
    {
      "cell_type": "code",
      "execution_count": null,
      "metadata": {
        "nbgrader": {
          "grade": true,
          "grade_id": "cell-2af0a520bb56ee21",
          "locked": true,
          "points": 10,
          "schema_version": 1,
          "solution": false
        },
        "id": "x5ZiwIcvFOyB"
      },
      "outputs": [],
      "source": [
        "conclusions = [['Boal', 'too short'],\n",
        "    ['Boal', 'too long'],\n",
        "    ['Jones', 'just right'],\n",
        "    ['Ashbury', 'too short']]\n",
        "\n",
        "assert(patient_los(avg_los, patients) == conclusions)"
      ]
    },
    {
      "cell_type": "code",
      "execution_count": null,
      "metadata": {
        "id": "c7oN0eFIFOyB"
      },
      "outputs": [],
      "source": []
    },
    {
      "cell_type": "markdown",
      "metadata": {
        "id": "f1qm_2lEFOyB"
      },
      "source": [
        "---\n",
        "\n",
        "## Check your work above\n",
        "\n",
        "If you didn't get them all correct, take a few minutes to think through those that aren't correct.\n",
        "\n",
        "\n",
        "## Submitting Your Work\n",
        "\n",
        "In order to submit your work, you'll need to save this notebook file back to GitHub.  To do that in Google Colab:\n",
        "1. File -> Save a Copy in GitHub\n",
        "2. Make sure your HDS5210 repository is selected\n",
        "3. Make sure the file name includes the week number like this: `week04/week04_assignment_2.ipynb`\n",
        "4. Add a commit message that means something\n",
        "\n",
        "**Be sure week names are lowercase and use a two digit week number!!**\n",
        "\n",
        "**Be sure you use the same file name provided by the instructor!!**\n",
        "\n"
      ]
    },
    {
      "cell_type": "markdown",
      "metadata": {
        "id": "0z1Dciu5FOyB"
      },
      "source": []
    }
  ],
  "metadata": {
    "celltoolbar": "Create Assignment",
    "kernelspec": {
      "display_name": "Python 3",
      "language": "python",
      "name": "python3"
    },
    "language_info": {
      "codemirror_mode": {
        "name": "ipython",
        "version": 3
      },
      "file_extension": ".py",
      "mimetype": "text/x-python",
      "name": "python",
      "nbconvert_exporter": "python",
      "pygments_lexer": "ipython3",
      "version": "3.6.7"
    },
    "colab": {
      "provenance": [],
      "include_colab_link": true
    }
  },
  "nbformat": 4,
  "nbformat_minor": 0
}