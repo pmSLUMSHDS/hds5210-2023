{
  "cells": [
    {
      "cell_type": "markdown",
      "metadata": {
        "id": "view-in-github",
        "colab_type": "text"
      },
      "source": [
        "<a href=\"https://colab.research.google.com/github/pmSLUMSHDS/hds5210-2023/blob/main/week05/week05_assignment_2.ipynb\" target=\"_parent\"><img src=\"https://colab.research.google.com/assets/colab-badge.svg\" alt=\"Open In Colab\"/></a>"
      ]
    },
    {
      "cell_type": "markdown",
      "metadata": {
        "nbgrader": {
          "grade": false,
          "grade_id": "intro",
          "locked": true,
          "schema_version": 1,
          "solution": false
        },
        "id": "QengpIOzL6jr"
      },
      "source": [
        "# Week 5 Exercises\n",
        "\n",
        "_McKinney 3.2_\n",
        "\n",
        "**Unlike in previous weeks, in the exercises below, you will need to create a function definition from scratch.  I'll provide specific instructions and examples for how it will be used, but you will have to do the work of definiging the whole function.**\n",
        "\n",
        "---\n",
        "---"
      ]
    },
    {
      "cell_type": "markdown",
      "metadata": {
        "nbgrader": {
          "grade": false,
          "grade_id": "longest",
          "locked": true,
          "schema_version": 1,
          "solution": false
        },
        "id": "PvAFv7ccL6jt"
      },
      "source": [
        "### 25.1 Longest String\n",
        "\n",
        "Write a function called `longest (L)` that takes as its only parameter a list of strings.  Your function needs to find the longest of those strings and return the position number of that longest string.  An example is provided below:\n",
        "\n",
        "The longest word in that list of strings is \"birthday\" in position #1, so `longest(strings)` should return 1.\n",
        "```\n",
        ">>> strings = ['happy', 'birthday', 'to', 'me']\n",
        ">>> longest(strings)\n",
        "1\n",
        "```\n",
        "\n",
        "Be sure to include a docstring.  Include test cases in your docstring if you want to."
      ]
    },
    {
      "cell_type": "code",
      "execution_count": null,
      "metadata": {
        "nbgrader": {
          "grade": false,
          "grade_id": "longest-answer",
          "locked": false,
          "schema_version": 1,
          "solution": true
        },
        "id": "rzTHRiYML6ju"
      },
      "outputs": [],
      "source": [
        "### BEGIN SOLUTION\n",
        "def longest(L): #defining the function for longest(L)\n",
        "    \"\"\"(string) -> string\n",
        "\n",
        "    This function should find the longest string in the list of stsrings and return the position number or index of the longest string.\n",
        "    The function should count the number of letters in each word in the string, going through the entire list, and returning the index of the longest string in the list.\n",
        "\n",
        "    PSEUDOCODE:\n",
        "     This line starts the count of the longest_word off at zero so that each time function loops through the list the count goes up until it is through the list\n",
        "     This line starts the longest_position off at zero so that each time the function loops through the list the count will increase by one for each position until it has moved through the positions of all words in list\n",
        "     starting for loop using enumnerate function.....which needs two inputs, index (x) is first, then the value (string). Enumerate function returns both the index and the value of each item as it loops though the list\n",
        "     if the length of the string is greater than the longest_word....\n",
        "     ....then the longest_word equals the length of the string\n",
        "     ....and the longest_position will be equal to x (which is the index or position) of that longest_word\n",
        "     Last line just returns the position of the longest word in the list\n",
        "\n",
        "\n",
        "\n",
        "    >>> strings = ['happy', 'birthday', 'to', 'me']\n",
        "    >>> longest(strings)\n",
        "    1\n",
        "\n",
        "    >>> strings = ['melon', 'computer', 'anniversary', 'the']\n",
        "    >>> longest(strings)\n",
        "    2\n",
        "    \"\"\"\n",
        "    #Using optional book Matthes, E. Python Crash Course 3rd Edition- A Hands-On, Project-Based Introduction to Programming (2023)\n",
        "    #First thoughts on this problem.....\n",
        "    #Need to figure out length of wordsand position of words....and return just the position, not the length\n",
        "    #Do I need to establish an empty list first?\n",
        "    #Do I need to start the count at 0....or position? Or is there a way to pass through the entire list/sequence? Enumerate maybe? Check .seq, .index, enumerate()\n",
        "    #Book index did not have seq or index but did have enumerate....page 331 says enumerate will return both the index and the value of each item as you loop through the entire list.....will try that...\n",
        "    #Use for loop? Or if/else? Or both?\n",
        "\n",
        "    #Was still a little confused on how to use enumerate(), Googled \"how to use enumerate in for loop in python\", which took me to geeksforgeeks.org where I found a section on Using Enumerate Object in Loops.\n",
        "    #That finally got my for loop headed in the right direction..\n",
        "\n",
        "\n",
        "    #strings = []...... on second thought don't think I need an actual list\n",
        "    longest_word = 0 #started the count of the longest_word off at zero so that each time function loops through the list the count goes up until it is through the list\n",
        "    longest_position = 0 #stsarted the longest_position off at zero so that each time the function loops through the list the count will increase until it has moved through the positions of all words in list\n",
        "\n",
        "    #for string in strings:\n",
        "        #if len(string) > than the next string!!!! ugh....\n",
        "    for x, string in enumerate(L): #enumertate needs two inputs!! geeksforgeeks.org- Using Enumerate Object in Loops (also from book, when using enumerate, index is first, then the value. So x is my index)\n",
        "        #x = string.index\n",
        "        #y = len(string)\n",
        "        #if len(string) > len(strings[x+1])\n",
        "        if len(string) > longest_word: #if the length of the string is greater than the longest_word....\n",
        "          #len(x) > len(string)\n",
        "            longest_word = len(string)  #then the longest_word equals the length of the string\n",
        "            longest_position = x #and the longest_position will be equal to x (which is the index or position) of that longest_word\n",
        "    return longest_position #return the position of the longest word in the list\n",
        "\n",
        "\n",
        "### END SOLUTION"
      ]
    },
    {
      "cell_type": "code",
      "execution_count": null,
      "metadata": {
        "nbgrader": {
          "grade": true,
          "grade_id": "longest-tests",
          "locked": true,
          "points": 10,
          "schema_version": 1,
          "solution": false
        },
        "id": "e1dghzgQL6ju"
      },
      "outputs": [],
      "source": [
        "assert longest(\"happy birthday to me\".split(\" \")) == 1\n",
        "assert longest(\"enjoy class\".split(\" \")) == 0\n",
        "assert longest(['when','what','where','how','who']) == 2"
      ]
    },
    {
      "cell_type": "code",
      "execution_count": null,
      "metadata": {
        "id": "58h3yFMmL6jv",
        "outputId": "4be50b13-c23b-4154-ab11-7b6edd06022f",
        "colab": {
          "base_uri": "https://localhost:8080/"
        }
      },
      "outputs": [
        {
          "output_type": "stream",
          "name": "stderr",
          "text": [
            "\n",
            "PYDEV DEBUGGER WARNING:\n",
            "sys.settrace() should not be used when the debugger is being used.\n",
            "This may cause the debugger to stop working correctly.\n",
            "If this is needed, please check: \n",
            "http://pydev.blogspot.com/2007/06/why-cant-pydev-debugger-work-with.html\n",
            "to see how to restore the debug tracing back correctly.\n",
            "Call Location:\n",
            "  File \"/usr/lib/python3.10/doctest.py\", line 1501, in run\n",
            "    sys.settrace(save_trace)\n",
            "\n"
          ]
        },
        {
          "output_type": "stream",
          "name": "stdout",
          "text": [
            "Finding tests in NoName\n",
            "Trying:\n",
            "    strings = ['happy', 'birthday', 'to', 'me']\n",
            "Expecting nothing\n",
            "ok\n",
            "Trying:\n",
            "    longest(strings)\n",
            "Expecting:\n",
            "    1\n",
            "ok\n",
            "Trying:\n",
            "    strings = ['melon', 'computer', 'anniversary', 'the']\n",
            "Expecting nothing\n",
            "ok\n",
            "Trying:\n",
            "    longest(strings)\n",
            "Expecting:\n",
            "    2\n",
            "ok\n"
          ]
        }
      ],
      "source": [
        "import doctest\n",
        "doctest.run_docstring_examples(longest, globals(), verbose=True)"
      ]
    },
    {
      "cell_type": "markdown",
      "metadata": {
        "id": "b1XQG-p0L6jv"
      },
      "source": [
        "### 25.2 Farenheit to Celsius\n",
        "\n",
        "Write a function called f_to_c() that converts a given temperature in degrees Farenheit to degrees Celsius.  If you don't recall that conversion, it is:\n",
        "\n",
        "$ temp_c = \\frac{5}{9} \\times (temp_f - 32) $\n",
        "\n",
        "Make sure that you code is well documented using the DocString examples, and that your code includes tests for 212f, 32f, and 98.6f."
      ]
    },
    {
      "cell_type": "code",
      "execution_count": null,
      "metadata": {
        "id": "TIJqA0fUL6jv"
      },
      "outputs": [],
      "source": [
        "### BEGIN SOLUTION\n",
        "def f_to_c(temp_in_f):  #defining the function f_to_c, meaning Farenheit to Celsius, which takes in one parameter, the temperature in degrees F, and converts to degrees C\n",
        "    #This example was in this week's module!! Didn't need book :)\n",
        "\n",
        "    \"\"\"(float) -> float    inputting a float and returning a float as the output\n",
        "\n",
        "    This function will convert a given temperature in degrees Farenheit to degrees Celsius\n",
        "    Inputting a float for the temp_in_f will calculate the conversion and return the answer in temp_in_c to one decimal place.\n",
        "\n",
        "    PSEUDOCODE:\n",
        "    This is the equation to convert deg F to deg C, take the value entered for deg F and subtract 32. Then mulitply by 5 and divide that by 9. That number equals the temp_in_c\n",
        "    This returns the temperature in Celsius rounded to one decimal place\n",
        "\n",
        "\n",
        "    >>> temp_in_f = (212)\n",
        "    >>> f_to_c(212)\n",
        "    100.0\n",
        "\n",
        "    >>> temp_in_f = (32)\n",
        "    >>> f_to_c(32)\n",
        "    0.0\n",
        "\n",
        "    >>> temp_in_f = (98.6)\n",
        "    >>> f_to_c(98.6)\n",
        "    37.0\n",
        "    \"\"\"\n",
        "\n",
        "\n",
        "    temp_in_c = (temp_in_f - 32) * 5/9 #take the value entered for deg F and subtract 32. Then mulitply by 5 and divide that by 9. That number equals the temp_in_c\n",
        "    return round(temp_in_c, 1) #returns the temperature in Celsius rounded to one decimal place\n",
        "\n",
        "\n",
        "\n",
        "### END SOLUTION"
      ]
    },
    {
      "cell_type": "code",
      "execution_count": null,
      "metadata": {
        "id": "kEhoiLheL6jv"
      },
      "outputs": [],
      "source": [
        "assert f_to_c(212) == 100.0\n",
        "assert f_to_c(32) == 0.0\n",
        "assert f_to_c(98.6) == 37.0"
      ]
    },
    {
      "cell_type": "code",
      "execution_count": null,
      "metadata": {
        "id": "7r9crDlJL6jv",
        "outputId": "6e63be50-c7e7-4592-ab46-5edfd5a6e919",
        "colab": {
          "base_uri": "https://localhost:8080/"
        }
      },
      "outputs": [
        {
          "output_type": "stream",
          "name": "stdout",
          "text": [
            "Finding tests in NoName\n",
            "Trying:\n",
            "    temp_in_f = (212)\n",
            "Expecting nothing\n",
            "ok\n",
            "Trying:\n",
            "    f_to_c(212)\n",
            "Expecting:\n",
            "    100.0\n",
            "ok\n",
            "Trying:\n",
            "    temp_in_f = (32)\n",
            "Expecting nothing\n",
            "ok\n",
            "Trying:\n",
            "    f_to_c(32)\n",
            "Expecting:\n",
            "    0.0\n",
            "ok\n",
            "Trying:\n",
            "    temp_in_f = (98.6)\n",
            "Expecting nothing\n",
            "ok\n",
            "Trying:\n",
            "    f_to_c(98.6)\n",
            "Expecting:\n",
            "    37.0\n",
            "ok\n"
          ]
        }
      ],
      "source": [
        "import doctest\n",
        "doctest.run_docstring_examples(f_to_c, globals(), verbose=True)"
      ]
    },
    {
      "cell_type": "markdown",
      "metadata": {
        "id": "wFdBYdJjL6jw"
      },
      "source": [
        "### 25.3 Computing Length of Stay\n",
        "\n",
        "For this problem, we have a collection of patient enounter data stored as a Python dictionary.  The `key` for the dictionary is the **encounter ID**, a code that starts with the letter `E` followed by four numbers.  The value associated with each encounter ID is another Python dictionary.  This \"inner\" dictionary holds three items: admit date, primary diagnosis, and discharge date.  See the example in the code below.\n",
        "\n",
        "You need to write a length of stay function that computes the length of stay, in whole days, between the admit date and discharge date.  However, if the diagnosis is \"Observation\" then the length of stay should always be returned as 0 regardless of the admit and discharge dates. Your function should should take three parameters: a start date, an end date, and a diagnosis.\n",
        "\n",
        "You will find it handy to refer to this example here on how to calculate the number of days between two dates: https://stackoverflow.com/questions/151199/how-to-calculate-number-of-days-between-two-given-dates"
      ]
    },
    {
      "cell_type": "code",
      "execution_count": null,
      "metadata": {
        "id": "05VavD-lL6jw"
      },
      "outputs": [],
      "source": [
        "from datetime import date\n",
        "\n",
        "### BEGIN SOLUTION\n",
        "def los(admit, discharge, diagnosis = \"\"): #defining the function los which stands for length of stay and will take 3 parameters ....admit is the admission date, discharge is the discharge date and\n",
        " #diagnosis is the condition diagnosed. If the diagnosis is \"Observation\", the los will be zero, reagadless of other 2 date inputs.\n",
        "\n",
        "    \"\"\"(date, date, str) -> int   Inputting 2 dates and a string to get an integer as the output\n",
        "\n",
        "    This function will calculate the length od stay in whole days, given the admit date, discharge date, and the diagnosis. If \"Observation\" is inputted for diagnosis, then the function will return an los of 0.\n",
        "\n",
        "    Inputting 2 dates and a string diagnosis the function will subtract the dates and return a number in whole days. Exceptions being if both dates are the same or if \"Observation\" is the diagnosis, then function will\n",
        "    not need to do any calculations and just return the los as 0.\n",
        "\n",
        "    PSEUDOCODE:\n",
        "    this first line deals with the exception if the \"Observation\" was entered for the diagnosis....\n",
        "    .....then the length of stay equals 0\n",
        "    code for otherwise....\n",
        "    this line returns the value of the admit date subtracted from the discharge date\n",
        "\n",
        "\n",
        "    >>> los(date(2019,1,3), date(2019,1,8), \"COPD\")\n",
        "    5\n",
        "\n",
        "    >>> los(date(2020,1,5), date(2020,1,8), \"Observation\")\n",
        "    0\n",
        "\n",
        "    >>> los(date(2023,8,11), date(2023,8,21), \"Asthma\")\n",
        "    10\n",
        "    \"\"\"\n",
        "\n",
        "    if diagnosis == \"Observation\":  #this line deals with the exception if the \"Observarion\" was entered for the diagnosis....\n",
        "      return 0   #then los is 0\n",
        "    else: #otherwise....\n",
        "      return (discharge - admit).days #return the value of the admit date subtracted from the discharge date\n",
        "\n",
        "\n",
        "\n",
        "### END SOLUTION"
      ]
    },
    {
      "cell_type": "code",
      "execution_count": null,
      "metadata": {
        "id": "3jDPHNlRL6jw"
      },
      "outputs": [],
      "source": [
        "assert los(date(2019,1,3), date(2019,1,8), \"COPD\") == 5\n",
        "assert los(date(2020,1,5), date(2020,1,8), \"Observation\") == 0"
      ]
    },
    {
      "cell_type": "code",
      "execution_count": null,
      "metadata": {
        "id": "Gc2pchz1L6jw",
        "outputId": "e7035a80-8a90-4985-b71c-9ca8d0d995f5",
        "colab": {
          "base_uri": "https://localhost:8080/"
        }
      },
      "outputs": [
        {
          "output_type": "stream",
          "name": "stdout",
          "text": [
            "Finding tests in NoName\n",
            "Trying:\n",
            "    los(date(2019,1,3), date(2019,1,8), \"COPD\")\n",
            "Expecting:\n",
            "    5\n",
            "ok\n",
            "Trying:\n",
            "    los(date(2020,1,5), date(2020,1,8), \"Observation\")\n",
            "Expecting:\n",
            "    0\n",
            "ok\n",
            "Trying:\n",
            "    los(date(2023,8,11), date(2023,8,21), \"Asthma\")\n",
            "Expecting:\n",
            "    10\n",
            "ok\n"
          ]
        }
      ],
      "source": [
        "import doctest\n",
        "doctest.run_docstring_examples(los, globals(), verbose=True)"
      ]
    },
    {
      "cell_type": "code",
      "execution_count": null,
      "metadata": {
        "id": "C925bkxlL6jw",
        "outputId": "3ba1b5d1-c801-4f67-8c27-c91bb60b217e",
        "colab": {
          "base_uri": "https://localhost:8080/"
        }
      },
      "outputs": [
        {
          "output_type": "stream",
          "name": "stdout",
          "text": [
            "5\n",
            "4\n",
            "1\n",
            "0\n",
            "0\n"
          ]
        }
      ],
      "source": [
        "encounters = {\n",
        "    \"E1234\": { \"admit\": date(2019,1,3), \"diagnosis\": \"COPD\", \"discharge\": date(2019,1,8) },\n",
        "    \"E8342\": { \"admit\": date(2019,1,5), \"diagnosis\": \"Hypertension\", \"discharge\": date(2019,1,9) },\n",
        "    \"E9231\": { \"admit\": date(2019,1,12), \"diagnosis\": \"Anxiety\", \"discharge\": date(2019,1,13) },\n",
        "    \"E8333\": { \"admit\": date(2019,1,15), \"diagnosis\": \"Observation\", \"discharge\": date(2019,1,16) },\n",
        "    \"E3342\": { \"admit\": date(2019,1,4), \"diagnosis\": \"Anxiety\", \"discharge\": date(2019,1,4)}\n",
        "}\n",
        "\n",
        "\n",
        "for encid, visit in encounters.items():\n",
        "    print(los(visit['admit'],visit['discharge'],visit['diagnosis']))\n",
        "\n",
        "# Your output should be\n",
        "# 5\n",
        "# 4\n",
        "# 1\n",
        "# 0\n",
        "# 0"
      ]
    },
    {
      "cell_type": "markdown",
      "metadata": {
        "id": "YMTa_U9uL6jw"
      },
      "source": [
        "---\n",
        "---\n",
        "\n",
        "### 25.4 Average Length of Stay\n",
        "\n",
        "Create a function called `average_los` that returns the average of the LOS for the encounters in the provided dictionary. The encounters must be a dictionary that contains dictionaries that each contain at least an admit date and a discharge date.\n",
        "    \n",
        "If the length of stay of any individual encounter is 0, then it will not be counted toward the average."
      ]
    },
    {
      "cell_type": "code",
      "execution_count": null,
      "metadata": {
        "id": "E4fxI_q9L6jx"
      },
      "outputs": [],
      "source": [
        "from datetime import date\n",
        "### BEGIN SOLUTION\n",
        "def average_los(encounters):  #defining the average length of stay which takes as its only input a parameter that is a dictionary of dictionaries called encounters. This information is given by patient ID and gives the\n",
        "#admission date, the discharge date and the diagnosis. If the length of stay of any individual encounter = 0, then that encounter will not be counted towards the average_los. And if the diagnosis is entered at \"Observation\",\n",
        "#then the average_los will also be 0.\n",
        "\n",
        "    \"\"\"(list) -> float    Enter a list and returns a float as the output\n",
        "    Function takes the encounters, a dictionarly of dictionaries, that gives the admit date, discharge date, and the diagnosis, if provided and calculates the average_los.\n",
        "\n",
        "    Wasn't completely sure if los from 25.3 would carry over here and save a calculation. Tried to follow the example from class video, but was not working, so will add los math. Had to redo, step by step as I said it out loud :)\n",
        "\n",
        "    Function takes in 2 dates and a diagnosis and calculates the average los for the patients given in list. Exceptions being if admit and discharge dates are the same (so los = 0) or if \"Observation\" is the diagnosis, both of\n",
        "    those scenarios will return the los as 0 and not be counted towards the average.\n",
        "\n",
        "    PSEUDOCODE:\n",
        "    This line starts the count of the total length of stay off at zero so that each time function loops through the list the count goes up by one until it is through the list\n",
        "    This line starts the total patients (or encountrs) off at zero so that each time the function loops through the list the count will increase by one for each encounter until it has moved through the list\n",
        "    Starting for loop using .items function to iterate through the dictionary named encounters and in next 3 lines use the variables assigned for the dates and length of stay\n",
        "    Assigned whatever date is entered for 'admit' to the variable date_admit\n",
        "    Assigned whatever date is entered for the 'discharge' to the variable date_discharge\n",
        "    This is calculation for obtaining the length of stay for that encounter. Subtracting the admit date from the discharge date.\n",
        "    This line deals with the excpetions if the length of stay does not calculate to 0 or if observation is not entered for the diagnosis....\n",
        "    .....then the total length of stay will be the length of stay plus one to keep a running count of total days\n",
        "    .....and the number of patients (or encounters) also increases by one to keep a running count of the encounters that will count towars the average\n",
        "    if the total number of patients (or encounters) is greater than 0....\n",
        "    .....then the average length of stay is equal to the total length of stay divided by the total number of patients (or encounters)\n",
        "    otherwise.....\n",
        "    .....the average length of stay equals 0\n",
        "    return the average length of stay\n",
        "\n",
        "    >>> round(average_los(encounters), 2)\n",
        "    3.33\n",
        "    \"\"\"\n",
        "\n",
        "    total_los = 0\n",
        "    #total_encounters = len(enounters) tried to use same format as video in this week's module, but can't make it work.....strange....rethinking this....\n",
        "    total_patients = 0   #changed this to patients as encounters was appearing way too many times and started confusing me\n",
        "\n",
        "    #for encounter in encounters:\n",
        "    for id, encounter in encounters.items(): #we used this format last week for the families list....tried it here with the .items\n",
        "        #enc_los = los(enc['admit'], enc['discharge'], enc['diagnosis'])\n",
        "        date_admit = encounter['admit'] #separated out the individual parameters, so I could make sense of it, assigned whatever date is entered for 'admit' to the variable date_admit\n",
        "        date_discharge = encounter['discharge'] #assigned whatever date is entered for the 'discharge' to the variable date_discharge\n",
        "        los = (date_discharge - date_admit).days #pulled the .days from previous problem, this is calculation for obtaining the length of stay for that encounter. Subtracting the admit date from the discharge date.\n",
        "        #if enc_los != 0\n",
        "        if los != 0 and encounter['diagnosis'] != \"Observation\": #this line deals with the excpetions if the length of stay calculates is not 0 or if observation is not entered for the diagnosis....\n",
        "              #total_los += enc_los\n",
        "              total_los += los #then the total length of stay will be the length of stay plus one\n",
        "              total_patients += 1 #and the number of patients also increases by one\n",
        "\n",
        "    if total_patients > 0: #if the total number of patients (or encounters) is greater than 0....\n",
        "        average_los = total_los / total_patients #then the average length of stay is equal to the total length of stay divided by the total number of patients (or encounters)\n",
        "    else: #otherwise.....\n",
        "        average_los = 0 #the average length of stay equals 0\n",
        "\n",
        "        #else:\n",
        "            #total_encounters -= 1\n",
        "\n",
        "    #if total_encounters == 0:\n",
        "        #return 0\n",
        "\n",
        "    return average_los #returns the average length of stay\n",
        "\n",
        "### END SOLUTION"
      ]
    },
    {
      "cell_type": "code",
      "source": [
        "assert (round(average_los(encounters),2)) == 3.33"
      ],
      "metadata": {
        "id": "zuJmyBmwcLzk"
      },
      "execution_count": null,
      "outputs": []
    },
    {
      "cell_type": "code",
      "execution_count": null,
      "metadata": {
        "id": "MrIqQGbzL6jx"
      },
      "outputs": [],
      "source": [
        "\n",
        "encounters = {\n",
        "    \"E1234\": { \"admit\": date(2019,1,3), \"diagnosis\": \"COPD\", \"discharge\": date(2019,1,8) },\n",
        "    \"E8342\": { \"admit\": date(2019,1,5), \"diagnosis\": \"Hypertension\", \"discharge\": date(2019,1,9) },\n",
        "    \"E9231\": { \"admit\": date(2019,1,12), \"diagnosis\": \"Anxiety\", \"discharge\": date(2019,1,13) },\n",
        "    \"E8333\": { \"admit\": date(2019,1,15), \"diagnosis\": \"Observation\", \"discharge\": date(2019,1,16) },\n",
        "    \"E3342\": { \"admit\": date(2019,1,4), \"diagnosis\": \"Anxiety\", \"discharge\": date(2019,1,4)}\n",
        "}\n",
        "\n",
        "assert(round(average_los(encounters),2) == 3.33)"
      ]
    },
    {
      "cell_type": "code",
      "execution_count": null,
      "metadata": {
        "id": "TzPk8zDlL6jx",
        "outputId": "258b05e5-9c75-46c5-e401-bc307a500ffa",
        "colab": {
          "base_uri": "https://localhost:8080/"
        }
      },
      "outputs": [
        {
          "output_type": "stream",
          "name": "stdout",
          "text": [
            "Finding tests in NoName\n",
            "Trying:\n",
            "    round(average_los(encounters), 2)\n",
            "Expecting:\n",
            "    3.33\n",
            "ok\n"
          ]
        }
      ],
      "source": [
        "import doctest\n",
        "doctest.run_docstring_examples(average_los, globals(), verbose=True)"
      ]
    },
    {
      "cell_type": "markdown",
      "metadata": {
        "id": "FWyaGqjlL6jx"
      },
      "source": [
        "---\n",
        "\n",
        "### 25.5 Celsius to Farenheit\n",
        "\n",
        "Write your own function called `c_to_f` that converts degrees Celsius to degrees Farenheit.  Include in your solution a series of doc tests that can verify the conversion using inputs of 100, 0, and 37 degrees Celsius"
      ]
    },
    {
      "cell_type": "code",
      "execution_count": null,
      "metadata": {
        "id": "3WJ5JV8LL6jx"
      },
      "outputs": [],
      "source": [
        "### BEGIN SOLUTION\n",
        "def c_to_f(temp_in_c):  #defining a function clled c_to_f that takes one input, the temperature in Celsius using equation temp_in_f = (temp_in_f * 9/5) + 32\n",
        "    #This problem is technicallly the revers of the previous problem above, so no book or other references needed.\n",
        "\n",
        "    \"\"\"(float) -> float    inputting a float and returning a float as the output\n",
        "\n",
        "    This function will convert a given temperature in degrees Celsius to degrees Farenheit\n",
        "    Inputting a float for the temp_in_c will calculate the conversion and return the answer in temp_in_f to one decimal place.\n",
        "\n",
        "    PSEUDOCODE:\n",
        "    This line calculates the deg F. Usng the value given for deg C, you multiply by 9 and then divide by 5 and then add 32. The resulting number is the temp_in_f.\n",
        "    This line returns the temperature in degrees Farenheit rounded to one decimal place.\n",
        "\n",
        "\n",
        "\n",
        "    >>> temp_in_c = (100)\n",
        "    >>> c_to_f(100)\n",
        "    212.0\n",
        "\n",
        "    >>> temp_in_c = (0)\n",
        "    >>> c_to_f(0)\n",
        "    32.0\n",
        "\n",
        "    >>> temp_in_c = (37)\n",
        "    >>> c_to_f(37)\n",
        "    98.6\n",
        "\n",
        "    >>> temp_in_c = (56)\n",
        "    >>> c_to_f(56)\n",
        "    132.8\n",
        "    \"\"\"\n",
        "\n",
        "\n",
        "    temp_in_f = (temp_in_c * 9/5) + 32 #this line calculates the deg F. Usng the value given for deg C, you multiply by 9 and then divide by 5 and then add 32. The resulting number is the temp_in_f\n",
        "    return round(temp_in_f, 1) #returns the temperature in degrees Farenheit rounded to one decimal place\n",
        "\n",
        "\n",
        "### END SOLUTION"
      ]
    },
    {
      "cell_type": "code",
      "source": [
        "assert c_to_f(100) == 212.0\n",
        "assert c_to_f(0) == 32.0\n",
        "assert c_to_f(37) == 98.6"
      ],
      "metadata": {
        "id": "UjVVWgNEXTLU"
      },
      "execution_count": null,
      "outputs": []
    },
    {
      "cell_type": "code",
      "execution_count": null,
      "metadata": {
        "id": "LTKQJ-1JL6jx",
        "outputId": "1cbfc97d-ea23-4759-ce59-a6510e487495",
        "colab": {
          "base_uri": "https://localhost:8080/"
        }
      },
      "outputs": [
        {
          "output_type": "stream",
          "name": "stdout",
          "text": [
            "Finding tests in NoName\n",
            "Trying:\n",
            "    temp_in_c = (100)\n",
            "Expecting nothing\n",
            "ok\n",
            "Trying:\n",
            "    c_to_f(100)\n",
            "Expecting:\n",
            "    212.0\n",
            "ok\n",
            "Trying:\n",
            "    temp_in_c = (0)\n",
            "Expecting nothing\n",
            "ok\n",
            "Trying:\n",
            "    c_to_f(0)\n",
            "Expecting:\n",
            "    32.0\n",
            "ok\n",
            "Trying:\n",
            "    temp_in_c = (37)\n",
            "Expecting nothing\n",
            "ok\n",
            "Trying:\n",
            "    c_to_f(37)\n",
            "Expecting:\n",
            "    98.6\n",
            "ok\n",
            "Trying:\n",
            "    temp_in_c = (56)\n",
            "Expecting nothing\n",
            "ok\n",
            "Trying:\n",
            "    c_to_f(56)\n",
            "Expecting:\n",
            "    132.8\n",
            "ok\n"
          ]
        }
      ],
      "source": [
        "import doctest\n",
        "doctest.run_docstring_examples(c_to_f, globals(), verbose=True)"
      ]
    },
    {
      "cell_type": "code",
      "execution_count": null,
      "metadata": {
        "id": "jA-CrOOnL6jx"
      },
      "outputs": [],
      "source": []
    },
    {
      "cell_type": "markdown",
      "metadata": {
        "id": "0HSdx80kL6jx"
      },
      "source": [
        "---\n",
        "\n",
        "## Check your work above\n",
        "\n",
        "If you didn't get them all correct, take a few minutes to think through those that aren't correct.\n",
        "\n",
        "\n",
        "## Submitting Your Work\n",
        "\n",
        "In order to submit your work, you'll need to use the `git` command line program to **add** your homework file (this file) to your local repository, **commit** your changes to your local repository, and then **push** those changes up to github.com.  From there, I'll be able to **pull** the changes down and do my grading.  I'll provide some feedback, **commit** and **push** my comments back to you.  Next week, I'll show you how to **pull** down my comments.\n",
        "\n",
        "First run through everything one last time and submit your work:\n",
        "1. Use the `Kernel` -> `Restart Kernel and Run All Cells` menu option to run everything from top to bottom and stop here.\n",
        "2. Then open a new command line by clicking the `+` icon above the file list and chosing `Terminal`\n",
        "3. At the command line in the new Terminal, follow these steps:\n",
        "  1. Change directories to your project folder and the week03 subfolder (`cd <folder name>`)\n",
        "  2. Make sure your project folders are up to date with github.com (`git pull`)\n",
        "  3. Add the homework files for this week (`git add <file name>`)\n",
        "  4. Commit your changes (`git commit -a -m \"message\"`)\n",
        "  5. Push your changes (`git push`)\n",
        "  \n",
        "If anything fails along the way with this submission part of the process, let me know.  I'll help you troubleshoort."
      ]
    }
  ],
  "metadata": {
    "celltoolbar": "Create Assignment",
    "kernelspec": {
      "display_name": "Python 3",
      "language": "python",
      "name": "python3"
    },
    "language_info": {
      "codemirror_mode": {
        "name": "ipython",
        "version": 3
      },
      "file_extension": ".py",
      "mimetype": "text/x-python",
      "name": "python",
      "nbconvert_exporter": "python",
      "pygments_lexer": "ipython3",
      "version": "3.6.7"
    },
    "colab": {
      "provenance": [],
      "include_colab_link": true
    }
  },
  "nbformat": 4,
  "nbformat_minor": 0
}