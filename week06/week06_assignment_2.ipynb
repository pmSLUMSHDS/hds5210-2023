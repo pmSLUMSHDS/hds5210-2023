{
  "cells": [
    {
      "cell_type": "markdown",
      "metadata": {
        "id": "view-in-github",
        "colab_type": "text"
      },
      "source": [
        "<a href=\"https://colab.research.google.com/github/pmSLUMSHDS/hds5210-2023/blob/main/week06/week06_assignment_2.ipynb\" target=\"_parent\"><img src=\"https://colab.research.google.com/assets/colab-badge.svg\" alt=\"Open In Colab\"/></a>"
      ]
    },
    {
      "cell_type": "markdown",
      "metadata": {
        "nbgrader": {
          "grade": false,
          "grade_id": "intro",
          "locked": true,
          "schema_version": 1,
          "solution": false
        },
        "id": "X91WjKVUJKuk"
      },
      "source": [
        "# Week 6 Exercises\n",
        "\n",
        "_McKinney 6.1_\n",
        "\n",
        "There are multiple ways to solve the problems below.  You can use any one of several approaches.  For example, you can read CSV files using Pandas or the csv module.  Your score won't depend on which modules you choose to use unless explicitly noted below, but your programming style will still matter."
      ]
    },
    {
      "cell_type": "markdown",
      "metadata": {
        "nbgrader": {
          "grade": false,
          "grade_id": "q1-description",
          "locked": true,
          "schema_version": 1,
          "solution": false
        },
        "id": "2nSV2GkkJKul"
      },
      "source": [
        "### 30.1 List of Allergies\n",
        "\n",
        "In this GitHub repository, there is a file called `allergies.json` that contains a list of patient allergies.  You will need to download this [file from here](https://raw.githubusercontent.com/paulboal/hds5210-2023/main/week06/allergies.json) and then upload it into Google Colab to run these examples. It is taken from sample data provided by the EHR vendor, Epic, here: https://open.epic.com/Clinical/Allergy\n",
        "\n",
        "Take some time to look at the structure of the file.  You can open it directly in Jupyter by clicking the _Home_ icon, then the _from_instructor_ folder, and then the _data_ folder.\n",
        "\n",
        "Within the file, you'll see that it is a dictionary with many items in it.  One of those items is called `entry` and that item is a list of things.  You can tell that because the item name is immediately followed by an opening square bracket, signifying the start of a list.  It's line 11 of the file: `  \"entry\": [`\n",
        "\n",
        "Write a function named `allergy_count(json_file)` that takes as one parameter the name of the JSON file and returns an integer number of entries in that file.  Your function should open the file, read the json into a Python object, and return how many items there are in the list of `entry`s."
      ]
    },
    {
      "cell_type": "code",
      "execution_count": 74,
      "metadata": {
        "id": "9PdDMYldJKum"
      },
      "outputs": [],
      "source": [
        "import json\n",
        "ALLERGIES_FILE=\"allergies.json\""
      ]
    },
    {
      "cell_type": "markdown",
      "source": [
        "Purpose of function & what it will do:\n",
        "\n",
        "The purpose of this function is to count the number of entries or items in the dictionary of lists of dictionaries.\n",
        "\n",
        "Defined a function called allergy_count that has ALLERGIES_FILE as the only input. The input file is a string.\n",
        "\n",
        "The function will evaluate the file, count the separate entries and return the output as an integer.\n",
        "\n",
        "PSEUDOCODE:\n",
        "\n",
        "Define a function called allergy_count that takes as its only input the JSON file, ALLERGIES_FILE.\n",
        "\n",
        "Open the JSON file as the variable file, load the file, and save it as medical_file.\n",
        "\n",
        "Variable entries will be equal to the medical_file list, entry.\n",
        "\n",
        "Variable number_items is equal to the length of the variable entries.\n",
        "\n",
        "Return the number_items."
      ],
      "metadata": {
        "id": "y3atfTUdj5D_"
      }
    },
    {
      "cell_type": "code",
      "execution_count": 128,
      "metadata": {
        "nbgrader": {
          "grade": false,
          "grade_id": "q1-answer",
          "locked": false,
          "schema_version": 1,
          "solution": true
        },
        "id": "qtlmXDmnJKum"
      },
      "outputs": [],
      "source": [
        "\n",
        "# Put your solution here\n",
        "def allergy_count(ALLERGIES_FILE):\n",
        "\n",
        "    \"\"\"(string) -> int\n",
        "    Function evaluates the file, counts items, and returns an integer\n",
        "\n",
        "    >>> allergy_count('allergies.json')\n",
        "    4\n",
        "    \"\"\"\n",
        "\n",
        "\n",
        "    with open(\"allergies.json\") as file:\n",
        "        medical_file = json.load(file)\n",
        "    #number_items = 0\n",
        "    entries = medical_file['entry']\n",
        "    number_items = len(entries)\n",
        "\n",
        "    return number_items\n",
        "#count = allergy_count(\"allergies.json\")\n",
        "#print(count)\n",
        "\n",
        "\n"
      ]
    },
    {
      "cell_type": "code",
      "execution_count": 129,
      "metadata": {
        "colab": {
          "base_uri": "https://localhost:8080/"
        },
        "id": "Ys6Fj3Y2JKum",
        "outputId": "9e12ad6b-0bfe-4c5b-e3fd-ec1ea922837c"
      },
      "outputs": [
        {
          "output_type": "execute_result",
          "data": {
            "text/plain": [
              "4"
            ]
          },
          "metadata": {},
          "execution_count": 129
        }
      ],
      "source": [
        "allergy_count(ALLERGIES_FILE)"
      ]
    },
    {
      "cell_type": "code",
      "execution_count": 130,
      "metadata": {
        "nbgrader": {
          "grade": true,
          "grade_id": "q1-tests",
          "locked": true,
          "points": 5,
          "schema_version": 1,
          "solution": false
        },
        "id": "7pVHDUtyJKun"
      },
      "outputs": [],
      "source": [
        "assert type(allergy_count(ALLERGIES_FILE)) == int\n",
        "assert allergy_count(ALLERGIES_FILE) == 4"
      ]
    },
    {
      "cell_type": "code",
      "source": [
        "import doctest\n",
        "doctest.run_docstring_examples(allergy_count, globals(), verbose=True)"
      ],
      "metadata": {
        "colab": {
          "base_uri": "https://localhost:8080/"
        },
        "id": "O_eqCQiw_chA",
        "outputId": "95634714-02b6-4b16-e8ce-48ca4834aa14"
      },
      "execution_count": 131,
      "outputs": [
        {
          "output_type": "stream",
          "name": "stdout",
          "text": [
            "Finding tests in NoName\n",
            "Trying:\n",
            "    allergy_count('allergies.json')\n",
            "Expecting:\n",
            "    4\n",
            "ok\n"
          ]
        }
      ]
    },
    {
      "cell_type": "markdown",
      "metadata": {
        "id": "mMBNYdlHJKun"
      },
      "source": [
        "### 30.2 Number of Patients\n",
        "\n",
        "If you dig a little bit deaper into this list of allergies, you'll see that each result has a patient associated with it.  Create a funcation called `patient_count(json_file)` that will count how many unique patients we have in this JSON structure.  "
      ]
    },
    {
      "cell_type": "markdown",
      "source": [
        "Purpose of function & what it will do:\n",
        "\n",
        "The purpose of this function is to count the number of unique patient names in the dictionary of lists of dictionaries.\n",
        "\n",
        "Defined a function called patient_count that has ALLERGIES_FILE as the only input. The input file is a string.\n",
        "\n",
        "The function will evaluate the file, count the number of different patients and return the output as an integer.\n",
        "\n",
        "PSEUDOCODE:\n",
        "\n",
        "Define a function called patient_count that takes as its only input the JSON file, ALLERGIES_FILE.\n",
        "\n",
        "Open the JSON file as the variable file, load the file, and save it as medical_file.\n",
        "\n",
        "Empty variable patient_set will be used to hold the unique names, removing duplicates.\n",
        "\n",
        "For each entry in the medical_file named entry, need to drill down to what specifically we are trying to count.\n",
        "\n",
        "Inside the dictionary of lists named entry, find resource, then patient, then display and save that string as patient_name.\n",
        "\n",
        "Append patient_set with each different name found.\n",
        "\n",
        "Variable number_names is equal to the length of (or number of names in) the patient_set.\n",
        "\n",
        "Return the number_names."
      ],
      "metadata": {
        "id": "gMi1taye2PgR"
      }
    },
    {
      "cell_type": "code",
      "execution_count": 132,
      "metadata": {
        "id": "O7Qov6zLJKun"
      },
      "outputs": [],
      "source": [
        "# Put your solution here\n",
        "def patient_count(ALLERGIES_FILE):\n",
        "\n",
        "    \"\"\"(string) -> int\n",
        "    Function evaluates the file, counts unique patient names, and returns an integer\n",
        "\n",
        "    >>> patient_count('allergies.json')\n",
        "    2\n",
        "    \"\"\"\n",
        "\n",
        "    with open(\"allergies.json\") as file:\n",
        "        medical_file = json.load(file)\n",
        "\n",
        "    #patients = medical_file['entry']\n",
        "    #number_patients = 1\n",
        "    #for key, value in medical_file.items:\n",
        "        #key : value = \"patient : display\"\n",
        "    #if value == value:\n",
        "        #number_patients == number_patients\n",
        "    #else:\n",
        "        #number_patients += 1\n",
        "    #return number_patients\n",
        "\n",
        "#First attmept did not work so I Googled \"how to count names in a file\" which took me to geeksforgeeks.org where they explained that the set() function will automatically remove duplicates while counting unique names.\n",
        "#Then you just need to add it to the set().\n",
        "#In trying to see how to drill down to specific info in JSON file, pg 346 in the optional class book, Matthes, E.\"Python Crash Course- A Hands-On, Project-Based Introduction to Programming\" (2023)\n",
        "#There's an example at the botton of the page that used brackets to get to the info needed, so used brackets to get down to the name. Also saw the brackets in the weekly modules for JSON.\n",
        "\n",
        "    patient_set = set()\n",
        "    for entry in medical_file['entry']:\n",
        "        patient_name = entry['resource']['patient']['display']\n",
        "        patient_set.add(patient_name)\n",
        "\n",
        "    number_names = len(patient_set)\n",
        "\n",
        "    return number_names\n"
      ]
    },
    {
      "cell_type": "code",
      "execution_count": 133,
      "metadata": {
        "colab": {
          "base_uri": "https://localhost:8080/"
        },
        "id": "HktmkxxKJKun",
        "outputId": "dfca5700-4408-4c52-93fe-fc64fee372cb"
      },
      "outputs": [
        {
          "output_type": "execute_result",
          "data": {
            "text/plain": [
              "2"
            ]
          },
          "metadata": {},
          "execution_count": 133
        }
      ],
      "source": [
        "patient_count(ALLERGIES_FILE)"
      ]
    },
    {
      "cell_type": "code",
      "execution_count": 134,
      "metadata": {
        "id": "GA0obqJ7JKun"
      },
      "outputs": [],
      "source": [
        "assert type(patient_count(ALLERGIES_FILE)) == int\n",
        "assert patient_count(ALLERGIES_FILE) == 2"
      ]
    },
    {
      "cell_type": "code",
      "source": [
        "import doctest\n",
        "doctest.run_docstring_examples(patient_count, globals(), verbose=True)"
      ],
      "metadata": {
        "id": "BBkp62KKSazE",
        "outputId": "90674470-9497-41b8-8116-409e1baedcab",
        "colab": {
          "base_uri": "https://localhost:8080/"
        }
      },
      "execution_count": 135,
      "outputs": [
        {
          "output_type": "stream",
          "name": "stdout",
          "text": [
            "Finding tests in NoName\n",
            "Trying:\n",
            "    patient_count('allergies.json')\n",
            "Expecting:\n",
            "    2\n",
            "ok\n"
          ]
        }
      ]
    },
    {
      "cell_type": "markdown",
      "metadata": {
        "id": "WSVgDAgWJKuo"
      },
      "source": [
        "### 30.3 How Many Allergies per Patient\n",
        "\n",
        "Although each entry is a separate allergy, several of them are for the same patient.  Write a function called `allergy_per_patient(json_file)` that counts up how many allergies each patient has.\n"
      ]
    },
    {
      "cell_type": "markdown",
      "source": [
        "Purpose of function & what it will do:\n",
        "\n",
        "The purpose of this function is to count the number of allergies per patient names in the dictionary of lists of dictionaries.\n",
        "\n",
        "Defined a function called allergy_per_patient that has a JSON file, ALLERGIES_FILE, as the only input. The input file is a string.\n",
        "\n",
        "The function will evaluate the file, find the different patients and allergies per patient and return the output as string : integer (patient name: # of allergies).\n",
        "\n",
        "PSEUDOCODE:\n",
        "\n",
        "Define a function called allergy_per_patient that takes as its only input the JSON file, ALLERGIES_FILE.\n",
        "\n",
        "Open the JSON file as the variable file, load the file, and save it as medical_file.\n",
        "\n",
        "Established empty dictionary allergy_number{}.\n",
        "\n",
        "For each entry in the medical_file, need to drill down to what specifically we are trying to count.\n",
        "\n",
        "Inside the dictionary of lists named entry, find resource, then patient, then display to locate the patient's name and save to variable patient_name.\n",
        "\n",
        "If the name in the dictiontary allergy_number[name] is the same, then add one.\n",
        "\n",
        "Otherwise keep allergy_number[name] total at 1.\n",
        "\n",
        "Return the allergy_number count.\n",
        "\n",
        "Established another variable, allergies, for the store the dictionary and used print(f\"...\") to print the patient name and number of allergies for that patient.\n"
      ],
      "metadata": {
        "id": "DNuhDd4sk4Np"
      }
    },
    {
      "cell_type": "code",
      "execution_count": null,
      "metadata": {
        "id": "OCMJrKH5JKuo"
      },
      "outputs": [],
      "source": [
        "# Put your solution here\n",
        "def allergy_per_patient(ALLERGIES_FILE):\n",
        "\n",
        "    \"\"\"(string) -> string : int\n",
        "    Function evaluates the file, counts number of allergies for each patient, and returns the patient name and number of allergies per patient in a dictionary\n",
        "    \"\"\"\n",
        "\n",
        "    with open(\"allergies.json\") as file:\n",
        "        medical_file = json.load(file)\n",
        "\n",
        "    \"\"\"patient_set = set()\n",
        "    allergy_set = set()\n",
        "    for entry in medical_file['entry']:\n",
        "        patient_name = entry['resource']['patient']['display']\n",
        "        patient_set.add(patient_name)\n",
        "    for entry in medical_file['entry']:\n",
        "        allergy = entry['resource']['substance']['text']\n",
        "        allergy_set.add(patient_name)\n",
        "    allergy_number = len(allergy_set)\n",
        "    return patient_set, allergy_number\n",
        "    \"\"\"\n",
        "# first try was super close, tried to use set() again, but didn't return the number of allergies for both names, trying again with an empty dictionary instead of set()...\n",
        "\n",
        "    allergy_number = {}\n",
        "\n",
        "    for entry in medical_file['entry']:\n",
        "         patient_name = entry['resource']['patient']['display']\n",
        "         if patient_name in allergy_number:\n",
        "             allergy_number[patient_name] += 1\n",
        "         else:\n",
        "             allergy_number[patient_name] = 1\n",
        "\n",
        "    return allergy_number\n",
        "    #print(f\"{name}: allergy_count\")- had to Google \"how to use f in print()\" to figure out how to print the answer in proper format which took me back to geeksforgeeks.org. Read section on\n",
        "    #f-strings in Python and also stackoverflow.com had a section on What is print(f\"...\") that was also helpful.\n",
        "\n",
        "allergies = allergy_per_patient(\"allergies.json\")\n",
        "for patient_name, count in allergies.items():\n",
        "    print(f\"{patient_name}: {count}\")\n",
        "\n",
        "   # answer is not in the same order, but not sure how to switch it....opposite of alphabetical maybe. Or maybe least amount of allergies to highest....?\n",
        "\n",
        ""
      ]
    },
    {
      "cell_type": "code",
      "execution_count": 99,
      "metadata": {
        "colab": {
          "base_uri": "https://localhost:8080/"
        },
        "id": "dZmvW1OcJKuo",
        "outputId": "169f8240-bbed-41b1-d6ec-308a68a60917"
      },
      "outputs": [
        {
          "output_type": "execute_result",
          "data": {
            "text/plain": [
              "{'Jason Argonaut': 3, 'Paul Boal': 1}"
            ]
          },
          "metadata": {},
          "execution_count": 99
        }
      ],
      "source": [
        "allergy_per_patient(ALLERGIES_FILE)"
      ]
    },
    {
      "cell_type": "code",
      "execution_count": 100,
      "metadata": {
        "id": "Aex4sX__JKup"
      },
      "outputs": [],
      "source": [
        "assert type(allergy_per_patient(ALLERGIES_FILE)) == dict\n",
        "assert allergy_per_patient(ALLERGIES_FILE) == {'Paul Boal': 1, 'Jason Argonaut': 3}"
      ]
    },
    {
      "cell_type": "markdown",
      "metadata": {
        "nbgrader": {
          "grade": false,
          "grade_id": "q2-question",
          "locked": true,
          "schema_version": 1,
          "solution": false
        },
        "id": "HV6DqTDKJKup"
      },
      "source": [
        "### 30.4 Patient Allergies and Reaction\n",
        "\n",
        "You'll see in the file that each of the items in the `entry` list have several other attributes including a patient name, substance text representation, and a reaction manifestation.  Create a function named `allergy_list(json_file)` that will create an output list that has patient name, allergy, and reaction for each `entry`.  The actual result you should get will be:\n",
        "\n",
        "```python\n",
        "[['Jason Argonaut', 'PENICILLIN G', 'Hives'],\n",
        " ['Paul Boal', 'PENICILLIN G', 'Bruising'],\n",
        " ['Jason Argonaut', 'SHELLFISH-DERIVED PRODUCTS', 'Itching'],\n",
        " ['Jason Argonaut', 'STRAWBERRY', 'Anaphylaxis']]\n",
        "```\n",
        "\n",
        "You'll notice that the reaction and the manifestation of that action are lists.  You only need to capture the first reaction and the first manifestation of the action.  That is, if there is a list of things, just output the first one."
      ]
    },
    {
      "cell_type": "markdown",
      "source": [
        "Purpose of function & what it will do:\n",
        "\n",
        "The purpose of this function is to list each patient as presented in the file, along with their allergy and reaction to that allergy.\n",
        "\n",
        "Defined a function called allergy_list that has a JSON file, ALLERGIES_FILE, as the only input. The input file is a string.\n",
        "\n",
        "The function will evaluate the file, find each patient entry, the allergy for that entry, and the patient's reaction to the allregy listed and return the output as a list per instance of the patient name, name of allergy, and allergy reaction.\n",
        "\n",
        "PSEUDOCODE:\n",
        "\n",
        "Define a function called allergy_list that takes as its only input the JSON file, ALLERGIES_FILE.\n",
        "\n",
        "Open the JSON file as the variable file, load the file, and save it as medical_file.\n",
        "\n",
        "Established empty list named patient_list.\n",
        "\n",
        "For each patient in the medical_file, need to drill down to what specifically we are trying to find.\n",
        "\n",
        "Inside the dictionary of lists named entry, find resource, then patient, then display to locate the patient's name and save to variable patient_name.\n",
        "\n",
        "Inside the dictionary of lists named entry, find resource, then substance, then text to locate the patient's allergy and save to variable allergy_type.\n",
        "\n",
        "Inside the dictionary of lists named entry, find resource, then reaction, then manifestation, then text to locate the patient's allergy reaction and save to variable rxn.\n",
        "\n",
        "Append all three to the list patient_list[].\n",
        "\n",
        "Return the patient_list.\n"
      ],
      "metadata": {
        "id": "hzYOW7y6wNwC"
      }
    },
    {
      "cell_type": "code",
      "execution_count": 149,
      "metadata": {
        "nbgrader": {
          "grade": false,
          "grade_id": "q2-answer",
          "locked": false,
          "schema_version": 1,
          "solution": true
        },
        "id": "zhPWUAZhJKup"
      },
      "outputs": [],
      "source": [
        "# Put your solution here\n",
        "def allergy_list(ALLERGIES_FILE):\n",
        "\n",
        "    \"\"\"(string) -> [string, string, string] as name, allergy, reaction\n",
        "    Function evaluates the file, finds each patient entry, and returns the patient name, the allergy,\n",
        "    and the reaction.\n",
        "    \"\"\"\n",
        "    with open(\"allergies.json\") as file:\n",
        "        medical_file = json.load(file)\n",
        "\n",
        "    patient_list = []\n",
        "\n",
        "    for entry in medical_file['entry']:\n",
        "        patient_name = entry['resource']['patient']['display']\n",
        "        allergy_type = entry['resource']['substance']['text']\n",
        "        rxn = entry['resource']['reaction'][0]['manifestation'][0]['text'] #couldn't just list these like the others, per the instructions the list of lists changed things. Googled \"how to select the correct item in a json file\" which took me to stackoverflow.com which had an example titled \"How to access first element of JSON object array\" which used [0] to choose correct position.\n",
        "        patient_list.append([patient_name, allergy_type, rxn])\n",
        "\n",
        "#patients = allergy_list(\"allergies.json\")\n",
        "#for patient in patients:\n",
        "    #for reaction in patients:\n",
        "        #manifest = reaction['manifestation'][0]['text']\n",
        "    #print(f\"{patient_name}, {allergy_type}, {manifestation}\")\n",
        "    #print([patient[0], patient[1], 'rxn'])\n",
        "\n",
        "    return patient_list"
      ]
    },
    {
      "cell_type": "code",
      "execution_count": 150,
      "metadata": {
        "colab": {
          "base_uri": "https://localhost:8080/"
        },
        "id": "qXBoCcmuJKup",
        "outputId": "863aedb5-ac0f-41e0-b4bd-77de5d98de38"
      },
      "outputs": [
        {
          "output_type": "execute_result",
          "data": {
            "text/plain": [
              "[['Jason Argonaut', 'PENICILLIN G', 'Hives'],\n",
              " ['Jason Argonaut', 'SHELLFISH-DERIVED PRODUCTS', 'Itching'],\n",
              " ['Jason Argonaut', 'STRAWBERRY', 'Anaphylaxis'],\n",
              " ['Paul Boal', 'PENICILLIN G', 'Bruising']]"
            ]
          },
          "metadata": {},
          "execution_count": 150
        }
      ],
      "source": [
        "allergy_list(ALLERGIES_FILE)"
      ]
    },
    {
      "cell_type": "code",
      "execution_count": 151,
      "metadata": {
        "nbgrader": {
          "grade": true,
          "grade_id": "q2-tests",
          "locked": true,
          "points": 10,
          "schema_version": 1,
          "solution": false
        },
        "id": "yuHthfgIJKup"
      },
      "outputs": [],
      "source": [
        "assert allergy_list(ALLERGIES_FILE) == [['Jason Argonaut', 'PENICILLIN G', 'Hives'],\n",
        " ['Jason Argonaut', 'SHELLFISH-DERIVED PRODUCTS', 'Itching'],\n",
        " ['Jason Argonaut', 'STRAWBERRY', 'Anaphylaxis'],\n",
        " ['Paul Boal', 'PENICILLIN G', 'Bruising']]\n"
      ]
    },
    {
      "cell_type": "markdown",
      "metadata": {
        "nbgrader": {
          "grade": false,
          "grade_id": "q3-question",
          "locked": true,
          "schema_version": 1,
          "solution": false
        },
        "id": "x68KVzE1JKup"
      },
      "source": [
        "### 30.5 Allergy Reaction\n",
        "\n",
        "Write a function called `allergy_reaction(json_file,patient,substance)` that takes three parameter and returns the reaction that will happen if the patient takes the specified substance.  You can solve this, in part, by calling your `allergy_list` function inside your new `allergy_reaction` function.\n",
        "\n",
        "If the substance is not found in the allergy list, the function should return None."
      ]
    },
    {
      "cell_type": "markdown",
      "source": [
        "\n",
        "Purpose of function & what it will do:\n",
        "\n",
        "The purpose of this function is to return the patient's reaction to the allergry when given the patient's name, allergy and the file as inputs.\n",
        "\n",
        "Defined a function called allergy_reaction that has a JSON file, ALLERGIES_FILE, the patients name, and the substance they are allergic to as the 3 string inputs.\n",
        "\n",
        "The function will evaluate the file, patient name and substance and return the output as the patient's reaction to that allergy as a string.\n",
        "\n",
        "PSEUDOCODE:\n",
        "\n",
        "\n",
        "Define a function called allergy_reaction that takes as its input the JSON file, patient's name, and allergic substance.\n",
        "\n",
        "Open the JSON file as the variable file, load the file, and save it as medical_file.\n",
        "\n",
        "Established empty list named patient_rxns.\n",
        "\n",
        "For each patient in the medical_file, need to drill down to what specifically we are trying to find.\n",
        "\n",
        "Inside the dictionary of lists named entry, find resource, then patient, then display to locate the patient's name and save to variable patient_name.\n",
        "\n",
        "Inside the dictionary of lists named entry, find resource, then substance, then text to locate the patient's allergy and save to variable allergy_type.\n",
        "\n",
        "Inside the dictionary of lists named entry, find resource, then reaction, then manifestation, then text to locate the patient's allergy reaction and save to variable rxn.\n",
        "\n",
        "If the substance is in the medical_file, return the patient's reaction to it.\n",
        "\n",
        "If the substance is not in the medical_file, return \"None\".\n",
        "\n"
      ],
      "metadata": {
        "id": "76nCFOPLHAWb"
      }
    },
    {
      "cell_type": "code",
      "execution_count": 356,
      "metadata": {
        "nbgrader": {
          "grade": false,
          "grade_id": "q3-answer",
          "locked": false,
          "schema_version": 1,
          "solution": true
        },
        "id": "PAIXX3PfJKup"
      },
      "outputs": [],
      "source": [
        "# Put your solution here\n",
        "\n",
        "def allergy_reaction(ALLERGIES_FILE, patient, substance):\n",
        "#def allergy_reaction(ALLERGIES_FILE, allergy_list(ALLERGIES_FILE)) #could not figure out calling a function in a function\n",
        "#def allergy_reaction(ALLERGIES_FILE, patient_list):\n",
        "\n",
        "    \"\"\"(string, string) -> (string)\n",
        "    Function evaluates the file, and 2 other inputs of patient name and allergy and returns the patient reaction\n",
        "    to that allergy.\n",
        "    \"\"\"\n",
        "    with open(ALLERGIES_FILE) as file:\n",
        "        medical_file = json.load(file)\n",
        "\n",
        "    #patient_rxns = []\n",
        "    #med_file = allergy_list.items\n",
        "\n",
        "    #react = allergy_reaction(ALLERGIES_FILE, patient, substance)\n",
        "    #for patient_name, substance in patient_list.items():\n",
        "\n",
        "    for entry in medical_file['entry']:\n",
        "        patient_name = entry['resource']['patient']['display']\n",
        "        #substance = entry['resource']['substance']['text']\n",
        "        rxn = entry['resource']['reaction'][0]['manifestation'][0]['text']\n",
        "        for substance in medical_file['entry']:\n",
        "              #print(rxn)\n",
        "            if substance not in medical_file['entry']:\n",
        "                rxn == 'None'\n",
        "                print(rxn)\n",
        "            else:\n",
        "                return rxn\n",
        "            #substance = None\n",
        "            #patient_rxns.append([patient_name, substance, rxn])\n",
        "            #return rxn\n",
        "            #print(rxn)\n",
        "        #else:\n",
        "        #for substance not\n",
        "            #substance not in medical_file['entry']\n",
        "            #patient_rxns.append([patient_name, substance, rxn])\n",
        "            #rxn == 'None'\n",
        "\n",
        "            #return rxn\n",
        "\n",
        "        #return patient_rxns\n",
        "        #print(f\"(ALLERGIES_FILE, {patient_name}, {allergy_type}) == {rxn}\")\n",
        "            #return rxn\n",
        "        #I Googled \"how to use not in a for loop\" which took me to stackoverflow.com where I read a section titled \"Using 'not' in a for-loop statement\".....clearly didn't help me :)\n",
        "        #Tried Googling 'how to say if item is in a list in python' which took me to geeksforgeeks.org where I read about 'Check if element exists in list in python' but that did not help either.\n",
        "\n",
        "\n",
        "\n",
        "    #thought I could just print differently. But quotes are not correctly placed like the answer, which likely means I need to redo code to get the proper print result as opposed to\n",
        "    #just having it print in the answer in the right format.\n",
        "\n",
        "#edited code and now my loop is not looping....not sure how to correct this....sure it's an easy fix, but don't see it....apologies...."
      ]
    },
    {
      "cell_type": "code",
      "execution_count": 357,
      "metadata": {
        "colab": {
          "base_uri": "https://localhost:8080/",
          "height": 35
        },
        "id": "jmVrjZzjJKup",
        "outputId": "0a62aa46-b2be-4205-ef56-92c06d232b46"
      },
      "outputs": [
        {
          "output_type": "execute_result",
          "data": {
            "text/plain": [
              "'Hives'"
            ],
            "application/vnd.google.colaboratory.intrinsic+json": {
              "type": "string"
            }
          },
          "metadata": {},
          "execution_count": 357
        }
      ],
      "source": [
        "allergy_reaction(ALLERGIES_FILE, 'Jason Argonaut', 'PENICILLIN G')"
      ]
    },
    {
      "cell_type": "code",
      "source": [
        "allergy_reaction(ALLERGIES_FILE, 'Jason Argonaut', 'STRAWBERRY')"
      ],
      "metadata": {
        "id": "Yz5Win9YE_SQ",
        "outputId": "7c94525c-81a8-4ef8-fc46-ca6d1661a59e",
        "colab": {
          "base_uri": "https://localhost:8080/",
          "height": 35
        }
      },
      "execution_count": 358,
      "outputs": [
        {
          "output_type": "execute_result",
          "data": {
            "text/plain": [
              "'Hives'"
            ],
            "application/vnd.google.colaboratory.intrinsic+json": {
              "type": "string"
            }
          },
          "metadata": {},
          "execution_count": 358
        }
      ]
    },
    {
      "cell_type": "code",
      "execution_count": 250,
      "metadata": {
        "nbgrader": {
          "grade": true,
          "grade_id": "q3-tests",
          "locked": true,
          "points": 5,
          "schema_version": 1,
          "solution": false
        },
        "colab": {
          "base_uri": "https://localhost:8080/",
          "height": 242
        },
        "id": "anP2KwkdJKup",
        "outputId": "ab85358f-6c70-47d9-a6d4-0c1331da6d3c"
      },
      "outputs": [
        {
          "output_type": "error",
          "ename": "AssertionError",
          "evalue": "ignored",
          "traceback": [
            "\u001b[0;31m---------------------------------------------------------------------------\u001b[0m",
            "\u001b[0;31mAssertionError\u001b[0m                            Traceback (most recent call last)",
            "\u001b[0;32m<ipython-input-250-2a5234be0de8>\u001b[0m in \u001b[0;36m<cell line: 2>\u001b[0;34m()\u001b[0m\n\u001b[1;32m      1\u001b[0m \u001b[0;32massert\u001b[0m \u001b[0mallergy_reaction\u001b[0m\u001b[0;34m(\u001b[0m\u001b[0mALLERGIES_FILE\u001b[0m\u001b[0;34m,\u001b[0m \u001b[0;34m'Jason Argonaut'\u001b[0m\u001b[0;34m,\u001b[0m \u001b[0;34m'PENICILLIN G'\u001b[0m\u001b[0;34m)\u001b[0m \u001b[0;34m==\u001b[0m \u001b[0;34m'Hives'\u001b[0m\u001b[0;34m\u001b[0m\u001b[0;34m\u001b[0m\u001b[0m\n\u001b[0;32m----> 2\u001b[0;31m \u001b[0;32massert\u001b[0m \u001b[0mallergy_reaction\u001b[0m\u001b[0;34m(\u001b[0m\u001b[0mALLERGIES_FILE\u001b[0m\u001b[0;34m,\u001b[0m \u001b[0;34m'Jason Argonaut'\u001b[0m\u001b[0;34m,\u001b[0m \u001b[0;34m'SHELLFISH-DERIVED PRODUCTS'\u001b[0m\u001b[0;34m)\u001b[0m \u001b[0;34m==\u001b[0m \u001b[0;34m'Itching'\u001b[0m\u001b[0;34m\u001b[0m\u001b[0;34m\u001b[0m\u001b[0m\n\u001b[0m\u001b[1;32m      3\u001b[0m \u001b[0;32massert\u001b[0m \u001b[0mallergy_reaction\u001b[0m\u001b[0;34m(\u001b[0m\u001b[0mALLERGIES_FILE\u001b[0m\u001b[0;34m,\u001b[0m \u001b[0;34m'Jason Argonaut'\u001b[0m\u001b[0;34m,\u001b[0m \u001b[0;34m'STRAWBERRY'\u001b[0m\u001b[0;34m)\u001b[0m \u001b[0;34m==\u001b[0m \u001b[0;34m'Anaphylaxis'\u001b[0m\u001b[0;34m\u001b[0m\u001b[0;34m\u001b[0m\u001b[0m\n\u001b[1;32m      4\u001b[0m \u001b[0;32massert\u001b[0m \u001b[0mallergy_reaction\u001b[0m\u001b[0;34m(\u001b[0m\u001b[0mALLERGIES_FILE\u001b[0m\u001b[0;34m,\u001b[0m \u001b[0;34m'Jason Argonaut'\u001b[0m\u001b[0;34m,\u001b[0m \u001b[0;34m'PENICILLIN'\u001b[0m\u001b[0;34m)\u001b[0m \u001b[0;34m==\u001b[0m \u001b[0;32mNone\u001b[0m\u001b[0;34m\u001b[0m\u001b[0;34m\u001b[0m\u001b[0m\n\u001b[1;32m      5\u001b[0m \u001b[0;32massert\u001b[0m \u001b[0mallergy_reaction\u001b[0m\u001b[0;34m(\u001b[0m\u001b[0mALLERGIES_FILE\u001b[0m\u001b[0;34m,\u001b[0m \u001b[0;34m'Paul Boal'\u001b[0m\u001b[0;34m,\u001b[0m \u001b[0;34m'PENICILLIN G'\u001b[0m\u001b[0;34m)\u001b[0m \u001b[0;34m==\u001b[0m \u001b[0;34m'Bruising'\u001b[0m\u001b[0;34m\u001b[0m\u001b[0;34m\u001b[0m\u001b[0m\n",
            "\u001b[0;31mAssertionError\u001b[0m: "
          ]
        }
      ],
      "source": [
        "assert allergy_reaction(ALLERGIES_FILE, 'Jason Argonaut', 'PENICILLIN G') == 'Hives'\n",
        "assert allergy_reaction(ALLERGIES_FILE, 'Jason Argonaut', 'SHELLFISH-DERIVED PRODUCTS') == 'Itching'\n",
        "assert allergy_reaction(ALLERGIES_FILE, 'Jason Argonaut', 'STRAWBERRY') == 'Anaphylaxis'\n",
        "assert allergy_reaction(ALLERGIES_FILE, 'Jason Argonaut', 'PENICILLIN') == None\n",
        "assert allergy_reaction(ALLERGIES_FILE, 'Paul Boal', 'PENICILLIN G') == 'Bruising'"
      ]
    },
    {
      "cell_type": "markdown",
      "metadata": {
        "id": "Ri_yw90pJKuq"
      },
      "source": [
        "---\n",
        "\n",
        "## Check your work above\n",
        "\n",
        "If you didn't get them all correct, take a few minutes to think through those that aren't correct.\n",
        "\n",
        "\n",
        "## Submitting Your Work\n",
        "\n",
        "In order to submit your work, you'll need to save this notebook file back to GitHub.  To do that in Google Colab:\n",
        "1. File -> Save a Copy in GitHub\n",
        "2. Make sure your HDS5210 repository is selected\n",
        "3. Make sure the file name includes the week number like this: `week06/week06_assignment_2.ipynb`\n",
        "4. Add a commit message that means something\n",
        "\n",
        "**Be sure week names are lowercase and use a two digit week number!!**\n",
        "\n",
        "**Be sure you use the same file name provided by the instructor!!**\n",
        "\n"
      ]
    }
  ],
  "metadata": {
    "celltoolbar": "Create Assignment",
    "kernelspec": {
      "display_name": "Python 3",
      "language": "python",
      "name": "python3"
    },
    "language_info": {
      "codemirror_mode": {
        "name": "ipython",
        "version": 3
      },
      "file_extension": ".py",
      "mimetype": "text/x-python",
      "name": "python",
      "nbconvert_exporter": "python",
      "pygments_lexer": "ipython3",
      "version": "3.9.16"
    },
    "colab": {
      "provenance": [],
      "include_colab_link": true
    }
  },
  "nbformat": 4,
  "nbformat_minor": 0
}