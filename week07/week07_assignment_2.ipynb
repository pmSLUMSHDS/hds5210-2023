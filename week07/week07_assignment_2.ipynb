{
  "cells": [
    {
      "cell_type": "markdown",
      "metadata": {
        "id": "view-in-github",
        "colab_type": "text"
      },
      "source": [
        "<a href=\"https://colab.research.google.com/github/pmSLUMSHDS/hds5210-2023/blob/main/week07/week07_assignment_2.ipynb\" target=\"_parent\"><img src=\"https://colab.research.google.com/assets/colab-badge.svg\" alt=\"Open In Colab\"/></a>"
      ]
    },
    {
      "cell_type": "markdown",
      "metadata": {
        "id": "hk66yIFbUOgt"
      },
      "source": [
        "# Week 7 Assignment\n",
        "\n",
        "We've been working with different types of data structures in Python (dictionary, list, etc), how those are represented in JSON documents, and how to write code to access specific data elements. In this week's assignment, you will need to create your own JSON document to store information about yourself and the grades you've received from week 1 to week 4 and the week 6 quiz.  That is, everything you should have received a grade for.  Then you'll need to show me you know how to navigate the JSON in that file.\n",
        "\n",
        "Different from what we've done in the past, you do not have to write any functions or include any docstrings.  Just create some JSON and write some code.\n",
        "\n",
        "---"
      ]
    },
    {
      "cell_type": "markdown",
      "metadata": {
        "id": "sOdJz6FOUOgu"
      },
      "source": [
        "## 7.1 Create a JSON string\n",
        "\n",
        "Create a JSON string that contains your name, email, year you were born, all of the grades you've received back so far, and a comment about what you thought was most challenging on each of those assignments.  This can be any structure you choose, but make sure it uses a dictionary and a list, and has at least two levels of hierarchy.  That is, it can't just be one big long list."
      ]
    },
    {
      "cell_type": "markdown",
      "metadata": {
        "id": "m7KdS99MUOgu"
      },
      "source": [
        "First, explain how your data structure is going to look..."
      ]
    },
    {
      "cell_type": "markdown",
      "metadata": {
        "id": "tuQ8WyNsUOgu"
      },
      "source": [
        "* Put your explanation here in text...\n",
        "\n",
        "PSEUDOCODE:\n",
        "\n",
        "I will start with \"personal\" as the initial dictionary which will have the name, email, and DOB located inside a dictionary.\n",
        "\n",
        "I added a list of favorite things and states lived in to have something to loop over.\n",
        "\n",
        "The next section will be \"grades\" where it will list the grades for each week and comments inside there another dictionary with each week and the grades."
      ]
    },
    {
      "cell_type": "markdown",
      "metadata": {
        "id": "E8zwkHgBUOgu"
      },
      "source": [
        "Then put the actual JSON you've created inside the multiline string below..."
      ]
    },
    {
      "cell_type": "markdown",
      "source": [
        "hds5210 = \"\"\"\n",
        "\n",
        "{\n",
        "  \n",
        "    \"personal\": {\n",
        "\n",
        "        \"my_name\": \"Penelope McCoo\",\n",
        "\n",
        "        \"school_email\": \"pmccoo@slu.edu\",\n",
        "\n",
        "        \"YOB\": \"1970\"\n",
        "\n",
        "    },\n",
        "\n",
        "    \"my_grades\": {\n",
        "\n",
        "        \"week01\": \"5/5\",\n",
        "\n",
        "        \"week02\": \"20.5/20\",\n",
        "\n",
        "        \"week03\": \"19.5/20\",\n",
        "\n",
        "        \"week04\": \"16.5/20\",\n",
        "\n",
        "        \"week05\": \"20/20\",\n",
        "\n",
        "        \"comments\": \"The most challenging part is not being able to ask questions and get immediate answers like in the classroom setting. Waiting for responses when you have limited time available during the week to do the homework but cannot proceed until you've heard back which could be later that day or 2 days from now, that can be very frustrating. Taking this program of classes remotely while working full-time has me questioning several of my life's choices :)\"\n",
        "\n",
        "      }\n",
        "}\n",
        "\"\"\"\n",
        "\n",
        "this was my first go....worked fine, but I forgot the list!! Only bit worth listing is the grades....so need to redo that bit...\n",
        "\n",
        "CHecked the book Matthes, E. Python Crsh Course- A Hands On, Project-Based Introduction to Programming, 3rd edition (2023) pages 105-111 to make sure I had the list of dictionaries vs the dictionaries of lists straight and so I knew which way to do the loop for the next step"
      ],
      "metadata": {
        "id": "oI2pOBvYwuC-"
      }
    },
    {
      "cell_type": "code",
      "execution_count": null,
      "metadata": {
        "id": "but1h8p_UOgv"
      },
      "outputs": [],
      "source": [
        "hds5210 = \"\"\"\n",
        "{\n",
        "    \"personal\": {\n",
        "        \"my_name\": \"Penelope McCoo\",\n",
        "        \"school_email\": \"pmccoo@slu.edu\",\n",
        "        \"YOB\": \"1970\"\n",
        "    },\n",
        "    \"my_grades\": [\n",
        "      {\n",
        "        \"school_week\": \"Week 1\",\n",
        "        \"HDSgrade\": \"5/5\",\n",
        "        },\n",
        "        {\n",
        "        \"school_week\": \"Week 2\",\n",
        "        \"HDSgrade\": \"20.5/20\",\n",
        "        },\n",
        "        {\n",
        "        \"school_week\": \"Week 3\",\n",
        "        \"HDSgrade\": \"19.5/20\",\n",
        "        },\n",
        "        {\n",
        "        \"school_week\": \"Week 4\",\n",
        "        \"HDSgrade\": \"16.5/20\",\n",
        "        },\n",
        "        {\n",
        "        \"school_week\": \"Week 5\",\n",
        "        \"HDSgrade\": \"20/20\"\n",
        "        }\n",
        "    ],\n",
        "    \"comments\": \"The most challenging part is not being able to ask questions and get immediate answers like in the classroom setting. Waiting for responses when you have limited time available during the week to do the homework but cannot proceed until you've heard back which could be later that day or 2 days from now, that can be very frustrating. Taking this program of classes remotely while working full-time has me questioning several of my life's choices :)\"\n",
        "}\n",
        "\"\"\""
      ]
    },
    {
      "cell_type": "markdown",
      "metadata": {
        "id": "tj0NrYN9UOgv"
      },
      "source": [
        "## 7.2 Do something with your JSON\n",
        "\n",
        "Now use Python code to do something with the Json above.  Turn it into English text, but make sure that you use at least one loop to access some dict or list content of your JSON.  Below, I've provided some basic code to read in the string above as JSON and return a Python object.  Your job is to work with that data structure and print out the important information like your name, email, and how you did on each assignment."
      ]
    },
    {
      "cell_type": "markdown",
      "source": [
        "PSEUDOCODE:\n",
        "\n",
        "importing json and saving to variable named info.\n",
        "\n",
        "the next several lines of codes are for drilling down through the json string to get each piece of information, all of which are strings.\n",
        "\n",
        "essentially accessing and saving that info to a variable name, email, birth_year.\n",
        "\n",
        "my_grades is a dictionary in a list, with each week and grade for that week in its own dictionary.\n",
        "\n",
        "Comments is the last section\n",
        "\n",
        "Print 2 statements using the variables to help print the necessary info.\n",
        "\n",
        "for loop is supposed to loop through the grades and print the week and the grade (HDSgrade) for that week (school_week).\n",
        "\n",
        "then the last print statement has the note/comment."
      ],
      "metadata": {
        "id": "xP-Lej6dmDGP"
      }
    },
    {
      "cell_type": "code",
      "execution_count": null,
      "metadata": {
        "id": "fWZBp_Q9UOgv",
        "outputId": "25b0dc48-cfcb-4c36-b655-1b976ade0f66",
        "colab": {
          "base_uri": "https://localhost:8080/",
          "height": 385
        }
      },
      "outputs": [
        {
          "output_type": "error",
          "ename": "JSONDecodeError",
          "evalue": "ignored",
          "traceback": [
            "\u001b[0;31m---------------------------------------------------------------------------\u001b[0m",
            "\u001b[0;31mJSONDecodeError\u001b[0m                           Traceback (most recent call last)",
            "\u001b[0;32m<ipython-input-75-41c7312e6237>\u001b[0m in \u001b[0;36m<cell line: 3>\u001b[0;34m()\u001b[0m\n\u001b[1;32m      1\u001b[0m \u001b[0;32mimport\u001b[0m \u001b[0mjson\u001b[0m\u001b[0;34m\u001b[0m\u001b[0;34m\u001b[0m\u001b[0m\n\u001b[1;32m      2\u001b[0m \u001b[0;34m\u001b[0m\u001b[0m\n\u001b[0;32m----> 3\u001b[0;31m \u001b[0minfo\u001b[0m \u001b[0;34m=\u001b[0m \u001b[0mjson\u001b[0m\u001b[0;34m.\u001b[0m\u001b[0mloads\u001b[0m\u001b[0;34m(\u001b[0m\u001b[0mhds5210\u001b[0m\u001b[0;34m)\u001b[0m\u001b[0;34m\u001b[0m\u001b[0;34m\u001b[0m\u001b[0m\n\u001b[0m\u001b[1;32m      4\u001b[0m \u001b[0;34m\u001b[0m\u001b[0m\n\u001b[1;32m      5\u001b[0m \u001b[0mname\u001b[0m \u001b[0;34m=\u001b[0m \u001b[0minfo\u001b[0m\u001b[0;34m[\u001b[0m\u001b[0;34m\"personal\"\u001b[0m\u001b[0;34m]\u001b[0m\u001b[0;34m[\u001b[0m\u001b[0;34m\"my_name\"\u001b[0m\u001b[0;34m]\u001b[0m\u001b[0;34m\u001b[0m\u001b[0;34m\u001b[0m\u001b[0m\n",
            "\u001b[0;32m/usr/lib/python3.10/json/__init__.py\u001b[0m in \u001b[0;36mloads\u001b[0;34m(s, cls, object_hook, parse_float, parse_int, parse_constant, object_pairs_hook, **kw)\u001b[0m\n\u001b[1;32m    344\u001b[0m             \u001b[0mparse_int\u001b[0m \u001b[0;32mis\u001b[0m \u001b[0;32mNone\u001b[0m \u001b[0;32mand\u001b[0m \u001b[0mparse_float\u001b[0m \u001b[0;32mis\u001b[0m \u001b[0;32mNone\u001b[0m \u001b[0;32mand\u001b[0m\u001b[0;34m\u001b[0m\u001b[0;34m\u001b[0m\u001b[0m\n\u001b[1;32m    345\u001b[0m             parse_constant is None and object_pairs_hook is None and not kw):\n\u001b[0;32m--> 346\u001b[0;31m         \u001b[0;32mreturn\u001b[0m \u001b[0m_default_decoder\u001b[0m\u001b[0;34m.\u001b[0m\u001b[0mdecode\u001b[0m\u001b[0;34m(\u001b[0m\u001b[0ms\u001b[0m\u001b[0;34m)\u001b[0m\u001b[0;34m\u001b[0m\u001b[0;34m\u001b[0m\u001b[0m\n\u001b[0m\u001b[1;32m    347\u001b[0m     \u001b[0;32mif\u001b[0m \u001b[0mcls\u001b[0m \u001b[0;32mis\u001b[0m \u001b[0;32mNone\u001b[0m\u001b[0;34m:\u001b[0m\u001b[0;34m\u001b[0m\u001b[0;34m\u001b[0m\u001b[0m\n\u001b[1;32m    348\u001b[0m         \u001b[0mcls\u001b[0m \u001b[0;34m=\u001b[0m \u001b[0mJSONDecoder\u001b[0m\u001b[0;34m\u001b[0m\u001b[0;34m\u001b[0m\u001b[0m\n",
            "\u001b[0;32m/usr/lib/python3.10/json/decoder.py\u001b[0m in \u001b[0;36mdecode\u001b[0;34m(self, s, _w)\u001b[0m\n\u001b[1;32m    335\u001b[0m \u001b[0;34m\u001b[0m\u001b[0m\n\u001b[1;32m    336\u001b[0m         \"\"\"\n\u001b[0;32m--> 337\u001b[0;31m         \u001b[0mobj\u001b[0m\u001b[0;34m,\u001b[0m \u001b[0mend\u001b[0m \u001b[0;34m=\u001b[0m \u001b[0mself\u001b[0m\u001b[0;34m.\u001b[0m\u001b[0mraw_decode\u001b[0m\u001b[0;34m(\u001b[0m\u001b[0ms\u001b[0m\u001b[0;34m,\u001b[0m \u001b[0midx\u001b[0m\u001b[0;34m=\u001b[0m\u001b[0m_w\u001b[0m\u001b[0;34m(\u001b[0m\u001b[0ms\u001b[0m\u001b[0;34m,\u001b[0m \u001b[0;36m0\u001b[0m\u001b[0;34m)\u001b[0m\u001b[0;34m.\u001b[0m\u001b[0mend\u001b[0m\u001b[0;34m(\u001b[0m\u001b[0;34m)\u001b[0m\u001b[0;34m)\u001b[0m\u001b[0;34m\u001b[0m\u001b[0;34m\u001b[0m\u001b[0m\n\u001b[0m\u001b[1;32m    338\u001b[0m         \u001b[0mend\u001b[0m \u001b[0;34m=\u001b[0m \u001b[0m_w\u001b[0m\u001b[0;34m(\u001b[0m\u001b[0ms\u001b[0m\u001b[0;34m,\u001b[0m \u001b[0mend\u001b[0m\u001b[0;34m)\u001b[0m\u001b[0;34m.\u001b[0m\u001b[0mend\u001b[0m\u001b[0;34m(\u001b[0m\u001b[0;34m)\u001b[0m\u001b[0;34m\u001b[0m\u001b[0;34m\u001b[0m\u001b[0m\n\u001b[1;32m    339\u001b[0m         \u001b[0;32mif\u001b[0m \u001b[0mend\u001b[0m \u001b[0;34m!=\u001b[0m \u001b[0mlen\u001b[0m\u001b[0;34m(\u001b[0m\u001b[0ms\u001b[0m\u001b[0;34m)\u001b[0m\u001b[0;34m:\u001b[0m\u001b[0;34m\u001b[0m\u001b[0;34m\u001b[0m\u001b[0m\n",
            "\u001b[0;32m/usr/lib/python3.10/json/decoder.py\u001b[0m in \u001b[0;36mraw_decode\u001b[0;34m(self, s, idx)\u001b[0m\n\u001b[1;32m    351\u001b[0m         \"\"\"\n\u001b[1;32m    352\u001b[0m         \u001b[0;32mtry\u001b[0m\u001b[0;34m:\u001b[0m\u001b[0;34m\u001b[0m\u001b[0;34m\u001b[0m\u001b[0m\n\u001b[0;32m--> 353\u001b[0;31m             \u001b[0mobj\u001b[0m\u001b[0;34m,\u001b[0m \u001b[0mend\u001b[0m \u001b[0;34m=\u001b[0m \u001b[0mself\u001b[0m\u001b[0;34m.\u001b[0m\u001b[0mscan_once\u001b[0m\u001b[0;34m(\u001b[0m\u001b[0ms\u001b[0m\u001b[0;34m,\u001b[0m \u001b[0midx\u001b[0m\u001b[0;34m)\u001b[0m\u001b[0;34m\u001b[0m\u001b[0;34m\u001b[0m\u001b[0m\n\u001b[0m\u001b[1;32m    354\u001b[0m         \u001b[0;32mexcept\u001b[0m \u001b[0mStopIteration\u001b[0m \u001b[0;32mas\u001b[0m \u001b[0merr\u001b[0m\u001b[0;34m:\u001b[0m\u001b[0;34m\u001b[0m\u001b[0;34m\u001b[0m\u001b[0m\n\u001b[1;32m    355\u001b[0m             \u001b[0;32mraise\u001b[0m \u001b[0mJSONDecodeError\u001b[0m\u001b[0;34m(\u001b[0m\u001b[0;34m\"Expecting value\"\u001b[0m\u001b[0;34m,\u001b[0m \u001b[0ms\u001b[0m\u001b[0;34m,\u001b[0m \u001b[0merr\u001b[0m\u001b[0;34m.\u001b[0m\u001b[0mvalue\u001b[0m\u001b[0;34m)\u001b[0m \u001b[0;32mfrom\u001b[0m \u001b[0;32mNone\u001b[0m\u001b[0;34m\u001b[0m\u001b[0;34m\u001b[0m\u001b[0m\n",
            "\u001b[0;31mJSONDecodeError\u001b[0m: Expecting property name enclosed in double quotes: line 12 column 9 (char 224)"
          ]
        }
      ],
      "source": [
        "import json\n",
        "\n",
        "info = json.loads(hds5210)\n",
        "\n",
        "name = info[\"personal\"][\"my_name\"]\n",
        "email = info[\"personal\"][\"school_email\"]\n",
        "birth_year = info[\"personal\"][\"YOB\"]\n",
        "#first_week = info[\"my_grades\"][\"week01\"].....couldn't do it this way once I remembered the list\n",
        "#second_week = info[\"my_grades\"][\"week02\"]\n",
        "#third_week = info[\"my_grades\"][\"week03\"]\n",
        "#fourth_week = info[\"my_grades\"][\"week04\"]\n",
        "#fifth_weeek = info[\"my_grades\"][\"week05\"]\n",
        "grades = info[\"my_grades\"]\n",
        "notes = info[\"comments\"]\n",
        "\n",
        "# Put your code to output a paragraph of English text here\n",
        "\n",
        "print(f\"Howdy doody! My name is {name}. I was born moons ago in {birth_year}, but as you can tell I'm aging gracefully. Should you need to contact me, please use {email}.\")\n",
        "print(\"I am currently in a Master's Program at SLU. My grades for the first few weeks in HDS are as follows:\")\n",
        "#for week, grade in grades.items(): ....needed the 2 inputs for the dictionary, not the list....\n",
        "    #if week != \"comments\":\n",
        "        #print(f\"{week} assignment = {grade}\").....had to redo this part to account for the list I that forgot initially\n",
        "for grade in grades:\n",
        "    week = grade[\"school_week\"]\n",
        "    grade_scored = grade[\"HDSgrade\"]\n",
        "    print(f\"{week}: {grade_scored}\")\n",
        "\n",
        "print(f\"This class is not easy, but what gets to me the most is not the class itself. {notes}\")\n",
        "\n",
        "# code was running fine without the list. Now that I added the list and changed the for loop, it no longer runs properly. Can't see the error."
      ]
    },
    {
      "cell_type": "markdown",
      "metadata": {
        "id": "ek6y0yZNUOgw"
      },
      "source": [
        "## 7.3 Reflect\n",
        "\n",
        "Write a paragraph on any reflections you have. Was this hard? Easy?  What parts were most challenging or easiest? What did you like or dislike about the assignment?  Share whatever important thoughts you have abou this assignment."
      ]
    },
    {
      "cell_type": "markdown",
      "metadata": {
        "id": "BG9dBDhNUOgw"
      },
      "source": [
        "* Put your response here\n",
        "\n",
        "This particular assignment was not as challenging as the others, I'm assuming because of the midterm. No functions is just what I needed this week :) But this class overall was harder than I was expecting, although truth be told I'm not completely sure what I was expecting. I have taken 2 semesters of R and they seemed to elude in those courses that python was a simpler way of doing the same thing. I'm not sure it's easier. As with R, the punctuation is vitally important, and it gets me every time. One little misplaced comma in an otherwise perfectly written line of code and you've got syntax errors for days. And it's not always evident what the problem is so you waste 3 hours....on a comma. Almost funny if it wasn't so sad :)"
      ]
    },
    {
      "cell_type": "markdown",
      "metadata": {
        "id": "d5zmTnYOUOgw"
      },
      "source": [
        "---\n",
        "\n",
        "# Example\n",
        "\n",
        "Below is an example of something similar, but this uses information my and my friend's kids instead of grades."
      ]
    },
    {
      "cell_type": "code",
      "execution_count": null,
      "metadata": {
        "id": "KCUurKn_UOgw",
        "outputId": "5f72f6cc-7e50-4565-835b-4b565505189c",
        "colab": {
          "base_uri": "https://localhost:8080/"
        }
      },
      "outputs": [
        {
          "output_type": "stream",
          "name": "stdout",
          "text": [
            "Hi, my name is Paul. I've got 3 kids. Their names are Ellie, Ada, Teddy.\n",
            "My friend, Anny has 1 kids. That's fewer than me. Their names are 1\n"
          ]
        }
      ],
      "source": [
        "hds5210 = \"\"\"\n",
        "{\n",
        "    \"me\": {\n",
        "        \"name\": \"Paul\",\n",
        "        \"kids\": [\"Ellie\", \"Ada\", \"Teddy\"]\n",
        "    },\n",
        "    \"friend\": {\n",
        "        \"name\": \"Anny\",\n",
        "        \"kids\": [\"Abby\"]\n",
        "    }\n",
        "}\n",
        "\"\"\"\n",
        "\n",
        "import json\n",
        "\n",
        "info = json.loads(hds5210)\n",
        "\n",
        "me = info[\"me\"][\"name\"]\n",
        "my_kids_count = len(info[\"me\"][\"kids\"])\n",
        "kids_list = \", \".join(info[\"me\"][\"kids\"])\n",
        "friend = info[\"friend\"][\"name\"]\n",
        "friends_kid_count = len(info[\"friend\"][\"kids\"])\n",
        "friend_kids = \", \".join(info[\"friend\"][\"kids\"])\n",
        "compare = \"more\" if friends_kid_count > my_kids_count else \"fewer\"\n",
        "\n",
        "print(f\"Hi, my name is {me}. I've got {my_kids_count} kids. Their names are {kids_list}.\")\n",
        "print(f\"My friend, {friend} has {friends_kid_count} kids. That's {compare} than me. Their names are {friends_kid_count}\")"
      ]
    }
  ],
  "metadata": {
    "kernelspec": {
      "display_name": "Python 3",
      "language": "python",
      "name": "python3"
    },
    "language_info": {
      "codemirror_mode": {
        "name": "ipython",
        "version": 3
      },
      "file_extension": ".py",
      "mimetype": "text/x-python",
      "name": "python",
      "nbconvert_exporter": "python",
      "pygments_lexer": "ipython3",
      "version": "3.9.16"
    },
    "colab": {
      "provenance": [],
      "include_colab_link": true
    }
  },
  "nbformat": 4,
  "nbformat_minor": 0
}