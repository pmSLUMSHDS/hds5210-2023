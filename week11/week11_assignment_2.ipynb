{
  "cells": [
    {
      "cell_type": "markdown",
      "metadata": {
        "id": "view-in-github",
        "colab_type": "text"
      },
      "source": [
        "<a href=\"https://colab.research.google.com/github/pmSLUMSHDS/hds5210-2023/blob/main/week11/week11_assignment_2.ipynb\" target=\"_parent\"><img src=\"https://colab.research.google.com/assets/colab-badge.svg\" alt=\"Open In Colab\"/></a>"
      ]
    },
    {
      "cell_type": "markdown",
      "metadata": {
        "id": "H13BXItRo_Fm"
      },
      "source": [
        "# Week 11 Assignment\n",
        "\n",
        "\n",
        "Please do the programming exercise and verify that your code works using the tests, then think about your final project and fill out the questions in the second part.\n",
        "\n",
        "---\n",
        "---"
      ]
    },
    {
      "cell_type": "markdown",
      "metadata": {
        "id": "IYjSgacco_Fo"
      },
      "source": [
        "### 47.1: Filtering and summarizing data\n",
        "\n",
        "For this work, you'll find a data file in `https://hds5210-data.s3.amazonaws.com/complications_all.csv`.\n",
        "\n",
        "Read in the data file and create a variable called `mo_hospitals` that contains a data frame from the `complications_all.csv` file, filtered down to only contain those hospitals from the state of Missouri (MO).\n",
        "\n",
        "Then aggregate that data by hospital into a variable named `mo_summary`.  There are some key fields that we want to summarize:\n",
        "* We want to know the earliest date that each hospital was participating in any program\n",
        "* We want to know the latest date that each hospital stopped participating in any program\n",
        "* We want to know the total number of patients in the denominators of these programs\n",
        "\n",
        "Some things to note:\n",
        "* You will need to convert the `Start Date` and `End Date` to actual datetime fields\n",
        "* You will need to clean up and convert the `Denominator` field to just be numeric - the rule that you should use it to simply remove any records where the `Denominator` is `'Not Available'`\n",
        "\n",
        "\n",
        "The final result of this step should be a new data frame called `mo_summary` that contains one row for each hospital and contains the min start date, max end date, and total denominator.  Use the names `start_date`, `end_date`, and `number` for those columns in `mo_summary`.\n",
        "\n",
        "\n",
        "You do not need to create your code in the form of a function, just make sure your variable names match what I've described above so the tests work."
      ]
    },
    {
      "cell_type": "code",
      "execution_count": null,
      "metadata": {
        "id": "NEWy9RpAo_Fp"
      },
      "outputs": [],
      "source": [
        "import pandas as pd\n",
        "# This is just to show you the name to use for the variable you need to create for this step to pass.\n",
        "all_hospitals = pd.read_csv('https://hds5210-data.s3.amazonaws.com/complications_all.csv')\n"
      ]
    },
    {
      "cell_type": "code",
      "execution_count": null,
      "metadata": {
        "id": "HpSSA9v8o_Fq"
      },
      "outputs": [],
      "source": [
        "# Do you work here and in as many cells as you need to create a variable called `mo_summary` that matches the requirements"
      ]
    },
    {
      "cell_type": "code",
      "execution_count": null,
      "metadata": {
        "id": "3wdazvm7o_Fq"
      },
      "outputs": [],
      "source": [
        "assert(mo_summary['number'].sum() == 1766908)\n",
        "assert(mo_summary['start_date'].min() == pd.Timestamp(2015,4,1))\n",
        "assert(mo_summary['end_date'].max() == pd.Timestamp(2018,6,30))\n",
        "assert(mo_summary.shape == (108,3))\n",
        "assert(mo_summary.loc['BARNES JEWISH HOSPITAL'].number == 131313)\n",
        "assert(mo_summary.loc['BOONE HOSPITAL CENTER'].number == 63099)"
      ]
    },
    {
      "cell_type": "markdown",
      "metadata": {
        "id": "IvqWZ994o_Fq"
      },
      "source": [
        "---\n",
        "\n",
        "### 47.2 Planning your final project\n",
        "\n",
        "You should be thinking about the things we've been learning and how you can apply them to your final project.  Use the rubric to help guid your thinking and then answer the questions below.  This is meant as a guide to help you think through what you will do."
      ]
    },
    {
      "cell_type": "markdown",
      "metadata": {
        "id": "5Ytzo53go_Fq"
      },
      "source": [
        "#### A) Data Access\n",
        "\n",
        "Your project should include data from at least three distinct types of sources.  For example: AWS S3, Relational Databases, Internet, Web Services, local files.  List what data sources you're planning to use."
      ]
    },
    {
      "cell_type": "markdown",
      "metadata": {
        "id": "ISdSnGEko_Fr"
      },
      "source": [
        "**Double-click to enter your answer**\n",
        "\n",
        "Put your answer here\n",
        "\n",
        "Data.CMS.gov\n",
        "\n",
        "Data.gov\n",
        "\n",
        "possibly kaggle.com\n",
        "\n",
        "healthdata.gov\n",
        "\n",
        "telemedicine_use.csv.xls (from https://www.kaggle.com/datasets/jpmiller/telemedicine-usage-in-the-us?select=telemedicine_use.csv)\n",
        "\n",
        "Telehealth-Services-Provided-to-the-Medicaid-and-CHIP-Population.csv (from https://data.medicaid.gov/dataset/651fa253-4dd4-4867-8725-2b5ae1dd5ce9)\n",
        "\n",
        "TMEDTREND_PUBLIC_230821.csv\n",
        "\n",
        "Medicare_Telehealth_Trends_Q1_2023.csv (from https://healthdata.gov/dataset/Medicare-Telehealth-Trends/28sq-uwdv)\n",
        "\n",
        "rows.json (from https://catalog.data.gov/dataset/telemedicine-use-in-the-last-4-weeks-5229c)\n"
      ]
    },
    {
      "cell_type": "markdown",
      "metadata": {
        "id": "q_S4tBVQo_Fr"
      },
      "source": [
        "#### B. Data Formats\n",
        "\n",
        "Your project should include data that comes in different file formats.  For example: HL7, EDI, HTML, CSV, Excel, JSON, XML.  List what data formats you're planning to use."
      ]
    },
    {
      "cell_type": "markdown",
      "metadata": {
        "id": "kzVh1DJso_Fr"
      },
      "source": [
        "**Double-click to enter your answer**\n",
        "\n",
        "Put your answer here\n",
        "\n",
        "HTM\n",
        "\n",
        "CSV\n",
        "\n",
        "Excel"
      ]
    },
    {
      "cell_type": "markdown",
      "source": [],
      "metadata": {
        "id": "Pb_w8i6itz79"
      }
    },
    {
      "cell_type": "markdown",
      "metadata": {
        "id": "WP50hXwio_Fr"
      },
      "source": [
        "#### C. Objective\n",
        "\n",
        "What purpose would your project serve in a real work setting?  Take a couple of paragraphs to write down why this is an interesting product."
      ]
    },
    {
      "cell_type": "markdown",
      "metadata": {
        "id": "N_P5T9xpo_Fr"
      },
      "source": [
        "**Double-click to enter your answer**\n",
        "\n",
        "Put your answer here\n",
        "\n",
        "Currently thinking about the emergence of Telehealth....how that has changed since COVID when it really spiked, is it still as popular, is it improving health outcomes. Are these doctor patient interactions effective? Is it used more by one age group than another or it is used more where there is a shortage of PCPs, so remotely visiting a doctor could be helpful? It is convenient, so maybe that alone could drive numbers up...no driving, no changing clothes, and no scale...the absolute worst part of any doctor visit. What do most people get seen for? I would think that you need the doctor to truly see what it is you are talking about...the lesion or cut or lump....you can't get that through the screen. I could be old-school though. Times are indeed changing.....I could see consulting via FaceTime for their thoughts on if I should continue on to the ER. Are people using telehealth to get that second opinion on whehter whatever they are experiencing is a true emergency....or are they truly being diagnosed with ailments during these virtual visits? Would be interesting to see the numbers on how this new trend is catching on, how it is being utilized, how accurate the diagnoses are, and if it is truly helping patient outcomes."
      ]
    },
    {
      "cell_type": "markdown",
      "metadata": {
        "id": "kAjrwU28o_Fr"
      },
      "source": [
        "\n",
        "\n",
        "---\n",
        "\n",
        "\n",
        "\n",
        "## Submit your work via GitHub as normal\n"
      ]
    }
  ],
  "metadata": {
    "kernelspec": {
      "display_name": "Python 3",
      "language": "python",
      "name": "python3"
    },
    "language_info": {
      "codemirror_mode": {
        "name": "ipython",
        "version": 3
      },
      "file_extension": ".py",
      "mimetype": "text/x-python",
      "name": "python",
      "nbconvert_exporter": "python",
      "pygments_lexer": "ipython3",
      "version": "3.9.16"
    },
    "colab": {
      "provenance": [],
      "include_colab_link": true
    }
  },
  "nbformat": 4,
  "nbformat_minor": 0
}